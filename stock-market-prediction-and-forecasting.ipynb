{
 "cells": [
  {
   "cell_type": "code",
   "execution_count": 1,
   "id": "443f7007",
   "metadata": {
    "_cell_guid": "b1076dfc-b9ad-4769-8c92-a6c4dae69d19",
    "_uuid": "8f2839f25d086af736a60e9eeb907d3b93b6e0e5",
    "execution": {
     "iopub.execute_input": "2021-09-24T19:10:51.159213Z",
     "iopub.status.busy": "2021-09-24T19:10:51.158556Z",
     "iopub.status.idle": "2021-09-24T19:10:51.176225Z",
     "shell.execute_reply": "2021-09-24T19:10:51.177005Z",
     "shell.execute_reply.started": "2021-09-24T19:08:06.730560Z"
    },
    "papermill": {
     "duration": 0.088395,
     "end_time": "2021-09-24T19:10:51.177401",
     "exception": false,
     "start_time": "2021-09-24T19:10:51.089006",
     "status": "completed"
    },
    "tags": []
   },
   "outputs": [
    {
     "name": "stdout",
     "output_type": "stream",
     "text": [
      "/kaggle/input/dataset/NSE-TATAGLOBAL.csv\n"
     ]
    }
   ],
   "source": [
    "# This Python 3 environment comes with many helpful analytics libraries installed\n",
    "# It is defined by the kaggle/python Docker image: https://github.com/kaggle/docker-python\n",
    "# For example, here's several helpful packages to load\n",
    "\n",
    "import numpy as np # linear algebra\n",
    "import pandas as pd # data processing, CSV file I/O (e.g. pd.read_csv)\n",
    "\n",
    "# Input data files are available in the read-only \"../input/\" directory\n",
    "# For example, running this (by clicking run or pressing Shift+Enter) will list all files under the input directory\n",
    "\n",
    "import os\n",
    "for dirname, _, filenames in os.walk('/kaggle/input'):\n",
    "    for filename in filenames:\n",
    "        print(os.path.join(dirname, filename))\n",
    "\n",
    "# You can write up to 20GB to the current directory (/kaggle/working/) that gets preserved as output when you create a version using \"Save & Run All\" \n",
    "# You can also write temporary files to /kaggle/temp/, but they won't be saved outside of the current session"
   ]
  },
  {
   "cell_type": "markdown",
   "id": "8703238a",
   "metadata": {
    "papermill": {
     "duration": 0.060895,
     "end_time": "2021-09-24T19:10:51.294975",
     "exception": false,
     "start_time": "2021-09-24T19:10:51.234080",
     "status": "completed"
    },
    "tags": []
   },
   "source": [
    "# Importing Libraries "
   ]
  },
  {
   "cell_type": "code",
   "execution_count": 2,
   "id": "76a3dde0",
   "metadata": {
    "execution": {
     "iopub.execute_input": "2021-09-24T19:10:51.421251Z",
     "iopub.status.busy": "2021-09-24T19:10:51.420626Z",
     "iopub.status.idle": "2021-09-24T19:10:52.637121Z",
     "shell.execute_reply": "2021-09-24T19:10:52.636279Z",
     "shell.execute_reply.started": "2021-09-24T19:08:06.747852Z"
    },
    "papermill": {
     "duration": 1.274696,
     "end_time": "2021-09-24T19:10:52.637280",
     "exception": false,
     "start_time": "2021-09-24T19:10:51.362584",
     "status": "completed"
    },
    "tags": []
   },
   "outputs": [],
   "source": [
    "import numpy as np \n",
    "import pandas as pd\n",
    "import matplotlib.pyplot as plt \n",
    "import seaborn as sns \n",
    "from matplotlib.pyplot import figure\n",
    "from sklearn.linear_model import LinearRegression\n",
    "from sklearn.model_selection import train_test_split\n"
   ]
  },
  {
   "cell_type": "code",
   "execution_count": 3,
   "id": "71d7b5d7",
   "metadata": {
    "execution": {
     "iopub.execute_input": "2021-09-24T19:10:52.777345Z",
     "iopub.status.busy": "2021-09-24T19:10:52.776518Z",
     "iopub.status.idle": "2021-09-24T19:10:52.816895Z",
     "shell.execute_reply": "2021-09-24T19:10:52.817379Z",
     "shell.execute_reply.started": "2021-09-24T19:08:06.760804Z"
    },
    "papermill": {
     "duration": 0.101508,
     "end_time": "2021-09-24T19:10:52.817540",
     "exception": false,
     "start_time": "2021-09-24T19:10:52.716032",
     "status": "completed"
    },
    "tags": []
   },
   "outputs": [
    {
     "data": {
      "text/html": [
       "<div>\n",
       "<style scoped>\n",
       "    .dataframe tbody tr th:only-of-type {\n",
       "        vertical-align: middle;\n",
       "    }\n",
       "\n",
       "    .dataframe tbody tr th {\n",
       "        vertical-align: top;\n",
       "    }\n",
       "\n",
       "    .dataframe thead th {\n",
       "        text-align: right;\n",
       "    }\n",
       "</style>\n",
       "<table border=\"1\" class=\"dataframe\">\n",
       "  <thead>\n",
       "    <tr style=\"text-align: right;\">\n",
       "      <th></th>\n",
       "      <th>Date</th>\n",
       "      <th>Open</th>\n",
       "      <th>High</th>\n",
       "      <th>Low</th>\n",
       "      <th>Last</th>\n",
       "      <th>Close</th>\n",
       "      <th>Total Trade Quantity</th>\n",
       "      <th>Turnover (Lacs)</th>\n",
       "    </tr>\n",
       "  </thead>\n",
       "  <tbody>\n",
       "    <tr>\n",
       "      <th>0</th>\n",
       "      <td>2018-09-28</td>\n",
       "      <td>234.05</td>\n",
       "      <td>235.95</td>\n",
       "      <td>230.20</td>\n",
       "      <td>233.50</td>\n",
       "      <td>233.75</td>\n",
       "      <td>3069914</td>\n",
       "      <td>7162.35</td>\n",
       "    </tr>\n",
       "    <tr>\n",
       "      <th>1</th>\n",
       "      <td>2018-09-27</td>\n",
       "      <td>234.55</td>\n",
       "      <td>236.80</td>\n",
       "      <td>231.10</td>\n",
       "      <td>233.80</td>\n",
       "      <td>233.25</td>\n",
       "      <td>5082859</td>\n",
       "      <td>11859.95</td>\n",
       "    </tr>\n",
       "    <tr>\n",
       "      <th>2</th>\n",
       "      <td>2018-09-26</td>\n",
       "      <td>240.00</td>\n",
       "      <td>240.00</td>\n",
       "      <td>232.50</td>\n",
       "      <td>235.00</td>\n",
       "      <td>234.25</td>\n",
       "      <td>2240909</td>\n",
       "      <td>5248.60</td>\n",
       "    </tr>\n",
       "    <tr>\n",
       "      <th>3</th>\n",
       "      <td>2018-09-25</td>\n",
       "      <td>233.30</td>\n",
       "      <td>236.75</td>\n",
       "      <td>232.00</td>\n",
       "      <td>236.25</td>\n",
       "      <td>236.10</td>\n",
       "      <td>2349368</td>\n",
       "      <td>5503.90</td>\n",
       "    </tr>\n",
       "    <tr>\n",
       "      <th>4</th>\n",
       "      <td>2018-09-24</td>\n",
       "      <td>233.55</td>\n",
       "      <td>239.20</td>\n",
       "      <td>230.75</td>\n",
       "      <td>234.00</td>\n",
       "      <td>233.30</td>\n",
       "      <td>3423509</td>\n",
       "      <td>7999.55</td>\n",
       "    </tr>\n",
       "  </tbody>\n",
       "</table>\n",
       "</div>"
      ],
      "text/plain": [
       "         Date    Open    High     Low    Last   Close  Total Trade Quantity  \\\n",
       "0  2018-09-28  234.05  235.95  230.20  233.50  233.75               3069914   \n",
       "1  2018-09-27  234.55  236.80  231.10  233.80  233.25               5082859   \n",
       "2  2018-09-26  240.00  240.00  232.50  235.00  234.25               2240909   \n",
       "3  2018-09-25  233.30  236.75  232.00  236.25  236.10               2349368   \n",
       "4  2018-09-24  233.55  239.20  230.75  234.00  233.30               3423509   \n",
       "\n",
       "   Turnover (Lacs)  \n",
       "0          7162.35  \n",
       "1         11859.95  \n",
       "2          5248.60  \n",
       "3          5503.90  \n",
       "4          7999.55  "
      ]
     },
     "execution_count": 3,
     "metadata": {},
     "output_type": "execute_result"
    }
   ],
   "source": [
    "stock_data= pd.read_csv(\"../input/dataset/NSE-TATAGLOBAL.csv\")\n",
    "stock_data.head()"
   ]
  },
  {
   "cell_type": "code",
   "execution_count": 4,
   "id": "51a35796",
   "metadata": {
    "execution": {
     "iopub.execute_input": "2021-09-24T19:10:52.943300Z",
     "iopub.status.busy": "2021-09-24T19:10:52.932668Z",
     "iopub.status.idle": "2021-09-24T19:10:52.971245Z",
     "shell.execute_reply": "2021-09-24T19:10:52.971752Z",
     "shell.execute_reply.started": "2021-09-24T19:08:06.799801Z"
    },
    "papermill": {
     "duration": 0.099284,
     "end_time": "2021-09-24T19:10:52.971933",
     "exception": false,
     "start_time": "2021-09-24T19:10:52.872649",
     "status": "completed"
    },
    "tags": []
   },
   "outputs": [
    {
     "data": {
      "text/html": [
       "<div>\n",
       "<style scoped>\n",
       "    .dataframe tbody tr th:only-of-type {\n",
       "        vertical-align: middle;\n",
       "    }\n",
       "\n",
       "    .dataframe tbody tr th {\n",
       "        vertical-align: top;\n",
       "    }\n",
       "\n",
       "    .dataframe thead th {\n",
       "        text-align: right;\n",
       "    }\n",
       "</style>\n",
       "<table border=\"1\" class=\"dataframe\">\n",
       "  <thead>\n",
       "    <tr style=\"text-align: right;\">\n",
       "      <th></th>\n",
       "      <th>Open</th>\n",
       "      <th>High</th>\n",
       "      <th>Low</th>\n",
       "      <th>Last</th>\n",
       "      <th>Close</th>\n",
       "      <th>Total Trade Quantity</th>\n",
       "      <th>Turnover (Lacs)</th>\n",
       "    </tr>\n",
       "  </thead>\n",
       "  <tbody>\n",
       "    <tr>\n",
       "      <th>count</th>\n",
       "      <td>2035.000000</td>\n",
       "      <td>2035.000000</td>\n",
       "      <td>2035.000000</td>\n",
       "      <td>2035.000000</td>\n",
       "      <td>2035.00000</td>\n",
       "      <td>2.035000e+03</td>\n",
       "      <td>2035.000000</td>\n",
       "    </tr>\n",
       "    <tr>\n",
       "      <th>mean</th>\n",
       "      <td>149.713735</td>\n",
       "      <td>151.992826</td>\n",
       "      <td>147.293931</td>\n",
       "      <td>149.474251</td>\n",
       "      <td>149.45027</td>\n",
       "      <td>2.335681e+06</td>\n",
       "      <td>3899.980565</td>\n",
       "    </tr>\n",
       "    <tr>\n",
       "      <th>std</th>\n",
       "      <td>48.664509</td>\n",
       "      <td>49.413109</td>\n",
       "      <td>47.931958</td>\n",
       "      <td>48.732570</td>\n",
       "      <td>48.71204</td>\n",
       "      <td>2.091778e+06</td>\n",
       "      <td>4570.767877</td>\n",
       "    </tr>\n",
       "    <tr>\n",
       "      <th>min</th>\n",
       "      <td>81.100000</td>\n",
       "      <td>82.800000</td>\n",
       "      <td>80.000000</td>\n",
       "      <td>81.000000</td>\n",
       "      <td>80.95000</td>\n",
       "      <td>3.961000e+04</td>\n",
       "      <td>37.040000</td>\n",
       "    </tr>\n",
       "    <tr>\n",
       "      <th>25%</th>\n",
       "      <td>120.025000</td>\n",
       "      <td>122.100000</td>\n",
       "      <td>118.300000</td>\n",
       "      <td>120.075000</td>\n",
       "      <td>120.05000</td>\n",
       "      <td>1.146444e+06</td>\n",
       "      <td>1427.460000</td>\n",
       "    </tr>\n",
       "    <tr>\n",
       "      <th>50%</th>\n",
       "      <td>141.500000</td>\n",
       "      <td>143.400000</td>\n",
       "      <td>139.600000</td>\n",
       "      <td>141.100000</td>\n",
       "      <td>141.25000</td>\n",
       "      <td>1.783456e+06</td>\n",
       "      <td>2512.030000</td>\n",
       "    </tr>\n",
       "    <tr>\n",
       "      <th>75%</th>\n",
       "      <td>157.175000</td>\n",
       "      <td>159.400000</td>\n",
       "      <td>155.150000</td>\n",
       "      <td>156.925000</td>\n",
       "      <td>156.90000</td>\n",
       "      <td>2.813594e+06</td>\n",
       "      <td>4539.015000</td>\n",
       "    </tr>\n",
       "    <tr>\n",
       "      <th>max</th>\n",
       "      <td>327.700000</td>\n",
       "      <td>328.750000</td>\n",
       "      <td>321.650000</td>\n",
       "      <td>325.950000</td>\n",
       "      <td>325.75000</td>\n",
       "      <td>2.919102e+07</td>\n",
       "      <td>55755.080000</td>\n",
       "    </tr>\n",
       "  </tbody>\n",
       "</table>\n",
       "</div>"
      ],
      "text/plain": [
       "              Open         High          Low         Last       Close  \\\n",
       "count  2035.000000  2035.000000  2035.000000  2035.000000  2035.00000   \n",
       "mean    149.713735   151.992826   147.293931   149.474251   149.45027   \n",
       "std      48.664509    49.413109    47.931958    48.732570    48.71204   \n",
       "min      81.100000    82.800000    80.000000    81.000000    80.95000   \n",
       "25%     120.025000   122.100000   118.300000   120.075000   120.05000   \n",
       "50%     141.500000   143.400000   139.600000   141.100000   141.25000   \n",
       "75%     157.175000   159.400000   155.150000   156.925000   156.90000   \n",
       "max     327.700000   328.750000   321.650000   325.950000   325.75000   \n",
       "\n",
       "       Total Trade Quantity  Turnover (Lacs)  \n",
       "count          2.035000e+03      2035.000000  \n",
       "mean           2.335681e+06      3899.980565  \n",
       "std            2.091778e+06      4570.767877  \n",
       "min            3.961000e+04        37.040000  \n",
       "25%            1.146444e+06      1427.460000  \n",
       "50%            1.783456e+06      2512.030000  \n",
       "75%            2.813594e+06      4539.015000  \n",
       "max            2.919102e+07     55755.080000  "
      ]
     },
     "execution_count": 4,
     "metadata": {},
     "output_type": "execute_result"
    }
   ],
   "source": [
    "stock_data.describe()"
   ]
  },
  {
   "cell_type": "code",
   "execution_count": 5,
   "id": "77b3c3ef",
   "metadata": {
    "execution": {
     "iopub.execute_input": "2021-09-24T19:10:53.105429Z",
     "iopub.status.busy": "2021-09-24T19:10:53.104680Z",
     "iopub.status.idle": "2021-09-24T19:10:53.113721Z",
     "shell.execute_reply": "2021-09-24T19:10:53.113041Z",
     "shell.execute_reply.started": "2021-09-24T19:08:06.840801Z"
    },
    "papermill": {
     "duration": 0.074079,
     "end_time": "2021-09-24T19:10:53.113888",
     "exception": false,
     "start_time": "2021-09-24T19:10:53.039809",
     "status": "completed"
    },
    "tags": []
   },
   "outputs": [
    {
     "data": {
      "text/plain": [
       "Date                     object\n",
       "Open                    float64\n",
       "High                    float64\n",
       "Low                     float64\n",
       "Last                    float64\n",
       "Close                   float64\n",
       "Total Trade Quantity      int64\n",
       "Turnover (Lacs)         float64\n",
       "dtype: object"
      ]
     },
     "execution_count": 5,
     "metadata": {},
     "output_type": "execute_result"
    }
   ],
   "source": [
    "stock_data.dtypes"
   ]
  },
  {
   "cell_type": "code",
   "execution_count": 6,
   "id": "a2b0492d",
   "metadata": {
    "execution": {
     "iopub.execute_input": "2021-09-24T19:10:53.240409Z",
     "iopub.status.busy": "2021-09-24T19:10:53.239444Z",
     "iopub.status.idle": "2021-09-24T19:10:53.244511Z",
     "shell.execute_reply": "2021-09-24T19:10:53.245122Z",
     "shell.execute_reply.started": "2021-09-24T19:08:06.851884Z"
    },
    "papermill": {
     "duration": 0.065215,
     "end_time": "2021-09-24T19:10:53.245291",
     "exception": false,
     "start_time": "2021-09-24T19:10:53.180076",
     "status": "completed"
    },
    "tags": []
   },
   "outputs": [
    {
     "data": {
      "text/plain": [
       "(2035, 8)"
      ]
     },
     "execution_count": 6,
     "metadata": {},
     "output_type": "execute_result"
    }
   ],
   "source": [
    "stock_data.shape"
   ]
  },
  {
   "cell_type": "code",
   "execution_count": 7,
   "id": "634e4a5a",
   "metadata": {
    "execution": {
     "iopub.execute_input": "2021-09-24T19:10:53.378717Z",
     "iopub.status.busy": "2021-09-24T19:10:53.377754Z",
     "iopub.status.idle": "2021-09-24T19:10:53.392722Z",
     "shell.execute_reply": "2021-09-24T19:10:53.393421Z",
     "shell.execute_reply.started": "2021-09-24T19:08:06.866743Z"
    },
    "papermill": {
     "duration": 0.081844,
     "end_time": "2021-09-24T19:10:53.393664",
     "exception": false,
     "start_time": "2021-09-24T19:10:53.311820",
     "status": "completed"
    },
    "tags": []
   },
   "outputs": [
    {
     "name": "stdout",
     "output_type": "stream",
     "text": [
      "<class 'pandas.core.frame.DataFrame'>\n",
      "RangeIndex: 2035 entries, 0 to 2034\n",
      "Data columns (total 8 columns):\n",
      " #   Column                Non-Null Count  Dtype  \n",
      "---  ------                --------------  -----  \n",
      " 0   Date                  2035 non-null   object \n",
      " 1   Open                  2035 non-null   float64\n",
      " 2   High                  2035 non-null   float64\n",
      " 3   Low                   2035 non-null   float64\n",
      " 4   Last                  2035 non-null   float64\n",
      " 5   Close                 2035 non-null   float64\n",
      " 6   Total Trade Quantity  2035 non-null   int64  \n",
      " 7   Turnover (Lacs)       2035 non-null   float64\n",
      "dtypes: float64(6), int64(1), object(1)\n",
      "memory usage: 127.3+ KB\n"
     ]
    }
   ],
   "source": [
    "stock_data.info()"
   ]
  },
  {
   "cell_type": "code",
   "execution_count": 8,
   "id": "62fdc1cb",
   "metadata": {
    "execution": {
     "iopub.execute_input": "2021-09-24T19:10:53.523881Z",
     "iopub.status.busy": "2021-09-24T19:10:53.522829Z",
     "iopub.status.idle": "2021-09-24T19:10:53.526104Z",
     "shell.execute_reply": "2021-09-24T19:10:53.526570Z",
     "shell.execute_reply.started": "2021-09-24T19:08:06.890269Z"
    },
    "papermill": {
     "duration": 0.06746,
     "end_time": "2021-09-24T19:10:53.526741",
     "exception": false,
     "start_time": "2021-09-24T19:10:53.459281",
     "status": "completed"
    },
    "tags": []
   },
   "outputs": [
    {
     "name": "stdout",
     "output_type": "stream",
     "text": [
      "Index(['Date', 'Open', 'High', 'Low', 'Last', 'Close', 'Total Trade Quantity',\n",
      "       'Turnover (Lacs)'],\n",
      "      dtype='object')\n"
     ]
    }
   ],
   "source": [
    "print(stock_data.columns)"
   ]
  },
  {
   "cell_type": "code",
   "execution_count": 9,
   "id": "b161d8a9",
   "metadata": {
    "execution": {
     "iopub.execute_input": "2021-09-24T19:10:53.651502Z",
     "iopub.status.busy": "2021-09-24T19:10:53.650530Z",
     "iopub.status.idle": "2021-09-24T19:10:53.664428Z",
     "shell.execute_reply": "2021-09-24T19:10:53.665239Z",
     "shell.execute_reply.started": "2021-09-24T19:08:06.904782Z"
    },
    "papermill": {
     "duration": 0.079412,
     "end_time": "2021-09-24T19:10:53.665471",
     "exception": false,
     "start_time": "2021-09-24T19:10:53.586059",
     "status": "completed"
    },
    "tags": []
   },
   "outputs": [
    {
     "name": "stdout",
     "output_type": "stream",
     "text": [
      "<bound method NDFrame.describe of             Date    Open    High     Low    Last   Close  \\\n",
      "0     2018-09-28  234.05  235.95  230.20  233.50  233.75   \n",
      "1     2018-09-27  234.55  236.80  231.10  233.80  233.25   \n",
      "2     2018-09-26  240.00  240.00  232.50  235.00  234.25   \n",
      "3     2018-09-25  233.30  236.75  232.00  236.25  236.10   \n",
      "4     2018-09-24  233.55  239.20  230.75  234.00  233.30   \n",
      "...          ...     ...     ...     ...     ...     ...   \n",
      "2030  2010-07-27  117.60  119.50  112.00  118.80  118.65   \n",
      "2031  2010-07-26  120.10  121.00  117.10  117.10  117.60   \n",
      "2032  2010-07-23  121.80  121.95  120.25  120.35  120.65   \n",
      "2033  2010-07-22  120.30  122.00  120.25  120.75  120.90   \n",
      "2034  2010-07-21  122.10  123.00  121.05  121.10  121.55   \n",
      "\n",
      "      Total Trade Quantity  Turnover (Lacs)  \n",
      "0                  3069914          7162.35  \n",
      "1                  5082859         11859.95  \n",
      "2                  2240909          5248.60  \n",
      "3                  2349368          5503.90  \n",
      "4                  3423509          7999.55  \n",
      "...                    ...              ...  \n",
      "2030                586100           694.98  \n",
      "2031                658440           780.01  \n",
      "2032                281312           340.31  \n",
      "2033                293312           355.17  \n",
      "2034                658666           803.56  \n",
      "\n",
      "[2035 rows x 8 columns]>\n"
     ]
    }
   ],
   "source": [
    "print(stock_data.describe)"
   ]
  },
  {
   "cell_type": "code",
   "execution_count": 10,
   "id": "6384a25e",
   "metadata": {
    "execution": {
     "iopub.execute_input": "2021-09-24T19:10:53.796124Z",
     "iopub.status.busy": "2021-09-24T19:10:53.795347Z",
     "iopub.status.idle": "2021-09-24T19:10:53.799434Z",
     "shell.execute_reply": "2021-09-24T19:10:53.798594Z",
     "shell.execute_reply.started": "2021-09-24T19:08:06.986113Z"
    },
    "papermill": {
     "duration": 0.072928,
     "end_time": "2021-09-24T19:10:53.799625",
     "exception": false,
     "start_time": "2021-09-24T19:10:53.726697",
     "status": "completed"
    },
    "tags": []
   },
   "outputs": [
    {
     "name": "stdout",
     "output_type": "stream",
     "text": [
      "['Open' 'High' 'Low' 'Last' 'Close' 'Total Trade Quantity'\n",
      " 'Turnover (Lacs)']\n"
     ]
    }
   ],
   "source": [
    "#select numeric columns from data \n",
    "stock_data_numeric= stock_data.select_dtypes(include=[np.number])\n",
    "numeric_cols=stock_data_numeric.columns.values\n",
    "print(numeric_cols)"
   ]
  },
  {
   "cell_type": "code",
   "execution_count": 11,
   "id": "d958c57d",
   "metadata": {
    "execution": {
     "iopub.execute_input": "2021-09-24T19:10:53.919244Z",
     "iopub.status.busy": "2021-09-24T19:10:53.918559Z",
     "iopub.status.idle": "2021-09-24T19:10:53.925461Z",
     "shell.execute_reply": "2021-09-24T19:10:53.925976Z",
     "shell.execute_reply.started": "2021-09-24T19:08:06.999534Z"
    },
    "papermill": {
     "duration": 0.067698,
     "end_time": "2021-09-24T19:10:53.926149",
     "exception": false,
     "start_time": "2021-09-24T19:10:53.858451",
     "status": "completed"
    },
    "tags": []
   },
   "outputs": [
    {
     "name": "stdout",
     "output_type": "stream",
     "text": [
      "['Date']\n"
     ]
    }
   ],
   "source": [
    "#select non numeric data from dataset \n",
    "stock_data_non_numeric= stock_data.select_dtypes(exclude=[np.number])\n",
    "non_numeric_cols= stock_data_non_numeric.columns.values\n",
    "print(non_numeric_cols)"
   ]
  },
  {
   "cell_type": "markdown",
   "id": "5f0854f2",
   "metadata": {
    "papermill": {
     "duration": 0.058176,
     "end_time": "2021-09-24T19:10:54.043149",
     "exception": false,
     "start_time": "2021-09-24T19:10:53.984973",
     "status": "completed"
    },
    "tags": []
   },
   "source": [
    "# Now lets check missing data in dataset through heatmap"
   ]
  },
  {
   "cell_type": "code",
   "execution_count": 12,
   "id": "79d2f9d1",
   "metadata": {
    "execution": {
     "iopub.execute_input": "2021-09-24T19:10:54.169044Z",
     "iopub.status.busy": "2021-09-24T19:10:54.168343Z",
     "iopub.status.idle": "2021-09-24T19:10:54.677015Z",
     "shell.execute_reply": "2021-09-24T19:10:54.676513Z",
     "shell.execute_reply.started": "2021-09-24T19:08:07.017726Z"
    },
    "papermill": {
     "duration": 0.574984,
     "end_time": "2021-09-24T19:10:54.677154",
     "exception": false,
     "start_time": "2021-09-24T19:10:54.102170",
     "status": "completed"
    },
    "tags": []
   },
   "outputs": [
    {
     "data": {
      "text/plain": [
       "<AxesSubplot:>"
      ]
     },
     "execution_count": 12,
     "metadata": {},
     "output_type": "execute_result"
    },
    {
     "data": {
      "image/png": "[encoded data removed]",
      "text/plain": [
       "<Figure size 432x288 with 2 Axes>"
      ]
     },
     "metadata": {
      "needs_background": "light"
     },
     "output_type": "display_data"
    }
   ],
   "source": [
    "cols_hm=stock_data.columns[:30]\n",
    "colours=['#000099','#ffff00']\n",
    "sns.heatmap(stock_data[cols_hm].isnull(),cmap=sns.color_palette(colours))"
   ]
  },
  {
   "cell_type": "markdown",
   "id": "67fc8941",
   "metadata": {
    "papermill": {
     "duration": 0.060579,
     "end_time": "2021-09-24T19:10:54.798493",
     "exception": false,
     "start_time": "2021-09-24T19:10:54.737914",
     "status": "completed"
    },
    "tags": []
   },
   "source": [
    "**Finding missing values through percentage list ****"
   ]
  },
  {
   "cell_type": "code",
   "execution_count": 13,
   "id": "7784ab2a",
   "metadata": {
    "execution": {
     "iopub.execute_input": "2021-09-24T19:10:54.925890Z",
     "iopub.status.busy": "2021-09-24T19:10:54.925045Z",
     "iopub.status.idle": "2021-09-24T19:10:54.930442Z",
     "shell.execute_reply": "2021-09-24T19:10:54.931145Z",
     "shell.execute_reply.started": "2021-09-24T19:08:07.550029Z"
    },
    "papermill": {
     "duration": 0.07337,
     "end_time": "2021-09-24T19:10:54.931375",
     "exception": false,
     "start_time": "2021-09-24T19:10:54.858005",
     "status": "completed"
    },
    "tags": []
   },
   "outputs": [
    {
     "name": "stdout",
     "output_type": "stream",
     "text": [
      "Date - 0%\n",
      "Open - 0%\n",
      "High - 0%\n",
      "Low - 0%\n",
      "Last - 0%\n",
      "Close - 0%\n",
      "Total Trade Quantity - 0%\n",
      "Turnover (Lacs) - 0%\n"
     ]
    }
   ],
   "source": [
    "#missing values in dataset through percentage list \n",
    "for col in stock_data.columns:\n",
    "    pct_missing=np.mean(stock_data[col].isnull())\n",
    "    print('{} - {}%'.format(col,round(pct_missing*100)))"
   ]
  },
  {
   "cell_type": "markdown",
   "id": "88b967f5",
   "metadata": {
    "papermill": {
     "duration": 0.059754,
     "end_time": "2021-09-24T19:10:55.051578",
     "exception": false,
     "start_time": "2021-09-24T19:10:54.991824",
     "status": "completed"
    },
    "tags": []
   },
   "source": [
    "This shows that our data don't have missing values in it, since we dont have missing data in our dataset therefore we will not elimate any column or feature from dataset "
   ]
  },
  {
   "cell_type": "code",
   "execution_count": 14,
   "id": "0d15c5e7",
   "metadata": {
    "execution": {
     "iopub.execute_input": "2021-09-24T19:10:55.177413Z",
     "iopub.status.busy": "2021-09-24T19:10:55.176716Z",
     "iopub.status.idle": "2021-09-24T19:10:55.179677Z",
     "shell.execute_reply": "2021-09-24T19:10:55.179175Z",
     "shell.execute_reply.started": "2021-09-24T19:08:07.564481Z"
    },
    "papermill": {
     "duration": 0.06881,
     "end_time": "2021-09-24T19:10:55.179809",
     "exception": false,
     "start_time": "2021-09-24T19:10:55.110999",
     "status": "completed"
    },
    "tags": []
   },
   "outputs": [
    {
     "data": {
      "text/plain": [
       "array(['2018-09-28', '2018-09-27', '2018-09-26', ..., '2010-07-23',\n",
       "       '2010-07-22', '2010-07-21'], dtype=object)"
      ]
     },
     "execution_count": 14,
     "metadata": {},
     "output_type": "execute_result"
    }
   ],
   "source": [
    "stock_data['Date'].unique()"
   ]
  },
  {
   "cell_type": "code",
   "execution_count": 15,
   "id": "07ef1dc4",
   "metadata": {
    "execution": {
     "iopub.execute_input": "2021-09-24T19:10:55.302893Z",
     "iopub.status.busy": "2021-09-24T19:10:55.302279Z",
     "iopub.status.idle": "2021-09-24T19:10:55.310462Z",
     "shell.execute_reply": "2021-09-24T19:10:55.310940Z",
     "shell.execute_reply.started": "2021-09-24T19:08:07.581518Z"
    },
    "papermill": {
     "duration": 0.071052,
     "end_time": "2021-09-24T19:10:55.311116",
     "exception": false,
     "start_time": "2021-09-24T19:10:55.240064",
     "status": "completed"
    },
    "tags": []
   },
   "outputs": [
    {
     "data": {
      "text/plain": [
       "array([234.05, 234.55, 240.  , ..., 118.3 , 117.3 , 120.3 ])"
      ]
     },
     "execution_count": 15,
     "metadata": {},
     "output_type": "execute_result"
    }
   ],
   "source": [
    "stock_data['Open'].unique()"
   ]
  },
  {
   "cell_type": "code",
   "execution_count": 16,
   "id": "5078aa9a",
   "metadata": {
    "execution": {
     "iopub.execute_input": "2021-09-24T19:10:55.438273Z",
     "iopub.status.busy": "2021-09-24T19:10:55.437608Z",
     "iopub.status.idle": "2021-09-24T19:10:55.440623Z",
     "shell.execute_reply": "2021-09-24T19:10:55.440038Z",
     "shell.execute_reply.started": "2021-09-24T19:08:07.593621Z"
    },
    "papermill": {
     "duration": 0.069137,
     "end_time": "2021-09-24T19:10:55.440754",
     "exception": false,
     "start_time": "2021-09-24T19:10:55.371617",
     "status": "completed"
    },
    "tags": []
   },
   "outputs": [
    {
     "data": {
      "text/plain": [
       "array([235.95, 236.8 , 240.  , ..., 121.7 , 121.95, 123.  ])"
      ]
     },
     "execution_count": 16,
     "metadata": {},
     "output_type": "execute_result"
    }
   ],
   "source": [
    "stock_data['High'].unique()"
   ]
  },
  {
   "cell_type": "code",
   "execution_count": 17,
   "id": "6b44f050",
   "metadata": {
    "execution": {
     "iopub.execute_input": "2021-09-24T19:10:55.566114Z",
     "iopub.status.busy": "2021-09-24T19:10:55.565461Z",
     "iopub.status.idle": "2021-09-24T19:10:55.570713Z",
     "shell.execute_reply": "2021-09-24T19:10:55.571316Z",
     "shell.execute_reply.started": "2021-09-24T19:08:07.609376Z"
    },
    "papermill": {
     "duration": 0.069906,
     "end_time": "2021-09-24T19:10:55.571490",
     "exception": false,
     "start_time": "2021-09-24T19:10:55.501584",
     "status": "completed"
    },
    "tags": []
   },
   "outputs": [
    {
     "data": {
      "text/plain": [
       "array([230.2 , 231.1 , 232.5 , ..., 111.55, 113.8 , 117.2 ])"
      ]
     },
     "execution_count": 17,
     "metadata": {},
     "output_type": "execute_result"
    }
   ],
   "source": [
    "stock_data['Low'].unique()"
   ]
  },
  {
   "cell_type": "code",
   "execution_count": 18,
   "id": "e1524a5a",
   "metadata": {
    "execution": {
     "iopub.execute_input": "2021-09-24T19:10:55.706085Z",
     "iopub.status.busy": "2021-09-24T19:10:55.704540Z",
     "iopub.status.idle": "2021-09-24T19:10:55.709071Z",
     "shell.execute_reply": "2021-09-24T19:10:55.709692Z",
     "shell.execute_reply.started": "2021-09-24T19:08:07.624733Z"
    },
    "papermill": {
     "duration": 0.076312,
     "end_time": "2021-09-24T19:10:55.709875",
     "exception": false,
     "start_time": "2021-09-24T19:10:55.633563",
     "status": "completed"
    },
    "tags": []
   },
   "outputs": [
    {
     "data": {
      "text/plain": [
       "array([233.5 , 233.8 , 235.  , ..., 112.05, 113.2 , 121.1 ])"
      ]
     },
     "execution_count": 18,
     "metadata": {},
     "output_type": "execute_result"
    }
   ],
   "source": [
    "stock_data['Last'].unique()"
   ]
  },
  {
   "cell_type": "code",
   "execution_count": 19,
   "id": "98bfe237",
   "metadata": {
    "execution": {
     "iopub.execute_input": "2021-09-24T19:10:55.837590Z",
     "iopub.status.busy": "2021-09-24T19:10:55.836660Z",
     "iopub.status.idle": "2021-09-24T19:10:55.840538Z",
     "shell.execute_reply": "2021-09-24T19:10:55.841092Z",
     "shell.execute_reply.started": "2021-09-24T19:08:07.638402Z"
    },
    "papermill": {
     "duration": 0.070224,
     "end_time": "2021-09-24T19:10:55.841259",
     "exception": false,
     "start_time": "2021-09-24T19:10:55.771035",
     "status": "completed"
    },
    "tags": []
   },
   "outputs": [
    {
     "data": {
      "text/plain": [
       "array([233.75, 233.25, 234.25, ..., 116.5 , 118.3 , 116.6 ])"
      ]
     },
     "execution_count": 19,
     "metadata": {},
     "output_type": "execute_result"
    }
   ],
   "source": [
    "stock_data['Close'].unique()"
   ]
  },
  {
   "cell_type": "code",
   "execution_count": 20,
   "id": "fc0435b7",
   "metadata": {
    "execution": {
     "iopub.execute_input": "2021-09-24T19:10:55.967543Z",
     "iopub.status.busy": "2021-09-24T19:10:55.966948Z",
     "iopub.status.idle": "2021-09-24T19:10:55.971901Z",
     "shell.execute_reply": "2021-09-24T19:10:55.972458Z",
     "shell.execute_reply.started": "2021-09-24T19:08:07.650466Z"
    },
    "papermill": {
     "duration": 0.0696,
     "end_time": "2021-09-24T19:10:55.972627",
     "exception": false,
     "start_time": "2021-09-24T19:10:55.903027",
     "status": "completed"
    },
    "tags": []
   },
   "outputs": [
    {
     "data": {
      "text/plain": [
       "array([3069914, 5082859, 2240909, ...,  281312,  293312,  658666])"
      ]
     },
     "execution_count": 20,
     "metadata": {},
     "output_type": "execute_result"
    }
   ],
   "source": [
    "stock_data['Total Trade Quantity'].unique()"
   ]
  },
  {
   "cell_type": "code",
   "execution_count": 21,
   "id": "d438e846",
   "metadata": {
    "execution": {
     "iopub.execute_input": "2021-09-24T19:10:56.100957Z",
     "iopub.status.busy": "2021-09-24T19:10:56.100298Z",
     "iopub.status.idle": "2021-09-24T19:10:56.106068Z",
     "shell.execute_reply": "2021-09-24T19:10:56.106655Z",
     "shell.execute_reply.started": "2021-09-24T19:08:07.662059Z"
    },
    "papermill": {
     "duration": 0.072285,
     "end_time": "2021-09-24T19:10:56.106823",
     "exception": false,
     "start_time": "2021-09-24T19:10:56.034538",
     "status": "completed"
    },
    "tags": []
   },
   "outputs": [
    {
     "data": {
      "text/plain": [
       "array([ 7162.35, 11859.95,  5248.6 , ...,   340.31,   355.17,   803.56])"
      ]
     },
     "execution_count": 21,
     "metadata": {},
     "output_type": "execute_result"
    }
   ],
   "source": [
    "stock_data['Turnover (Lacs)'].unique()"
   ]
  },
  {
   "cell_type": "markdown",
   "id": "4740f8b9",
   "metadata": {
    "papermill": {
     "duration": 0.063687,
     "end_time": "2021-09-24T19:10:56.232655",
     "exception": false,
     "start_time": "2021-09-24T19:10:56.168968",
     "status": "completed"
    },
    "tags": []
   },
   "source": [
    "# Exploratory Data Analysis "
   ]
  },
  {
   "cell_type": "code",
   "execution_count": 22,
   "id": "718dda56",
   "metadata": {
    "execution": {
     "iopub.execute_input": "2021-09-24T19:10:56.366917Z",
     "iopub.status.busy": "2021-09-24T19:10:56.366123Z",
     "iopub.status.idle": "2021-09-24T19:11:10.978933Z",
     "shell.execute_reply": "2021-09-24T19:11:10.978292Z",
     "shell.execute_reply.started": "2021-09-24T19:08:07.673250Z"
    },
    "papermill": {
     "duration": 14.684414,
     "end_time": "2021-09-24T19:11:10.979071",
     "exception": false,
     "start_time": "2021-09-24T19:10:56.294657",
     "status": "completed"
    },
    "tags": []
   },
   "outputs": [
    {
     "data": {
      "image/png": "[encoded data removed]",
      "text/plain": [
       "<Figure size 432x288 with 1 Axes>"
      ]
     },
     "metadata": {
      "needs_background": "light"
     },
     "output_type": "display_data"
    }
   ],
   "source": [
    "##lets calculate the percentage of High category \n",
    "stock_data.High.value_counts(normalize=True)\n",
    "\n",
    "#plot the graph of perctanges of High category \n",
    "stock_data.High.value_counts(normalize=True).plot.barh()\n",
    "plt.show()"
   ]
  },
  {
   "cell_type": "code",
   "execution_count": 23,
   "id": "52b4d4de",
   "metadata": {
    "execution": {
     "iopub.execute_input": "2021-09-24T19:11:11.110305Z",
     "iopub.status.busy": "2021-09-24T19:11:11.109662Z",
     "iopub.status.idle": "2021-09-24T19:11:11.114518Z",
     "shell.execute_reply": "2021-09-24T19:11:11.115119Z",
     "shell.execute_reply.started": "2021-09-24T19:08:23.234796Z"
    },
    "papermill": {
     "duration": 0.072806,
     "end_time": "2021-09-24T19:11:11.115286",
     "exception": false,
     "start_time": "2021-09-24T19:11:11.042480",
     "status": "completed"
    },
    "tags": []
   },
   "outputs": [
    {
     "data": {
      "text/plain": [
       "Index(['Date', 'Open', 'High', 'Low', 'Last', 'Close', 'Total Trade Quantity',\n",
       "       'Turnover (Lacs)'],\n",
       "      dtype='object')"
      ]
     },
     "execution_count": 23,
     "metadata": {},
     "output_type": "execute_result"
    }
   ],
   "source": [
    "stock_data.columns"
   ]
  },
  {
   "cell_type": "markdown",
   "id": "9f3f617d",
   "metadata": {
    "papermill": {
     "duration": 0.06235,
     "end_time": "2021-09-24T19:11:11.240785",
     "exception": false,
     "start_time": "2021-09-24T19:11:11.178435",
     "status": "completed"
    },
    "tags": []
   },
   "source": [
    "**Since we know that we can't use column names with space in between them to plot various graphs therefore we have renamed them to visualize them better.**"
   ]
  },
  {
   "cell_type": "code",
   "execution_count": 24,
   "id": "12198bc8",
   "metadata": {
    "execution": {
     "iopub.execute_input": "2021-09-24T19:11:11.370638Z",
     "iopub.status.busy": "2021-09-24T19:11:11.369987Z",
     "iopub.status.idle": "2021-09-24T19:11:11.385515Z",
     "shell.execute_reply": "2021-09-24T19:11:11.385019Z",
     "shell.execute_reply.started": "2021-09-24T19:08:23.245626Z"
    },
    "papermill": {
     "duration": 0.08194,
     "end_time": "2021-09-24T19:11:11.385656",
     "exception": false,
     "start_time": "2021-09-24T19:11:11.303716",
     "status": "completed"
    },
    "tags": []
   },
   "outputs": [
    {
     "data": {
      "text/html": [
       "<div>\n",
       "<style scoped>\n",
       "    .dataframe tbody tr th:only-of-type {\n",
       "        vertical-align: middle;\n",
       "    }\n",
       "\n",
       "    .dataframe tbody tr th {\n",
       "        vertical-align: top;\n",
       "    }\n",
       "\n",
       "    .dataframe thead th {\n",
       "        text-align: right;\n",
       "    }\n",
       "</style>\n",
       "<table border=\"1\" class=\"dataframe\">\n",
       "  <thead>\n",
       "    <tr style=\"text-align: right;\">\n",
       "      <th></th>\n",
       "      <th>Date</th>\n",
       "      <th>Open</th>\n",
       "      <th>High</th>\n",
       "      <th>Low</th>\n",
       "      <th>Last</th>\n",
       "      <th>Close</th>\n",
       "      <th>Total_Trade_Quantity</th>\n",
       "      <th>Turnover_Lacs</th>\n",
       "    </tr>\n",
       "  </thead>\n",
       "  <tbody>\n",
       "    <tr>\n",
       "      <th>0</th>\n",
       "      <td>2018-09-28</td>\n",
       "      <td>234.05</td>\n",
       "      <td>235.95</td>\n",
       "      <td>230.20</td>\n",
       "      <td>233.50</td>\n",
       "      <td>233.75</td>\n",
       "      <td>3069914</td>\n",
       "      <td>7162.35</td>\n",
       "    </tr>\n",
       "    <tr>\n",
       "      <th>1</th>\n",
       "      <td>2018-09-27</td>\n",
       "      <td>234.55</td>\n",
       "      <td>236.80</td>\n",
       "      <td>231.10</td>\n",
       "      <td>233.80</td>\n",
       "      <td>233.25</td>\n",
       "      <td>5082859</td>\n",
       "      <td>11859.95</td>\n",
       "    </tr>\n",
       "    <tr>\n",
       "      <th>2</th>\n",
       "      <td>2018-09-26</td>\n",
       "      <td>240.00</td>\n",
       "      <td>240.00</td>\n",
       "      <td>232.50</td>\n",
       "      <td>235.00</td>\n",
       "      <td>234.25</td>\n",
       "      <td>2240909</td>\n",
       "      <td>5248.60</td>\n",
       "    </tr>\n",
       "    <tr>\n",
       "      <th>3</th>\n",
       "      <td>2018-09-25</td>\n",
       "      <td>233.30</td>\n",
       "      <td>236.75</td>\n",
       "      <td>232.00</td>\n",
       "      <td>236.25</td>\n",
       "      <td>236.10</td>\n",
       "      <td>2349368</td>\n",
       "      <td>5503.90</td>\n",
       "    </tr>\n",
       "    <tr>\n",
       "      <th>4</th>\n",
       "      <td>2018-09-24</td>\n",
       "      <td>233.55</td>\n",
       "      <td>239.20</td>\n",
       "      <td>230.75</td>\n",
       "      <td>234.00</td>\n",
       "      <td>233.30</td>\n",
       "      <td>3423509</td>\n",
       "      <td>7999.55</td>\n",
       "    </tr>\n",
       "  </tbody>\n",
       "</table>\n",
       "</div>"
      ],
      "text/plain": [
       "         Date    Open    High     Low    Last   Close  Total_Trade_Quantity  \\\n",
       "0  2018-09-28  234.05  235.95  230.20  233.50  233.75               3069914   \n",
       "1  2018-09-27  234.55  236.80  231.10  233.80  233.25               5082859   \n",
       "2  2018-09-26  240.00  240.00  232.50  235.00  234.25               2240909   \n",
       "3  2018-09-25  233.30  236.75  232.00  236.25  236.10               2349368   \n",
       "4  2018-09-24  233.55  239.20  230.75  234.00  233.30               3423509   \n",
       "\n",
       "   Turnover_Lacs  \n",
       "0        7162.35  \n",
       "1       11859.95  \n",
       "2        5248.60  \n",
       "3        5503.90  \n",
       "4        7999.55  "
      ]
     },
     "execution_count": 24,
     "metadata": {},
     "output_type": "execute_result"
    }
   ],
   "source": [
    "stock_data.columns=['Date','Open','High','Low','Last','Close','Total_Trade_Quantity','Turnover_Lacs']\n",
    "stock_data.head(5)"
   ]
  },
  {
   "cell_type": "code",
   "execution_count": 25,
   "id": "6156eda7",
   "metadata": {
    "execution": {
     "iopub.execute_input": "2021-09-24T19:11:11.517163Z",
     "iopub.status.busy": "2021-09-24T19:11:11.516510Z",
     "iopub.status.idle": "2021-09-24T19:11:26.132902Z",
     "shell.execute_reply": "2021-09-24T19:11:26.132350Z",
     "shell.execute_reply.started": "2021-09-24T19:08:23.271567Z"
    },
    "papermill": {
     "duration": 14.683663,
     "end_time": "2021-09-24T19:11:26.133044",
     "exception": false,
     "start_time": "2021-09-24T19:11:11.449381",
     "status": "completed"
    },
    "tags": []
   },
   "outputs": [
    {
     "data": {
      "image/png": "[encoded data removed]",
      "text/plain": [
       "<Figure size 432x288 with 1 Axes>"
      ]
     },
     "metadata": {
      "needs_background": "light"
     },
     "output_type": "display_data"
    }
   ],
   "source": [
    "##lets calculate the percentage of Low category \n",
    "stock_data.Low.value_counts(normalize=True)\n",
    "\n",
    "#plot the graph of perctanges of Low category \n",
    "stock_data.Low.value_counts(normalize=True).plot.barh()\n",
    "plt.show()"
   ]
  },
  {
   "cell_type": "code",
   "execution_count": 26,
   "id": "47c200d5",
   "metadata": {
    "execution": {
     "iopub.execute_input": "2021-09-24T19:11:26.269119Z",
     "iopub.status.busy": "2021-09-24T19:11:26.268107Z",
     "iopub.status.idle": "2021-09-24T19:11:51.575066Z",
     "shell.execute_reply": "2021-09-24T19:11:51.574472Z",
     "shell.execute_reply.started": "2021-09-24T19:08:38.591921Z"
    },
    "papermill": {
     "duration": 25.377385,
     "end_time": "2021-09-24T19:11:51.575216",
     "exception": false,
     "start_time": "2021-09-24T19:11:26.197831",
     "status": "completed"
    },
    "tags": []
   },
   "outputs": [
    {
     "data": {
      "image/png": "[encoded data removed]",
      "text/plain": [
       "<Figure size 432x288 with 1 Axes>"
      ]
     },
     "metadata": {
      "needs_background": "light"
     },
     "output_type": "display_data"
    }
   ],
   "source": [
    "#lets calculate the percentage of each Total_Trade_Quantity Category \n",
    "stock_data.Total_Trade_Quantity.value_counts(normalize=True)\n",
    "\n",
    "#plot the graph of percentages of Total_Trade_Quantity category \n",
    "stock_data.Total_Trade_Quantity.value_counts(normalize=True).plot.barh()\n",
    "plt.show()"
   ]
  },
  {
   "cell_type": "code",
   "execution_count": 27,
   "id": "3e5bd8c5",
   "metadata": {
    "execution": {
     "iopub.execute_input": "2021-09-24T19:11:51.713453Z",
     "iopub.status.busy": "2021-09-24T19:11:51.712799Z",
     "iopub.status.idle": "2021-09-24T19:12:16.780278Z",
     "shell.execute_reply": "2021-09-24T19:12:16.779772Z",
     "shell.execute_reply.started": "2021-09-24T19:09:06.083682Z"
    },
    "papermill": {
     "duration": 25.140037,
     "end_time": "2021-09-24T19:12:16.780610",
     "exception": false,
     "start_time": "2021-09-24T19:11:51.640573",
     "status": "completed"
    },
    "tags": []
   },
   "outputs": [
    {
     "data": {
      "image/png": "[encoded data removed]",
      "text/plain": [
       "<Figure size 432x288 with 1 Axes>"
      ]
     },
     "metadata": {
      "needs_background": "light"
     },
     "output_type": "display_data"
    }
   ],
   "source": [
    "#lets calculate the percentage of each Turnover_Lacs\n",
    "stock_data.Turnover_Lacs.value_counts(normalize=True)\n",
    "\n",
    "#plot the graph of percentages of Turnover_Lacs category\n",
    "stock_data.Turnover_Lacs.value_counts(normalize=True).plot.barh()\n",
    "plt.show()"
   ]
  },
  {
   "cell_type": "code",
   "execution_count": 28,
   "id": "56eca28f",
   "metadata": {
    "execution": {
     "iopub.execute_input": "2021-09-24T19:12:16.917428Z",
     "iopub.status.busy": "2021-09-24T19:12:16.916780Z",
     "iopub.status.idle": "2021-09-24T19:12:17.510200Z",
     "shell.execute_reply": "2021-09-24T19:12:17.509664Z",
     "shell.execute_reply.started": "2021-09-24T19:09:32.469362Z"
    },
    "papermill": {
     "duration": 0.662648,
     "end_time": "2021-09-24T19:12:17.510392",
     "exception": false,
     "start_time": "2021-09-24T19:12:16.847744",
     "status": "completed"
    },
    "tags": []
   },
   "outputs": [
    {
     "data": {
      "text/plain": [
       "Text(0.5, 1.0, 'Correlation Heatmap')"
      ]
     },
     "execution_count": 28,
     "metadata": {},
     "output_type": "execute_result"
    },
    {
     "data": {
      "image/png": "[encoded data removed]",
      "text/plain": [
       "<Figure size 1152x432 with 2 Axes>"
      ]
     },
     "metadata": {
      "needs_background": "light"
     },
     "output_type": "display_data"
    }
   ],
   "source": [
    "plt.figure(figsize=(16,6))\n",
    "#storing heatmap object in a variable to easily access it whenever required to include more features (such as title )\n",
    "#set the range of values to be displayed on the colormap from -1 to 1 and set the annotatio to true to display correlation values to heatmap \n",
    "heatmap=sns.heatmap(stock_data.corr(),vmin=-1,vmax=1,annot=True)\n",
    "#giving title to the heatmap \n",
    "heatmap.set_title('Correlation Heatmap',fontdict={'fontsize':12},pad=12)"
   ]
  },
  {
   "cell_type": "code",
   "execution_count": 29,
   "id": "e08e7bfa",
   "metadata": {
    "execution": {
     "iopub.execute_input": "2021-09-24T19:12:17.655807Z",
     "iopub.status.busy": "2021-09-24T19:12:17.655140Z",
     "iopub.status.idle": "2021-09-24T19:12:17.985427Z",
     "shell.execute_reply": "2021-09-24T19:12:17.984929Z",
     "shell.execute_reply.started": "2021-09-24T19:09:33.111097Z"
    },
    "papermill": {
     "duration": 0.406965,
     "end_time": "2021-09-24T19:12:17.985567",
     "exception": false,
     "start_time": "2021-09-24T19:12:17.578602",
     "status": "completed"
    },
    "tags": []
   },
   "outputs": [
    {
     "data": {
      "text/plain": [
       "Text(0.5, 1.0, 'Features correlating with Total_Trade_Quantity')"
      ]
     },
     "execution_count": 29,
     "metadata": {},
     "output_type": "execute_result"
    },
    {
     "data": {
      "image/png": "[encoded data removed]",
      "text/plain": [
       "<Figure size 576x864 with 2 Axes>"
      ]
     },
     "metadata": {
      "needs_background": "light"
     },
     "output_type": "display_data"
    }
   ],
   "source": [
    "#featuring correlating with Total_Trade_Quantity\n",
    "plt.figure(figsize=(8,12))\n",
    "heatmap=sns.heatmap(stock_data.corr()[['Total_Trade_Quantity']].sort_values(by='Total_Trade_Quantity',ascending=False),vmin=-1,vmax=1,annot=True,cmap='BrBG')\n",
    "heatmap.set_title('Features correlating with Total_Trade_Quantity',fontdict={'fontsize':18},pad=16)"
   ]
  },
  {
   "cell_type": "code",
   "execution_count": 30,
   "id": "807f200a",
   "metadata": {
    "execution": {
     "iopub.execute_input": "2021-09-24T19:12:18.128779Z",
     "iopub.status.busy": "2021-09-24T19:12:18.128114Z",
     "iopub.status.idle": "2021-09-24T19:12:18.294751Z",
     "shell.execute_reply": "2021-09-24T19:12:18.295283Z",
     "shell.execute_reply.started": "2021-09-24T19:09:33.481490Z"
    },
    "papermill": {
     "duration": 0.240664,
     "end_time": "2021-09-24T19:12:18.295454",
     "exception": false,
     "start_time": "2021-09-24T19:12:18.054790",
     "status": "completed"
    },
    "tags": []
   },
   "outputs": [
    {
     "data": {
      "image/png": "[encoded data removed]",
      "text/plain": [
       "<Figure size 720x504 with 1 Axes>"
      ]
     },
     "metadata": {
      "needs_background": "light"
     },
     "output_type": "display_data"
    }
   ],
   "source": [
    "import matplotlib.pyplot as plt \n",
    "import numpy as np \n",
    "\n",
    "#creating dataset\n",
    "np.random.seed(10)\n",
    "stock_data=np.random.normal(100,20,200)\n",
    "\n",
    "fig=plt.figure(figsize=(10,7))\n",
    "plt.boxplot(stock_data)\n",
    "plt.show()"
   ]
  },
  {
   "cell_type": "code",
   "execution_count": 31,
   "id": "fa59128b",
   "metadata": {
    "execution": {
     "iopub.execute_input": "2021-09-24T19:12:18.438649Z",
     "iopub.status.busy": "2021-09-24T19:12:18.438016Z",
     "iopub.status.idle": "2021-09-24T19:12:18.699932Z",
     "shell.execute_reply": "2021-09-24T19:12:18.698619Z",
     "shell.execute_reply.started": "2021-09-24T19:09:33.662979Z"
    },
    "papermill": {
     "duration": 0.334894,
     "end_time": "2021-09-24T19:12:18.700100",
     "exception": false,
     "start_time": "2021-09-24T19:12:18.365206",
     "status": "completed"
    },
    "tags": []
   },
   "outputs": [
    {
     "data": {
      "text/plain": [
       "[<matplotlib.lines.Line2D at 0x7fb770d64850>]"
      ]
     },
     "execution_count": 31,
     "metadata": {},
     "output_type": "execute_result"
    },
    {
     "data": {
      "image/png": "[encoded data removed]",
      "text/plain": [
       "<Figure size 1152x576 with 1 Axes>"
      ]
     },
     "metadata": {
      "needs_background": "light"
     },
     "output_type": "display_data"
    }
   ],
   "source": [
    "import pandas as pd \n",
    "import matplotlib.pyplot as plt\n",
    "df= pd.read_csv(\"../input/dataset/NSE-TATAGLOBAL.csv\")\n",
    "#we are considering close column as target variable \n",
    "#first we will set index as date\n",
    "df['Date']=pd.to_datetime(df.Date,format='%Y-%m-%d')\n",
    "#df.index=df['Date']\n",
    "\n",
    "#plotting of graph \n",
    "plt.figure(figsize=(16,8))\n",
    "plt.plot(df['Close'],label='Close Price History')\n"
   ]
  },
  {
   "cell_type": "markdown",
   "id": "d0fe3cb6",
   "metadata": {
    "papermill": {
     "duration": 0.071613,
     "end_time": "2021-09-24T19:12:18.844512",
     "exception": false,
     "start_time": "2021-09-24T19:12:18.772899",
     "status": "completed"
    },
    "tags": []
   },
   "source": [
    "we will now plot the graph to predict the estimated values and its accurate values "
   ]
  },
  {
   "cell_type": "code",
   "execution_count": 32,
   "id": "1ce1eace",
   "metadata": {
    "execution": {
     "iopub.execute_input": "2021-09-24T19:12:18.993587Z",
     "iopub.status.busy": "2021-09-24T19:12:18.992902Z",
     "iopub.status.idle": "2021-09-24T19:13:41.170887Z",
     "shell.execute_reply": "2021-09-24T19:13:41.170061Z",
     "shell.execute_reply.started": "2021-09-24T19:09:34.909222Z"
    },
    "papermill": {
     "duration": 82.254648,
     "end_time": "2021-09-24T19:13:41.171144",
     "exception": false,
     "start_time": "2021-09-24T19:12:18.916496",
     "status": "completed"
    },
    "tags": []
   },
   "outputs": [
    {
     "name": "stdout",
     "output_type": "stream",
     "text": [
      "Requirement already satisfied: Tensorflow in /opt/conda/lib/python3.7/site-packages (2.4.1)\r\n",
      "Collecting Tensorflow\r\n",
      "  Downloading tensorflow-2.6.0-cp37-cp37m-manylinux2010_x86_64.whl (458.3 MB)\r\n",
      "\u001b[K     |████████████████████████████████| 458.3 MB 9.3 kB/s \r\n",
      "\u001b[?25hCollecting tensorflow-estimator~=2.6\r\n",
      "  Downloading tensorflow_estimator-2.6.0-py2.py3-none-any.whl (462 kB)\r\n",
      "\u001b[K     |████████████████████████████████| 462 kB 64.7 MB/s \r\n",
      "\u001b[?25hCollecting grpcio<2.0,>=1.37.0\r\n",
      "  Downloading grpcio-1.40.0-cp37-cp37m-manylinux2014_x86_64.whl (4.3 MB)\r\n",
      "\u001b[K     |████████████████████████████████| 4.3 MB 58.4 MB/s \r\n",
      "\u001b[?25hCollecting h5py~=3.1.0\r\n",
      "  Downloading h5py-3.1.0-cp37-cp37m-manylinux1_x86_64.whl (4.0 MB)\r\n",
      "\u001b[K     |████████████████████████████████| 4.0 MB 62.3 MB/s \r\n",
      "\u001b[?25hCollecting gast==0.4.0\r\n",
      "  Downloading gast-0.4.0-py3-none-any.whl (9.8 kB)\r\n",
      "Requirement already satisfied: tensorboard~=2.6 in /opt/conda/lib/python3.7/site-packages (from Tensorflow) (2.6.0)\r\n",
      "Requirement already satisfied: google-pasta~=0.2 in /opt/conda/lib/python3.7/site-packages (from Tensorflow) (0.2.0)\r\n",
      "Requirement already satisfied: absl-py~=0.10 in /opt/conda/lib/python3.7/site-packages (from Tensorflow) (0.12.0)\r\n",
      "Requirement already satisfied: opt-einsum~=3.3.0 in /opt/conda/lib/python3.7/site-packages (from Tensorflow) (3.3.0)\r\n",
      "Requirement already satisfied: wrapt~=1.12.1 in /opt/conda/lib/python3.7/site-packages (from Tensorflow) (1.12.1)\r\n",
      "Requirement already satisfied: wheel~=0.35 in /opt/conda/lib/python3.7/site-packages (from Tensorflow) (0.37.0)\r\n",
      "Collecting clang~=5.0\r\n",
      "  Downloading clang-5.0.tar.gz (30 kB)\r\n",
      "Collecting keras~=2.6\r\n",
      "  Downloading keras-2.6.0-py2.py3-none-any.whl (1.3 MB)\r\n",
      "\u001b[K     |████████████████████████████████| 1.3 MB 60.5 MB/s \r\n",
      "\u001b[?25hRequirement already satisfied: numpy~=1.19.2 in /opt/conda/lib/python3.7/site-packages (from Tensorflow) (1.19.5)\r\n",
      "Requirement already satisfied: keras-preprocessing~=1.1.2 in /opt/conda/lib/python3.7/site-packages (from Tensorflow) (1.1.2)\r\n",
      "Requirement already satisfied: flatbuffers~=1.12.0 in /opt/conda/lib/python3.7/site-packages (from Tensorflow) (1.12)\r\n",
      "Requirement already satisfied: astunparse~=1.6.3 in /opt/conda/lib/python3.7/site-packages (from Tensorflow) (1.6.3)\r\n",
      "Requirement already satisfied: typing-extensions~=3.7.4 in /opt/conda/lib/python3.7/site-packages (from Tensorflow) (3.7.4.3)\r\n",
      "Requirement already satisfied: termcolor~=1.1.0 in /opt/conda/lib/python3.7/site-packages (from Tensorflow) (1.1.0)\r\n",
      "Requirement already satisfied: protobuf>=3.9.2 in /opt/conda/lib/python3.7/site-packages (from Tensorflow) (3.17.3)\r\n",
      "Requirement already satisfied: six~=1.15.0 in /opt/conda/lib/python3.7/site-packages (from Tensorflow) (1.15.0)\r\n",
      "Collecting cached-property\r\n",
      "  Downloading cached_property-1.5.2-py2.py3-none-any.whl (7.6 kB)\r\n",
      "Requirement already satisfied: requests<3,>=2.21.0 in /opt/conda/lib/python3.7/site-packages (from tensorboard~=2.6->Tensorflow) (2.25.1)\r\n",
      "Requirement already satisfied: werkzeug>=0.11.15 in /opt/conda/lib/python3.7/site-packages (from tensorboard~=2.6->Tensorflow) (2.0.1)\r\n",
      "Requirement already satisfied: setuptools>=41.0.0 in /opt/conda/lib/python3.7/site-packages (from tensorboard~=2.6->Tensorflow) (57.4.0)\r\n",
      "Requirement already satisfied: google-auth<2,>=1.6.3 in /opt/conda/lib/python3.7/site-packages (from tensorboard~=2.6->Tensorflow) (1.34.0)\r\n",
      "Requirement already satisfied: tensorboard-data-server<0.7.0,>=0.6.0 in /opt/conda/lib/python3.7/site-packages (from tensorboard~=2.6->Tensorflow) (0.6.1)\r\n",
      "Requirement already satisfied: markdown>=2.6.8 in /opt/conda/lib/python3.7/site-packages (from tensorboard~=2.6->Tensorflow) (3.3.4)\r\n",
      "Requirement already satisfied: google-auth-oauthlib<0.5,>=0.4.1 in /opt/conda/lib/python3.7/site-packages (from tensorboard~=2.6->Tensorflow) (0.4.5)\r\n",
      "Requirement already satisfied: tensorboard-plugin-wit>=1.6.0 in /opt/conda/lib/python3.7/site-packages (from tensorboard~=2.6->Tensorflow) (1.8.0)\r\n",
      "Requirement already satisfied: cachetools<5.0,>=2.0.0 in /opt/conda/lib/python3.7/site-packages (from google-auth<2,>=1.6.3->tensorboard~=2.6->Tensorflow) (4.2.2)\r\n",
      "Requirement already satisfied: pyasn1-modules>=0.2.1 in /opt/conda/lib/python3.7/site-packages (from google-auth<2,>=1.6.3->tensorboard~=2.6->Tensorflow) (0.2.7)\r\n",
      "Requirement already satisfied: rsa<5,>=3.1.4 in /opt/conda/lib/python3.7/site-packages (from google-auth<2,>=1.6.3->tensorboard~=2.6->Tensorflow) (4.7.2)\r\n",
      "Requirement already satisfied: requests-oauthlib>=0.7.0 in /opt/conda/lib/python3.7/site-packages (from google-auth-oauthlib<0.5,>=0.4.1->tensorboard~=2.6->Tensorflow) (1.3.0)\r\n",
      "Requirement already satisfied: importlib-metadata in /opt/conda/lib/python3.7/site-packages (from markdown>=2.6.8->tensorboard~=2.6->Tensorflow) (3.4.0)\r\n",
      "Requirement already satisfied: pyasn1<0.5.0,>=0.4.6 in /opt/conda/lib/python3.7/site-packages (from pyasn1-modules>=0.2.1->google-auth<2,>=1.6.3->tensorboard~=2.6->Tensorflow) (0.4.8)\r\n",
      "Requirement already satisfied: chardet<5,>=3.0.2 in /opt/conda/lib/python3.7/site-packages (from requests<3,>=2.21.0->tensorboard~=2.6->Tensorflow) (4.0.0)\r\n",
      "Requirement already satisfied: idna<3,>=2.5 in /opt/conda/lib/python3.7/site-packages (from requests<3,>=2.21.0->tensorboard~=2.6->Tensorflow) (2.10)\r\n",
      "Requirement already satisfied: urllib3<1.27,>=1.21.1 in /opt/conda/lib/python3.7/site-packages (from requests<3,>=2.21.0->tensorboard~=2.6->Tensorflow) (1.26.6)\r\n",
      "Requirement already satisfied: certifi>=2017.4.17 in /opt/conda/lib/python3.7/site-packages (from requests<3,>=2.21.0->tensorboard~=2.6->Tensorflow) (2021.5.30)\r\n",
      "Requirement already satisfied: oauthlib>=3.0.0 in /opt/conda/lib/python3.7/site-packages (from requests-oauthlib>=0.7.0->google-auth-oauthlib<0.5,>=0.4.1->tensorboard~=2.6->Tensorflow) (3.1.1)\r\n",
      "Requirement already satisfied: zipp>=0.5 in /opt/conda/lib/python3.7/site-packages (from importlib-metadata->markdown>=2.6.8->tensorboard~=2.6->Tensorflow) (3.5.0)\r\n",
      "Building wheels for collected packages: clang\r\n",
      "  Building wheel for clang (setup.py) ... \u001b[?25l-\b \b\\\b \bdone\r\n",
      "\u001b[?25h  Created wheel for clang: filename=clang-5.0-py3-none-any.whl size=30692 sha256=2c288b7e56a551c86baa5da767c93427a9281b8a497ec09c14b77dea16c5f8ff\r\n",
      "  Stored in directory: /root/.cache/pip/wheels/98/91/04/971b4c587cf47ae952b108949b46926f426c02832d120a082a\r\n",
      "Successfully built clang\r\n",
      "Installing collected packages: grpcio, cached-property, tensorflow-estimator, keras, h5py, gast, clang, Tensorflow\r\n",
      "  Attempting uninstall: grpcio\r\n",
      "    Found existing installation: grpcio 1.32.0\r\n",
      "    Uninstalling grpcio-1.32.0:\r\n",
      "      Successfully uninstalled grpcio-1.32.0\r\n",
      "  Attempting uninstall: tensorflow-estimator\r\n",
      "    Found existing installation: tensorflow-estimator 2.4.0\r\n",
      "    Uninstalling tensorflow-estimator-2.4.0:\r\n",
      "      Successfully uninstalled tensorflow-estimator-2.4.0\r\n",
      "  Attempting uninstall: h5py\r\n",
      "    Found existing installation: h5py 2.10.0\r\n",
      "    Uninstalling h5py-2.10.0:\r\n",
      "      Successfully uninstalled h5py-2.10.0\r\n",
      "  Attempting uninstall: gast\r\n",
      "    Found existing installation: gast 0.3.3\r\n",
      "    Uninstalling gast-0.3.3:\r\n",
      "      Successfully uninstalled gast-0.3.3\r\n",
      "  Attempting uninstall: Tensorflow\r\n",
      "    Found existing installation: tensorflow 2.4.1\r\n",
      "    Uninstalling tensorflow-2.4.1:\r\n",
      "      Successfully uninstalled tensorflow-2.4.1\r\n",
      "Successfully installed Tensorflow-2.6.0 cached-property-1.5.2 clang-5.0 gast-0.4.0 grpcio-1.40.0 h5py-3.1.0 keras-2.6.0 tensorflow-estimator-2.6.0\r\n",
      "\u001b[33mWARNING: Running pip as the 'root' user can result in broken permissions and conflicting behaviour with the system package manager. It is recommended to use a virtual environment instead: https://pip.pypa.io/warnings/venv\u001b[0m\r\n"
     ]
    }
   ],
   "source": [
    "!pip install -U Tensorflow "
   ]
  },
  {
   "cell_type": "code",
   "execution_count": 33,
   "id": "e754c77f",
   "metadata": {
    "execution": {
     "iopub.execute_input": "2021-09-24T19:13:41.804228Z",
     "iopub.status.busy": "2021-09-24T19:13:41.803226Z",
     "iopub.status.idle": "2021-09-24T19:13:44.182326Z",
     "shell.execute_reply": "2021-09-24T19:13:44.181660Z",
     "shell.execute_reply.started": "2021-09-24T19:09:44.727023Z"
    },
    "papermill": {
     "duration": 2.693872,
     "end_time": "2021-09-24T19:13:44.182473",
     "exception": false,
     "start_time": "2021-09-24T19:13:41.488601",
     "status": "completed"
    },
    "tags": []
   },
   "outputs": [
    {
     "name": "stderr",
     "output_type": "stream",
     "text": [
      "2021-09-24 19:13:42.069068: W tensorflow/stream_executor/platform/default/dso_loader.cc:64] Could not load dynamic library 'libcudart.so.11.0'; dlerror: libcudart.so.11.0: cannot open shared object file: No such file or directory; LD_LIBRARY_PATH: /opt/conda/lib\n",
      "2021-09-24 19:13:42.069635: I tensorflow/stream_executor/cuda/cudart_stub.cc:29] Ignore above cudart dlerror if you do not have a GPU set up on your machine.\n"
     ]
    }
   ],
   "source": [
    "from pandas_datareader import data\n",
    "import matplotlib.pyplot as plt \n",
    "import pandas as pd \n",
    "import datetime as dt\n",
    "import urllib.request , json \n",
    "import os \n",
    "import numpy as np\n",
    "import tensorflow as tf\n",
    "from sklearn.preprocessing import MinMaxScaler"
   ]
  },
  {
   "cell_type": "code",
   "execution_count": 34,
   "id": "d4c2f6d3",
   "metadata": {
    "execution": {
     "iopub.execute_input": "2021-09-24T19:13:44.793727Z",
     "iopub.status.busy": "2021-09-24T19:13:44.792721Z",
     "iopub.status.idle": "2021-09-24T19:13:44.813160Z",
     "shell.execute_reply": "2021-09-24T19:13:44.813702Z",
     "shell.execute_reply.started": "2021-09-24T19:09:44.736258Z"
    },
    "papermill": {
     "duration": 0.328747,
     "end_time": "2021-09-24T19:13:44.813884",
     "exception": false,
     "start_time": "2021-09-24T19:13:44.485137",
     "status": "completed"
    },
    "tags": []
   },
   "outputs": [
    {
     "data": {
      "text/html": [
       "<div>\n",
       "<style scoped>\n",
       "    .dataframe tbody tr th:only-of-type {\n",
       "        vertical-align: middle;\n",
       "    }\n",
       "\n",
       "    .dataframe tbody tr th {\n",
       "        vertical-align: top;\n",
       "    }\n",
       "\n",
       "    .dataframe thead th {\n",
       "        text-align: right;\n",
       "    }\n",
       "</style>\n",
       "<table border=\"1\" class=\"dataframe\">\n",
       "  <thead>\n",
       "    <tr style=\"text-align: right;\">\n",
       "      <th></th>\n",
       "      <th>Date</th>\n",
       "      <th>Open</th>\n",
       "      <th>High</th>\n",
       "      <th>Low</th>\n",
       "      <th>Last</th>\n",
       "      <th>Close</th>\n",
       "      <th>Total Trade Quantity</th>\n",
       "      <th>Turnover (Lacs)</th>\n",
       "    </tr>\n",
       "  </thead>\n",
       "  <tbody>\n",
       "    <tr>\n",
       "      <th>2034</th>\n",
       "      <td>2010-07-21</td>\n",
       "      <td>122.1</td>\n",
       "      <td>123.00</td>\n",
       "      <td>121.05</td>\n",
       "      <td>121.10</td>\n",
       "      <td>121.55</td>\n",
       "      <td>658666</td>\n",
       "      <td>803.56</td>\n",
       "    </tr>\n",
       "    <tr>\n",
       "      <th>2033</th>\n",
       "      <td>2010-07-22</td>\n",
       "      <td>120.3</td>\n",
       "      <td>122.00</td>\n",
       "      <td>120.25</td>\n",
       "      <td>120.75</td>\n",
       "      <td>120.90</td>\n",
       "      <td>293312</td>\n",
       "      <td>355.17</td>\n",
       "    </tr>\n",
       "    <tr>\n",
       "      <th>2032</th>\n",
       "      <td>2010-07-23</td>\n",
       "      <td>121.8</td>\n",
       "      <td>121.95</td>\n",
       "      <td>120.25</td>\n",
       "      <td>120.35</td>\n",
       "      <td>120.65</td>\n",
       "      <td>281312</td>\n",
       "      <td>340.31</td>\n",
       "    </tr>\n",
       "    <tr>\n",
       "      <th>2031</th>\n",
       "      <td>2010-07-26</td>\n",
       "      <td>120.1</td>\n",
       "      <td>121.00</td>\n",
       "      <td>117.10</td>\n",
       "      <td>117.10</td>\n",
       "      <td>117.60</td>\n",
       "      <td>658440</td>\n",
       "      <td>780.01</td>\n",
       "    </tr>\n",
       "    <tr>\n",
       "      <th>2030</th>\n",
       "      <td>2010-07-27</td>\n",
       "      <td>117.6</td>\n",
       "      <td>119.50</td>\n",
       "      <td>112.00</td>\n",
       "      <td>118.80</td>\n",
       "      <td>118.65</td>\n",
       "      <td>586100</td>\n",
       "      <td>694.98</td>\n",
       "    </tr>\n",
       "  </tbody>\n",
       "</table>\n",
       "</div>"
      ],
      "text/plain": [
       "           Date   Open    High     Low    Last   Close  Total Trade Quantity  \\\n",
       "2034 2010-07-21  122.1  123.00  121.05  121.10  121.55                658666   \n",
       "2033 2010-07-22  120.3  122.00  120.25  120.75  120.90                293312   \n",
       "2032 2010-07-23  121.8  121.95  120.25  120.35  120.65                281312   \n",
       "2031 2010-07-26  120.1  121.00  117.10  117.10  117.60                658440   \n",
       "2030 2010-07-27  117.6  119.50  112.00  118.80  118.65                586100   \n",
       "\n",
       "      Turnover (Lacs)  \n",
       "2034           803.56  \n",
       "2033           355.17  \n",
       "2032           340.31  \n",
       "2031           780.01  \n",
       "2030           694.98  "
      ]
     },
     "execution_count": 34,
     "metadata": {},
     "output_type": "execute_result"
    }
   ],
   "source": [
    "df=df.sort_values('Date')\n",
    "df.head()"
   ]
  },
  {
   "cell_type": "code",
   "execution_count": 35,
   "id": "9d6e1746",
   "metadata": {
    "execution": {
     "iopub.execute_input": "2021-09-24T19:13:45.517256Z",
     "iopub.status.busy": "2021-09-24T19:13:45.506354Z",
     "iopub.status.idle": "2021-09-24T19:13:45.741186Z",
     "shell.execute_reply": "2021-09-24T19:13:45.741682Z",
     "shell.execute_reply.started": "2021-09-24T19:09:44.767200Z"
    },
    "papermill": {
     "duration": 0.549218,
     "end_time": "2021-09-24T19:13:45.741987",
     "exception": false,
     "start_time": "2021-09-24T19:13:45.192769",
     "status": "completed"
    },
    "tags": []
   },
   "outputs": [
    {
     "data": {
      "image/png": "[encoded data removed]",
      "text/plain": [
       "<Figure size 1296x648 with 1 Axes>"
      ]
     },
     "metadata": {
      "needs_background": "light"
     },
     "output_type": "display_data"
    }
   ],
   "source": [
    "plt.figure(figsize=(18,9))\n",
    "plt.plot(range(df.shape[0]),(df['Low']+df['High'])/2.0)\n",
    "plt.xticks(range(0,df.shape[0],500),df['Date'].loc[::500],rotation=45)\n",
    "plt.xlabel('Date',fontsize=18)\n",
    "plt.ylabel('Mid price',fontsize=18)\n",
    "plt.show()"
   ]
  },
  {
   "cell_type": "code",
   "execution_count": 36,
   "id": "3e35bd26",
   "metadata": {
    "execution": {
     "iopub.execute_input": "2021-09-24T19:13:46.363563Z",
     "iopub.status.busy": "2021-09-24T19:13:46.357200Z",
     "iopub.status.idle": "2021-09-24T19:13:46.368723Z",
     "shell.execute_reply": "2021-09-24T19:13:46.367748Z",
     "shell.execute_reply.started": "2021-09-24T19:09:45.035624Z"
    },
    "papermill": {
     "duration": 0.316899,
     "end_time": "2021-09-24T19:13:46.368881",
     "exception": false,
     "start_time": "2021-09-24T19:13:46.051982",
     "status": "completed"
    },
    "tags": []
   },
   "outputs": [
    {
     "name": "stdout",
     "output_type": "stream",
     "text": [
      "0       121.55\n",
      "1       120.90\n",
      "2       120.65\n",
      "3       117.60\n",
      "4       118.65\n",
      "         ...  \n",
      "2030    233.30\n",
      "2031    236.10\n",
      "2032    234.25\n",
      "2033    233.25\n",
      "2034    233.75\n",
      "Name: Close, Length: 2035, dtype: float64\n"
     ]
    }
   ],
   "source": [
    "df1=df.reset_index()['Close']\n",
    "print(df1)"
   ]
  },
  {
   "cell_type": "markdown",
   "id": "0a366ee5",
   "metadata": {
    "papermill": {
     "duration": 0.306871,
     "end_time": "2021-09-24T19:13:46.979448",
     "exception": false,
     "start_time": "2021-09-24T19:13:46.672577",
     "status": "completed"
    },
    "tags": []
   },
   "source": [
    "as we know that close is our target column therefore we will plot the graph against it \n"
   ]
  },
  {
   "cell_type": "code",
   "execution_count": 37,
   "id": "4e8f686d",
   "metadata": {
    "execution": {
     "iopub.execute_input": "2021-09-24T19:13:47.599399Z",
     "iopub.status.busy": "2021-09-24T19:13:47.598167Z",
     "iopub.status.idle": "2021-09-24T19:13:47.998848Z",
     "shell.execute_reply": "2021-09-24T19:13:47.999374Z",
     "shell.execute_reply.started": "2021-09-24T19:09:45.048598Z"
    },
    "papermill": {
     "duration": 0.712378,
     "end_time": "2021-09-24T19:13:47.999545",
     "exception": false,
     "start_time": "2021-09-24T19:13:47.287167",
     "status": "completed"
    },
    "tags": []
   },
   "outputs": [
    {
     "data": {
      "text/plain": [
       "[<matplotlib.lines.Line2D at 0x7fb76fc25b10>]"
      ]
     },
     "execution_count": 37,
     "metadata": {},
     "output_type": "execute_result"
    },
    {
     "data": {
      "image/png": "[encoded data removed]",
      "text/plain": [
       "<Figure size 432x288 with 1 Axes>"
      ]
     },
     "metadata": {
      "needs_background": "light"
     },
     "output_type": "display_data"
    }
   ],
   "source": [
    "plt.plot(df1)"
   ]
  },
  {
   "cell_type": "code",
   "execution_count": 38,
   "id": "9ca1146b",
   "metadata": {
    "execution": {
     "iopub.execute_input": "2021-09-24T19:13:48.616939Z",
     "iopub.status.busy": "2021-09-24T19:13:48.616166Z",
     "iopub.status.idle": "2021-09-24T19:13:48.624513Z",
     "shell.execute_reply": "2021-09-24T19:13:48.623580Z",
     "shell.execute_reply.started": "2021-09-24T19:09:45.302210Z"
    },
    "papermill": {
     "duration": 0.320254,
     "end_time": "2021-09-24T19:13:48.624716",
     "exception": false,
     "start_time": "2021-09-24T19:13:48.304462",
     "status": "completed"
    },
    "tags": []
   },
   "outputs": [],
   "source": [
    "from sklearn.preprocessing import MinMaxScaler\n",
    "scaler=MinMaxScaler(feature_range=(0,1))\n",
    "df1=scaler.fit_transform(np.array(df1).reshape(-1,1))\n"
   ]
  },
  {
   "cell_type": "code",
   "execution_count": 39,
   "id": "9fcfe878",
   "metadata": {
    "execution": {
     "iopub.execute_input": "2021-09-24T19:13:49.261471Z",
     "iopub.status.busy": "2021-09-24T19:13:49.260802Z",
     "iopub.status.idle": "2021-09-24T19:13:49.264905Z",
     "shell.execute_reply": "2021-09-24T19:13:49.264335Z",
     "shell.execute_reply.started": "2021-09-24T19:09:45.312057Z"
    },
    "papermill": {
     "duration": 0.316134,
     "end_time": "2021-09-24T19:13:49.265051",
     "exception": false,
     "start_time": "2021-09-24T19:13:48.948917",
     "status": "completed"
    },
    "tags": []
   },
   "outputs": [
    {
     "name": "stdout",
     "output_type": "stream",
     "text": [
      "[[0.16584967]\n",
      " [0.16319444]\n",
      " [0.1621732 ]\n",
      " ...\n",
      " [0.62622549]\n",
      " [0.62214052]\n",
      " [0.62418301]]\n"
     ]
    }
   ],
   "source": [
    "#now we will print df1 and check the transformation \n",
    "print(df1)"
   ]
  },
  {
   "cell_type": "markdown",
   "id": "f077c0a7",
   "metadata": {
    "papermill": {
     "duration": 0.306805,
     "end_time": "2021-09-24T19:13:49.875616",
     "exception": false,
     "start_time": "2021-09-24T19:13:49.568811",
     "status": "completed"
    },
    "tags": []
   },
   "source": [
    "# Splitting dataset into test and train dataset "
   ]
  },
  {
   "cell_type": "code",
   "execution_count": 40,
   "id": "c35381f7",
   "metadata": {
    "execution": {
     "iopub.execute_input": "2021-09-24T19:13:50.498055Z",
     "iopub.status.busy": "2021-09-24T19:13:50.497017Z",
     "iopub.status.idle": "2021-09-24T19:13:50.501005Z",
     "shell.execute_reply": "2021-09-24T19:13:50.501515Z",
     "shell.execute_reply.started": "2021-09-24T19:09:45.329757Z"
    },
    "papermill": {
     "duration": 0.316522,
     "end_time": "2021-09-24T19:13:50.501687",
     "exception": false,
     "start_time": "2021-09-24T19:13:50.185165",
     "status": "completed"
    },
    "tags": []
   },
   "outputs": [],
   "source": [
    "train_size=int(len(df1)*(0.65))\n",
    "test_size=len(df1)-train_size\n",
    "train_data,test_data=df1[0:train_size,:],df1[train_size:len(df1),:1]"
   ]
  },
  {
   "cell_type": "code",
   "execution_count": 41,
   "id": "14cb6e42",
   "metadata": {
    "execution": {
     "iopub.execute_input": "2021-09-24T19:13:51.121794Z",
     "iopub.status.busy": "2021-09-24T19:13:51.121142Z",
     "iopub.status.idle": "2021-09-24T19:13:51.126500Z",
     "shell.execute_reply": "2021-09-24T19:13:51.127152Z",
     "shell.execute_reply.started": "2021-09-24T19:09:45.341130Z"
    },
    "papermill": {
     "duration": 0.318357,
     "end_time": "2021-09-24T19:13:51.127335",
     "exception": false,
     "start_time": "2021-09-24T19:13:50.808978",
     "status": "completed"
    },
    "tags": []
   },
   "outputs": [
    {
     "data": {
      "text/plain": [
       "(1322, 713)"
      ]
     },
     "execution_count": 41,
     "metadata": {},
     "output_type": "execute_result"
    }
   ],
   "source": [
    "train_size,test_size"
   ]
  },
  {
   "cell_type": "code",
   "execution_count": 42,
   "id": "2a0db091",
   "metadata": {
    "execution": {
     "iopub.execute_input": "2021-09-24T19:13:51.736957Z",
     "iopub.status.busy": "2021-09-24T19:13:51.735964Z",
     "iopub.status.idle": "2021-09-24T19:13:51.741775Z",
     "shell.execute_reply": "2021-09-24T19:13:51.742381Z",
     "shell.execute_reply.started": "2021-09-24T19:09:45.356086Z"
    },
    "papermill": {
     "duration": 0.311445,
     "end_time": "2021-09-24T19:13:51.742564",
     "exception": false,
     "start_time": "2021-09-24T19:13:51.431119",
     "status": "completed"
    },
    "tags": []
   },
   "outputs": [],
   "source": [
    "import numpy \n",
    "def create_dataset(dataset,time_step=1):\n",
    "    dataX,dataY=[],[]\n",
    "    for i in range(len(dataset)-time_step-1):\n",
    "        a= dataset[i:(i+time_step),0]\n",
    "        dataX.append(a)\n",
    "        dataY.append(dataset[i+time_step,0])\n",
    "        return numpy.array(dataX),numpy.array(dataY)"
   ]
  },
  {
   "cell_type": "code",
   "execution_count": 43,
   "id": "8f5cae47",
   "metadata": {
    "execution": {
     "iopub.execute_input": "2021-09-24T19:13:52.350818Z",
     "iopub.status.busy": "2021-09-24T19:13:52.349834Z",
     "iopub.status.idle": "2021-09-24T19:13:52.354057Z",
     "shell.execute_reply": "2021-09-24T19:13:52.354497Z",
     "shell.execute_reply.started": "2021-09-24T19:09:45.366923Z"
    },
    "papermill": {
     "duration": 0.309962,
     "end_time": "2021-09-24T19:13:52.354680",
     "exception": false,
     "start_time": "2021-09-24T19:13:52.044718",
     "status": "completed"
    },
    "tags": []
   },
   "outputs": [],
   "source": [
    "#reshape into X=t,t+1,t+2,t+3 and Y=t+4\n",
    "time_step=100\n",
    "X_train,y_train=create_dataset(train_data,time_step)\n",
    "X_test,ytest=create_dataset(test_data,time_step)"
   ]
  },
  {
   "cell_type": "code",
   "execution_count": 44,
   "id": "2f8118ee",
   "metadata": {
    "execution": {
     "iopub.execute_input": "2021-09-24T19:13:52.966559Z",
     "iopub.status.busy": "2021-09-24T19:13:52.965509Z",
     "iopub.status.idle": "2021-09-24T19:13:52.973098Z",
     "shell.execute_reply": "2021-09-24T19:13:52.972501Z",
     "shell.execute_reply.started": "2021-09-24T19:09:45.380579Z"
    },
    "papermill": {
     "duration": 0.317181,
     "end_time": "2021-09-24T19:13:52.973235",
     "exception": false,
     "start_time": "2021-09-24T19:13:52.656054",
     "status": "completed"
    },
    "tags": []
   },
   "outputs": [
    {
     "name": "stdout",
     "output_type": "stream",
     "text": [
      "(1, 100)\n",
      "(1,)\n"
     ]
    },
    {
     "data": {
      "text/plain": [
       "(None, None)"
      ]
     },
     "execution_count": 44,
     "metadata": {},
     "output_type": "execute_result"
    }
   ],
   "source": [
    "print(X_train.shape),print(y_train.shape)"
   ]
  },
  {
   "cell_type": "code",
   "execution_count": 45,
   "id": "92306be1",
   "metadata": {
    "execution": {
     "iopub.execute_input": "2021-09-24T19:13:53.584503Z",
     "iopub.status.busy": "2021-09-24T19:13:53.583825Z",
     "iopub.status.idle": "2021-09-24T19:13:53.587461Z",
     "shell.execute_reply": "2021-09-24T19:13:53.587970Z",
     "shell.execute_reply.started": "2021-09-24T19:09:45.395852Z"
    },
    "papermill": {
     "duration": 0.311352,
     "end_time": "2021-09-24T19:13:53.588137",
     "exception": false,
     "start_time": "2021-09-24T19:13:53.276785",
     "status": "completed"
    },
    "tags": []
   },
   "outputs": [
    {
     "name": "stdout",
     "output_type": "stream",
     "text": [
      "(1, 100)\n",
      "(1,)\n"
     ]
    },
    {
     "data": {
      "text/plain": [
       "(None, None)"
      ]
     },
     "execution_count": 45,
     "metadata": {},
     "output_type": "execute_result"
    }
   ],
   "source": [
    "print(X_test.shape),print(ytest.shape)"
   ]
  },
  {
   "cell_type": "code",
   "execution_count": 46,
   "id": "108ce0aa",
   "metadata": {
    "execution": {
     "iopub.execute_input": "2021-09-24T19:13:54.202388Z",
     "iopub.status.busy": "2021-09-24T19:13:54.201412Z",
     "iopub.status.idle": "2021-09-24T19:13:54.204304Z",
     "shell.execute_reply": "2021-09-24T19:13:54.203622Z",
     "shell.execute_reply.started": "2021-09-24T19:09:45.408084Z"
    },
    "papermill": {
     "duration": 0.313141,
     "end_time": "2021-09-24T19:13:54.204453",
     "exception": false,
     "start_time": "2021-09-24T19:13:53.891312",
     "status": "completed"
    },
    "tags": []
   },
   "outputs": [],
   "source": [
    "#reshape input to be [samples ,time steps,features] which is required for LSTM \n",
    "X_train=X_train.reshape(X_train.shape[0],X_train.shape[1],1)\n",
    "X_test=X_test.reshape(X_test.shape[0],X_test.shape[1],1)"
   ]
  },
  {
   "cell_type": "code",
   "execution_count": 47,
   "id": "09e78a93",
   "metadata": {
    "execution": {
     "iopub.execute_input": "2021-09-24T19:13:54.817984Z",
     "iopub.status.busy": "2021-09-24T19:13:54.816971Z",
     "iopub.status.idle": "2021-09-24T19:13:54.998791Z",
     "shell.execute_reply": "2021-09-24T19:13:54.998224Z",
     "shell.execute_reply.started": "2021-09-24T19:09:45.417259Z"
    },
    "papermill": {
     "duration": 0.489805,
     "end_time": "2021-09-24T19:13:54.998959",
     "exception": false,
     "start_time": "2021-09-24T19:13:54.509154",
     "status": "completed"
    },
    "tags": []
   },
   "outputs": [],
   "source": [
    "## creating stacked LSTM model \n",
    "from tensorflow.keras.models import Sequential\n",
    "from tensorflow.keras.layers import Dense\n",
    "from tensorflow.keras.layers import LSTM"
   ]
  },
  {
   "cell_type": "code",
   "execution_count": 48,
   "id": "5b1b73ce",
   "metadata": {
    "execution": {
     "iopub.execute_input": "2021-09-24T19:13:55.611708Z",
     "iopub.status.busy": "2021-09-24T19:13:55.609285Z",
     "iopub.status.idle": "2021-09-24T19:13:56.361046Z",
     "shell.execute_reply": "2021-09-24T19:13:56.360502Z",
     "shell.execute_reply.started": "2021-09-24T19:09:45.431121Z"
    },
    "papermill": {
     "duration": 1.059216,
     "end_time": "2021-09-24T19:13:56.361190",
     "exception": false,
     "start_time": "2021-09-24T19:13:55.301974",
     "status": "completed"
    },
    "tags": []
   },
   "outputs": [
    {
     "name": "stderr",
     "output_type": "stream",
     "text": [
      "2021-09-24 19:13:55.612634: W tensorflow/stream_executor/platform/default/dso_loader.cc:64] Could not load dynamic library 'libcuda.so.1'; dlerror: libcuda.so.1: cannot open shared object file: No such file or directory; LD_LIBRARY_PATH: /opt/conda/lib\n",
      "2021-09-24 19:13:55.612689: W tensorflow/stream_executor/cuda/cuda_driver.cc:269] failed call to cuInit: UNKNOWN ERROR (303)\n",
      "2021-09-24 19:13:55.612718: I tensorflow/stream_executor/cuda/cuda_diagnostics.cc:156] kernel driver does not appear to be running on this host (5a416f77c3e2): /proc/driver/nvidia/version does not exist\n",
      "2021-09-24 19:13:55.614588: I tensorflow/core/platform/cpu_feature_guard.cc:142] This TensorFlow binary is optimized with oneAPI Deep Neural Network Library (oneDNN) to use the following CPU instructions in performance-critical operations:  AVX2 FMA\n",
      "To enable them in other operations, rebuild TensorFlow with the appropriate compiler flags.\n"
     ]
    }
   ],
   "source": [
    "model= Sequential()\n",
    "model.add(LSTM(50,return_sequences=True,input_shape=(100,1)))\n",
    "model.add(LSTM(50,return_sequences=True))\n",
    "model.add(LSTM(50))\n",
    "model.add(Dense(1))\n",
    "model.compile(loss=\"mean_squared_error\",optimizer=\"adam\")"
   ]
  },
  {
   "cell_type": "code",
   "execution_count": 49,
   "id": "7e97dbb6",
   "metadata": {
    "execution": {
     "iopub.execute_input": "2021-09-24T19:13:56.986519Z",
     "iopub.status.busy": "2021-09-24T19:13:56.985047Z",
     "iopub.status.idle": "2021-09-24T19:13:56.992257Z",
     "shell.execute_reply": "2021-09-24T19:13:56.992945Z",
     "shell.execute_reply.started": "2021-09-24T19:09:46.292550Z"
    },
    "papermill": {
     "duration": 0.327244,
     "end_time": "2021-09-24T19:13:56.993128",
     "exception": false,
     "start_time": "2021-09-24T19:13:56.665884",
     "status": "completed"
    },
    "tags": []
   },
   "outputs": [
    {
     "name": "stdout",
     "output_type": "stream",
     "text": [
      "Model: \"sequential\"\n",
      "_________________________________________________________________\n",
      "Layer (type)                 Output Shape              Param #   \n",
      "=================================================================\n",
      "lstm (LSTM)                  (None, 100, 50)           10400     \n",
      "_________________________________________________________________\n",
      "lstm_1 (LSTM)                (None, 100, 50)           20200     \n",
      "_________________________________________________________________\n",
      "lstm_2 (LSTM)                (None, 50)                20200     \n",
      "_________________________________________________________________\n",
      "dense (Dense)                (None, 1)                 51        \n",
      "=================================================================\n",
      "Total params: 50,851\n",
      "Trainable params: 50,851\n",
      "Non-trainable params: 0\n",
      "_________________________________________________________________\n"
     ]
    }
   ],
   "source": [
    "model.summary()"
   ]
  },
  {
   "cell_type": "code",
   "execution_count": 50,
   "id": "d5499ee6",
   "metadata": {
    "execution": {
     "iopub.execute_input": "2021-09-24T19:13:57.607263Z",
     "iopub.status.busy": "2021-09-24T19:13:57.606617Z",
     "iopub.status.idle": "2021-09-24T19:13:57.618509Z",
     "shell.execute_reply": "2021-09-24T19:13:57.618978Z",
     "shell.execute_reply.started": "2021-09-24T19:09:46.308954Z"
    },
    "papermill": {
     "duration": 0.322641,
     "end_time": "2021-09-24T19:13:57.619153",
     "exception": false,
     "start_time": "2021-09-24T19:13:57.296512",
     "status": "completed"
    },
    "tags": []
   },
   "outputs": [
    {
     "name": "stdout",
     "output_type": "stream",
     "text": [
      "Model: \"sequential\"\n",
      "_________________________________________________________________\n",
      "Layer (type)                 Output Shape              Param #   \n",
      "=================================================================\n",
      "lstm (LSTM)                  (None, 100, 50)           10400     \n",
      "_________________________________________________________________\n",
      "lstm_1 (LSTM)                (None, 100, 50)           20200     \n",
      "_________________________________________________________________\n",
      "lstm_2 (LSTM)                (None, 50)                20200     \n",
      "_________________________________________________________________\n",
      "dense (Dense)                (None, 1)                 51        \n",
      "=================================================================\n",
      "Total params: 50,851\n",
      "Trainable params: 50,851\n",
      "Non-trainable params: 0\n",
      "_________________________________________________________________\n"
     ]
    }
   ],
   "source": [
    "model.summary()"
   ]
  },
  {
   "cell_type": "code",
   "execution_count": 51,
   "id": "2f90245e",
   "metadata": {
    "execution": {
     "iopub.execute_input": "2021-09-24T19:13:58.239464Z",
     "iopub.status.busy": "2021-09-24T19:13:58.237606Z",
     "iopub.status.idle": "2021-09-24T19:14:18.772195Z",
     "shell.execute_reply": "2021-09-24T19:14:18.771591Z",
     "shell.execute_reply.started": "2021-09-24T19:09:46.320473Z"
    },
    "papermill": {
     "duration": 20.850945,
     "end_time": "2021-09-24T19:14:18.772338",
     "exception": false,
     "start_time": "2021-09-24T19:13:57.921393",
     "status": "completed"
    },
    "tags": []
   },
   "outputs": [
    {
     "name": "stderr",
     "output_type": "stream",
     "text": [
      "2021-09-24 19:13:58.274791: I tensorflow/compiler/mlir/mlir_graph_optimization_pass.cc:185] None of the MLIR Optimization Passes are enabled (registered 2)\n"
     ]
    },
    {
     "name": "stdout",
     "output_type": "stream",
     "text": [
      "Epoch 1/100\n",
      "1/1 [==============================] - 6s 6s/step - loss: 0.0171 - val_loss: 0.0186\n",
      "Epoch 2/100\n",
      "1/1 [==============================] - 0s 142ms/step - loss: 0.0099 - val_loss: 0.0106\n",
      "Epoch 3/100\n",
      "1/1 [==============================] - 0s 146ms/step - loss: 0.0043 - val_loss: 0.0042\n",
      "Epoch 4/100\n",
      "1/1 [==============================] - 0s 142ms/step - loss: 6.8699e-04 - val_loss: 4.3004e-04\n",
      "Epoch 5/100\n",
      "1/1 [==============================] - 0s 149ms/step - loss: 4.0951e-04 - val_loss: 9.4446e-05\n",
      "Epoch 6/100\n",
      "1/1 [==============================] - 0s 153ms/step - loss: 0.0027 - val_loss: 8.8628e-05\n",
      "Epoch 7/100\n",
      "1/1 [==============================] - 0s 144ms/step - loss: 0.0026 - val_loss: 2.1858e-05\n",
      "Epoch 8/100\n",
      "1/1 [==============================] - 0s 134ms/step - loss: 0.0012 - val_loss: 4.8104e-04\n",
      "Epoch 9/100\n",
      "1/1 [==============================] - 0s 142ms/step - loss: 2.6113e-04 - val_loss: 0.0014\n",
      "Epoch 10/100\n",
      "1/1 [==============================] - 0s 139ms/step - loss: 2.1681e-07 - val_loss: 0.0024\n",
      "Epoch 11/100\n",
      "1/1 [==============================] - 0s 135ms/step - loss: 1.7325e-04 - val_loss: 0.0033\n",
      "Epoch 12/100\n",
      "1/1 [==============================] - 0s 145ms/step - loss: 4.7218e-04 - val_loss: 0.0038\n",
      "Epoch 13/100\n",
      "1/1 [==============================] - 0s 126ms/step - loss: 7.0483e-04 - val_loss: 0.0040\n",
      "Epoch 14/100\n",
      "1/1 [==============================] - 0s 145ms/step - loss: 7.9432e-04 - val_loss: 0.0038\n",
      "Epoch 15/100\n",
      "1/1 [==============================] - 0s 136ms/step - loss: 7.4026e-04 - val_loss: 0.0035\n",
      "Epoch 16/100\n",
      "1/1 [==============================] - 0s 134ms/step - loss: 5.8276e-04 - val_loss: 0.0029\n",
      "Epoch 17/100\n",
      "1/1 [==============================] - 0s 164ms/step - loss: 3.7826e-04 - val_loss: 0.0023\n",
      "Epoch 18/100\n",
      "1/1 [==============================] - 0s 178ms/step - loss: 1.8444e-04 - val_loss: 0.0017\n",
      "Epoch 19/100\n",
      "1/1 [==============================] - 0s 178ms/step - loss: 4.9080e-05 - val_loss: 0.0012\n",
      "Epoch 20/100\n",
      "1/1 [==============================] - 0s 197ms/step - loss: 6.5762e-08 - val_loss: 8.2717e-04\n",
      "Epoch 21/100\n",
      "1/1 [==============================] - 0s 164ms/step - loss: 3.6596e-05 - val_loss: 5.5658e-04\n",
      "Epoch 22/100\n",
      "1/1 [==============================] - 0s 164ms/step - loss: 1.2639e-04 - val_loss: 4.0442e-04\n",
      "Epoch 23/100\n",
      "1/1 [==============================] - 0s 183ms/step - loss: 2.1684e-04 - val_loss: 3.4769e-04\n",
      "Epoch 24/100\n",
      "1/1 [==============================] - 0s 149ms/step - loss: 2.6119e-04 - val_loss: 3.6770e-04\n",
      "Epoch 25/100\n",
      "1/1 [==============================] - 0s 143ms/step - loss: 2.4262e-04 - val_loss: 4.5627e-04\n",
      "Epoch 26/100\n",
      "1/1 [==============================] - 0s 138ms/step - loss: 1.7728e-04 - val_loss: 6.0931e-04\n",
      "Epoch 27/100\n",
      "1/1 [==============================] - 0s 133ms/step - loss: 9.8118e-05 - val_loss: 8.1722e-04\n",
      "Epoch 28/100\n",
      "1/1 [==============================] - 0s 133ms/step - loss: 3.5018e-05 - val_loss: 0.0011\n",
      "Epoch 29/100\n",
      "1/1 [==============================] - 0s 141ms/step - loss: 3.4645e-06 - val_loss: 0.0013\n",
      "Epoch 30/100\n",
      "1/1 [==============================] - 0s 137ms/step - loss: 3.4714e-06 - val_loss: 0.0015\n",
      "Epoch 31/100\n",
      "1/1 [==============================] - 0s 142ms/step - loss: 2.4761e-05 - val_loss: 0.0017\n",
      "Epoch 32/100\n",
      "1/1 [==============================] - 0s 131ms/step - loss: 5.3393e-05 - val_loss: 0.0019\n",
      "Epoch 33/100\n",
      "1/1 [==============================] - 0s 144ms/step - loss: 7.7020e-05 - val_loss: 0.0019\n",
      "Epoch 34/100\n",
      "1/1 [==============================] - 0s 142ms/step - loss: 8.7895e-05 - val_loss: 0.0019\n",
      "Epoch 35/100\n",
      "1/1 [==============================] - 0s 140ms/step - loss: 8.3785e-05 - val_loss: 0.0018\n",
      "Epoch 36/100\n",
      "1/1 [==============================] - 0s 145ms/step - loss: 6.7328e-05 - val_loss: 0.0017\n",
      "Epoch 37/100\n",
      "1/1 [==============================] - 0s 141ms/step - loss: 4.4408e-05 - val_loss: 0.0015\n",
      "Epoch 38/100\n",
      "1/1 [==============================] - 0s 139ms/step - loss: 2.2024e-05 - val_loss: 0.0013\n",
      "Epoch 39/100\n",
      "1/1 [==============================] - 0s 135ms/step - loss: 6.1559e-06 - val_loss: 0.0012\n",
      "Epoch 40/100\n",
      "1/1 [==============================] - 0s 132ms/step - loss: 5.3549e-08 - val_loss: 0.0010\n",
      "Epoch 41/100\n",
      "1/1 [==============================] - 0s 138ms/step - loss: 3.4309e-06 - val_loss: 9.3971e-04\n",
      "Epoch 42/100\n",
      "1/1 [==============================] - 0s 138ms/step - loss: 1.2843e-05 - val_loss: 8.6588e-04\n",
      "Epoch 43/100\n",
      "1/1 [==============================] - 0s 143ms/step - loss: 2.3194e-05 - val_loss: 8.2836e-04\n",
      "Epoch 44/100\n",
      "1/1 [==============================] - 0s 193ms/step - loss: 2.9811e-05 - val_loss: 8.2600e-04\n",
      "Epoch 45/100\n",
      "1/1 [==============================] - 0s 152ms/step - loss: 3.0208e-05 - val_loss: 8.5574e-04\n",
      "Epoch 46/100\n",
      "1/1 [==============================] - 0s 145ms/step - loss: 2.4749e-05 - val_loss: 9.1279e-04\n",
      "Epoch 47/100\n",
      "1/1 [==============================] - 0s 136ms/step - loss: 1.6034e-05 - val_loss: 9.9057e-04\n",
      "Epoch 48/100\n",
      "1/1 [==============================] - 0s 139ms/step - loss: 7.4557e-06 - val_loss: 0.0011\n",
      "Epoch 49/100\n",
      "1/1 [==============================] - 0s 140ms/step - loss: 1.7298e-06 - val_loss: 0.0012\n",
      "Epoch 50/100\n",
      "1/1 [==============================] - 0s 136ms/step - loss: 7.2916e-09 - val_loss: 0.0013\n",
      "Epoch 51/100\n",
      "1/1 [==============================] - 0s 133ms/step - loss: 1.7854e-06 - val_loss: 0.0013\n",
      "Epoch 52/100\n",
      "1/1 [==============================] - 0s 138ms/step - loss: 5.4426e-06 - val_loss: 0.0014\n",
      "Epoch 53/100\n",
      "1/1 [==============================] - 0s 142ms/step - loss: 9.0431e-06 - val_loss: 0.0014\n",
      "Epoch 54/100\n",
      "1/1 [==============================] - 0s 133ms/step - loss: 1.1069e-05 - val_loss: 0.0014\n",
      "Epoch 55/100\n",
      "1/1 [==============================] - 0s 142ms/step - loss: 1.0856e-05 - val_loss: 0.0014\n",
      "Epoch 56/100\n",
      "1/1 [==============================] - 0s 135ms/step - loss: 8.6713e-06 - val_loss: 0.0013\n",
      "Epoch 57/100\n",
      "1/1 [==============================] - 0s 142ms/step - loss: 5.4572e-06 - val_loss: 0.0013\n",
      "Epoch 58/100\n",
      "1/1 [==============================] - 0s 135ms/step - loss: 2.3976e-06 - val_loss: 0.0012\n",
      "Epoch 59/100\n",
      "1/1 [==============================] - 0s 141ms/step - loss: 4.5354e-07 - val_loss: 0.0012\n",
      "Epoch 60/100\n",
      "1/1 [==============================] - 0s 138ms/step - loss: 3.7427e-08 - val_loss: 0.0011\n",
      "Epoch 61/100\n",
      "1/1 [==============================] - 0s 143ms/step - loss: 9.2681e-07 - val_loss: 0.0011\n",
      "Epoch 62/100\n",
      "1/1 [==============================] - 0s 146ms/step - loss: 2.4332e-06 - val_loss: 0.0010\n",
      "Epoch 63/100\n",
      "1/1 [==============================] - 0s 141ms/step - loss: 3.7388e-06 - val_loss: 0.0010\n",
      "Epoch 64/100\n",
      "1/1 [==============================] - 0s 134ms/step - loss: 4.2481e-06 - val_loss: 0.0010\n",
      "Epoch 65/100\n",
      "1/1 [==============================] - 0s 137ms/step - loss: 3.7990e-06 - val_loss: 0.0011\n",
      "Epoch 66/100\n",
      "1/1 [==============================] - 0s 134ms/step - loss: 2.6620e-06 - val_loss: 0.0011\n",
      "Epoch 67/100\n",
      "1/1 [==============================] - 0s 136ms/step - loss: 1.3524e-06 - val_loss: 0.0011\n",
      "Epoch 68/100\n",
      "1/1 [==============================] - 0s 143ms/step - loss: 3.7217e-07 - val_loss: 0.0012\n",
      "Epoch 69/100\n",
      "1/1 [==============================] - 0s 140ms/step - loss: 1.8239e-09 - val_loss: 0.0012\n",
      "Epoch 70/100\n",
      "1/1 [==============================] - 0s 146ms/step - loss: 2.2516e-07 - val_loss: 0.0012\n",
      "Epoch 71/100\n",
      "1/1 [==============================] - 0s 147ms/step - loss: 7.9023e-07 - val_loss: 0.0012\n",
      "Epoch 72/100\n",
      "1/1 [==============================] - 0s 154ms/step - loss: 1.3557e-06 - val_loss: 0.0013\n",
      "Epoch 73/100\n",
      "1/1 [==============================] - 0s 143ms/step - loss: 1.6456e-06 - val_loss: 0.0013\n",
      "Epoch 74/100\n",
      "1/1 [==============================] - 0s 146ms/step - loss: 1.5510e-06 - val_loss: 0.0012\n",
      "Epoch 75/100\n",
      "1/1 [==============================] - 0s 142ms/step - loss: 1.1445e-06 - val_loss: 0.0012\n",
      "Epoch 76/100\n",
      "1/1 [==============================] - 0s 134ms/step - loss: 6.2069e-07 - val_loss: 0.0012\n",
      "Epoch 77/100\n",
      "1/1 [==============================] - 0s 142ms/step - loss: 1.9417e-07 - val_loss: 0.0012\n",
      "Epoch 78/100\n",
      "1/1 [==============================] - 0s 141ms/step - loss: 5.4593e-09 - val_loss: 0.0011\n",
      "Epoch 79/100\n",
      "1/1 [==============================] - 0s 140ms/step - loss: 7.1667e-08 - val_loss: 0.0011\n",
      "Epoch 80/100\n",
      "1/1 [==============================] - 0s 141ms/step - loss: 2.9777e-07 - val_loss: 0.0011\n",
      "Epoch 81/100\n",
      "1/1 [==============================] - 0s 136ms/step - loss: 5.3573e-07 - val_loss: 0.0011\n",
      "Epoch 82/100\n",
      "1/1 [==============================] - 0s 147ms/step - loss: 6.5881e-07 - val_loss: 0.0011\n",
      "Epoch 83/100\n",
      "1/1 [==============================] - 0s 132ms/step - loss: 6.1548e-07 - val_loss: 0.0011\n",
      "Epoch 84/100\n",
      "1/1 [==============================] - 0s 140ms/step - loss: 4.3997e-07 - val_loss: 0.0011\n",
      "Epoch 85/100\n",
      "1/1 [==============================] - 0s 138ms/step - loss: 2.2240e-07 - val_loss: 0.0012\n",
      "Epoch 86/100\n",
      "1/1 [==============================] - 0s 132ms/step - loss: 5.7460e-08 - val_loss: 0.0012\n",
      "Epoch 87/100\n",
      "1/1 [==============================] - 0s 132ms/step - loss: 4.6685e-14 - val_loss: 0.0012\n",
      "Epoch 88/100\n",
      "1/1 [==============================] - 0s 130ms/step - loss: 4.6801e-08 - val_loss: 0.0012\n",
      "Epoch 89/100\n",
      "1/1 [==============================] - 0s 133ms/step - loss: 1.4827e-07 - val_loss: 0.0012\n",
      "Epoch 90/100\n",
      "1/1 [==============================] - 0s 134ms/step - loss: 2.3932e-07 - val_loss: 0.0012\n",
      "Epoch 91/100\n",
      "1/1 [==============================] - 0s 136ms/step - loss: 2.7200e-07 - val_loss: 0.0012\n",
      "Epoch 92/100\n",
      "1/1 [==============================] - 0s 136ms/step - loss: 2.3475e-07 - val_loss: 0.0012\n",
      "Epoch 93/100\n",
      "1/1 [==============================] - 0s 144ms/step - loss: 1.5133e-07 - val_loss: 0.0012\n",
      "Epoch 94/100\n",
      "1/1 [==============================] - 0s 139ms/step - loss: 6.3692e-08 - val_loss: 0.0012\n",
      "Epoch 95/100\n",
      "1/1 [==============================] - 0s 142ms/step - loss: 9.2061e-09 - val_loss: 0.0012\n",
      "Epoch 96/100\n",
      "1/1 [==============================] - 0s 136ms/step - loss: 3.4059e-09 - val_loss: 0.0012\n",
      "Epoch 97/100\n",
      "1/1 [==============================] - 0s 138ms/step - loss: 3.6235e-08 - val_loss: 0.0011\n",
      "Epoch 98/100\n",
      "1/1 [==============================] - 0s 143ms/step - loss: 8.1051e-08 - val_loss: 0.0011\n",
      "Epoch 99/100\n",
      "1/1 [==============================] - 0s 147ms/step - loss: 1.1028e-07 - val_loss: 0.0011\n",
      "Epoch 100/100\n",
      "1/1 [==============================] - 0s 142ms/step - loss: 1.0919e-07 - val_loss: 0.0011\n"
     ]
    },
    {
     "data": {
      "text/plain": [
       "<keras.callbacks.History at 0x7fb770844890>"
      ]
     },
     "execution_count": 51,
     "metadata": {},
     "output_type": "execute_result"
    }
   ],
   "source": [
    "model.fit(X_train,y_train,validation_data=(X_test,ytest),epochs=100,batch_size=64,verbose=1)"
   ]
  },
  {
   "cell_type": "code",
   "execution_count": 52,
   "id": "4592ed9a",
   "metadata": {
    "execution": {
     "iopub.execute_input": "2021-09-24T19:14:19.579930Z",
     "iopub.status.busy": "2021-09-24T19:14:19.579198Z",
     "iopub.status.idle": "2021-09-24T19:14:19.581086Z",
     "shell.execute_reply": "2021-09-24T19:14:19.580580Z",
     "shell.execute_reply.started": "2021-09-24T19:10:11.164176Z"
    },
    "papermill": {
     "duration": 0.401545,
     "end_time": "2021-09-24T19:14:19.581220",
     "exception": false,
     "start_time": "2021-09-24T19:14:19.179675",
     "status": "completed"
    },
    "tags": []
   },
   "outputs": [],
   "source": [
    "import tensorflow as tf"
   ]
  },
  {
   "cell_type": "code",
   "execution_count": 53,
   "id": "da369a68",
   "metadata": {
    "execution": {
     "iopub.execute_input": "2021-09-24T19:14:20.376119Z",
     "iopub.status.busy": "2021-09-24T19:14:20.375325Z",
     "iopub.status.idle": "2021-09-24T19:14:20.379774Z",
     "shell.execute_reply": "2021-09-24T19:14:20.380399Z",
     "shell.execute_reply.started": "2021-09-24T19:10:11.172607Z"
    },
    "papermill": {
     "duration": 0.405778,
     "end_time": "2021-09-24T19:14:20.380571",
     "exception": false,
     "start_time": "2021-09-24T19:14:19.974793",
     "status": "completed"
    },
    "tags": []
   },
   "outputs": [
    {
     "data": {
      "text/plain": [
       "'2.6.0'"
      ]
     },
     "execution_count": 53,
     "metadata": {},
     "output_type": "execute_result"
    }
   ],
   "source": [
    "tf.__version__"
   ]
  },
  {
   "cell_type": "markdown",
   "id": "62667bbc",
   "metadata": {
    "papermill": {
     "duration": 0.398138,
     "end_time": "2021-09-24T19:14:21.177445",
     "exception": false,
     "start_time": "2021-09-24T19:14:20.779307",
     "status": "completed"
    },
    "tags": []
   },
   "source": [
    "# Prediction and performance metrics"
   ]
  },
  {
   "cell_type": "code",
   "execution_count": 54,
   "id": "6ac8d820",
   "metadata": {
    "execution": {
     "iopub.execute_input": "2021-09-24T19:14:22.002978Z",
     "iopub.status.busy": "2021-09-24T19:14:22.001696Z",
     "iopub.status.idle": "2021-09-24T19:14:23.128779Z",
     "shell.execute_reply": "2021-09-24T19:14:23.129337Z",
     "shell.execute_reply.started": "2021-09-24T19:10:11.189338Z"
    },
    "papermill": {
     "duration": 1.555844,
     "end_time": "2021-09-24T19:14:23.129517",
     "exception": false,
     "start_time": "2021-09-24T19:14:21.573673",
     "status": "completed"
    },
    "tags": []
   },
   "outputs": [],
   "source": [
    "train_predict=model.predict(X_train)\n",
    "test_predict=model.predict(X_test)"
   ]
  },
  {
   "cell_type": "code",
   "execution_count": 55,
   "id": "4d709453",
   "metadata": {
    "execution": {
     "iopub.execute_input": "2021-09-24T19:14:23.928747Z",
     "iopub.status.busy": "2021-09-24T19:14:23.927698Z",
     "iopub.status.idle": "2021-09-24T19:14:23.931257Z",
     "shell.execute_reply": "2021-09-24T19:14:23.931814Z",
     "shell.execute_reply.started": "2021-09-24T19:10:12.402213Z"
    },
    "papermill": {
     "duration": 0.407208,
     "end_time": "2021-09-24T19:14:23.932003",
     "exception": false,
     "start_time": "2021-09-24T19:14:23.524795",
     "status": "completed"
    },
    "tags": []
   },
   "outputs": [],
   "source": [
    "#transform back to original form \n",
    "train_predict=scaler.inverse_transform(train_predict)\n",
    "test_predict=scaler.inverse_transform(test_predict)"
   ]
  },
  {
   "cell_type": "code",
   "execution_count": 56,
   "id": "f9157426",
   "metadata": {
    "execution": {
     "iopub.execute_input": "2021-09-24T19:14:24.727920Z",
     "iopub.status.busy": "2021-09-24T19:14:24.726955Z",
     "iopub.status.idle": "2021-09-24T19:14:24.733185Z",
     "shell.execute_reply": "2021-09-24T19:14:24.733706Z",
     "shell.execute_reply.started": "2021-09-24T19:10:12.410443Z"
    },
    "papermill": {
     "duration": 0.406691,
     "end_time": "2021-09-24T19:14:24.733886",
     "exception": false,
     "start_time": "2021-09-24T19:14:24.327195",
     "status": "completed"
    },
    "tags": []
   },
   "outputs": [
    {
     "data": {
      "text/plain": [
       "110.897066153732"
      ]
     },
     "execution_count": 56,
     "metadata": {},
     "output_type": "execute_result"
    }
   ],
   "source": [
    "#calculate RMSE performance metrics\n",
    "import math \n",
    "from sklearn.metrics import mean_squared_error\n",
    "math.sqrt(mean_squared_error(y_train,train_predict))"
   ]
  },
  {
   "cell_type": "code",
   "execution_count": 57,
   "id": "43b16ecc",
   "metadata": {
    "execution": {
     "iopub.execute_input": "2021-09-24T19:14:25.525138Z",
     "iopub.status.busy": "2021-09-24T19:14:25.524148Z",
     "iopub.status.idle": "2021-09-24T19:14:25.529994Z",
     "shell.execute_reply": "2021-09-24T19:14:25.530516Z",
     "shell.execute_reply.started": "2021-09-24T19:10:12.425510Z"
    },
    "papermill": {
     "duration": 0.401698,
     "end_time": "2021-09-24T19:14:25.530686",
     "exception": false,
     "start_time": "2021-09-24T19:14:25.128988",
     "status": "completed"
    },
    "tags": []
   },
   "outputs": [
    {
     "data": {
      "text/plain": [
       "110.897066153732"
      ]
     },
     "execution_count": 57,
     "metadata": {},
     "output_type": "execute_result"
    }
   ],
   "source": [
    "#test data RMSE \n",
    "math.sqrt(mean_squared_error(y_train,train_predict))"
   ]
  },
  {
   "cell_type": "code",
   "execution_count": 58,
   "id": "e016cfda",
   "metadata": {
    "execution": {
     "iopub.execute_input": "2021-09-24T19:14:26.322685Z",
     "iopub.status.busy": "2021-09-24T19:14:26.321699Z",
     "iopub.status.idle": "2021-09-24T19:14:26.530137Z",
     "shell.execute_reply": "2021-09-24T19:14:26.529595Z",
     "shell.execute_reply.started": "2021-09-24T19:10:12.442963Z"
    },
    "papermill": {
     "duration": 0.604646,
     "end_time": "2021-09-24T19:14:26.530276",
     "exception": false,
     "start_time": "2021-09-24T19:14:25.925630",
     "status": "completed"
    },
    "tags": []
   },
   "outputs": [
    {
     "data": {
      "image/png": "[encoded data removed]",
      "text/plain": [
       "<Figure size 432x288 with 1 Axes>"
      ]
     },
     "metadata": {
      "needs_background": "light"
     },
     "output_type": "display_data"
    }
   ],
   "source": [
    "##shifting train production for plotting \n",
    "look_back=100\n",
    "trainPredictPlot= numpy.empty_like(df1)\n",
    "trainPredictPlot[:, :]=np.nan\n",
    "trainPredictPlot[look_back:len(train_predict)+look_back,:]=train_predict\n",
    "#shift test predictions for plotting \n",
    "testPredictPlot=numpy.empty_like(df1)\n",
    "testPredictPlot[:,:]=numpy.nan\n",
    "testPredictPlot[len(train_predict)+(look_back*2)+1:len(df1)-1, :] = test_predict\n",
    "#plot baseline and predictions \n",
    "plt.plot(scaler.inverse_transform(df1))\n",
    "plt.plot(trainPredictPlot)\n",
    "plt.plot(testPredictPlot)\n",
    "plt.show()"
   ]
  },
  {
   "cell_type": "code",
   "execution_count": 59,
   "id": "34b5848c",
   "metadata": {
    "execution": {
     "iopub.execute_input": "2021-09-24T19:14:27.334028Z",
     "iopub.status.busy": "2021-09-24T19:14:27.332955Z",
     "iopub.status.idle": "2021-09-24T19:14:27.336890Z",
     "shell.execute_reply": "2021-09-24T19:14:27.337377Z",
     "shell.execute_reply.started": "2021-09-24T19:10:12.668683Z"
    },
    "papermill": {
     "duration": 0.40894,
     "end_time": "2021-09-24T19:14:27.337543",
     "exception": false,
     "start_time": "2021-09-24T19:14:26.928603",
     "status": "completed"
    },
    "tags": []
   },
   "outputs": [
    {
     "data": {
      "text/plain": [
       "713"
      ]
     },
     "execution_count": 59,
     "metadata": {},
     "output_type": "execute_result"
    }
   ],
   "source": [
    "len(test_data)"
   ]
  },
  {
   "cell_type": "code",
   "execution_count": 60,
   "id": "e80918ef",
   "metadata": {
    "execution": {
     "iopub.execute_input": "2021-09-24T19:14:28.132500Z",
     "iopub.status.busy": "2021-09-24T19:14:28.131499Z",
     "iopub.status.idle": "2021-09-24T19:14:28.136791Z",
     "shell.execute_reply": "2021-09-24T19:14:28.137312Z",
     "shell.execute_reply.started": "2021-09-24T19:10:12.677085Z"
    },
    "papermill": {
     "duration": 0.406938,
     "end_time": "2021-09-24T19:14:28.137530",
     "exception": false,
     "start_time": "2021-09-24T19:14:27.730592",
     "status": "completed"
    },
    "tags": []
   },
   "outputs": [
    {
     "data": {
      "text/plain": [
       "(1, 372)"
      ]
     },
     "execution_count": 60,
     "metadata": {},
     "output_type": "execute_result"
    }
   ],
   "source": [
    "x_input=test_data[341:].reshape(1,-1)\n",
    "x_input.shape"
   ]
  },
  {
   "cell_type": "code",
   "execution_count": 61,
   "id": "a2bab789",
   "metadata": {
    "execution": {
     "iopub.execute_input": "2021-09-24T19:14:28.937245Z",
     "iopub.status.busy": "2021-09-24T19:14:28.936575Z",
     "iopub.status.idle": "2021-09-24T19:14:28.939749Z",
     "shell.execute_reply": "2021-09-24T19:14:28.940261Z",
     "shell.execute_reply.started": "2021-09-24T19:10:12.692846Z"
    },
    "papermill": {
     "duration": 0.406133,
     "end_time": "2021-09-24T19:14:28.940469",
     "exception": false,
     "start_time": "2021-09-24T19:14:28.534336",
     "status": "completed"
    },
    "tags": []
   },
   "outputs": [],
   "source": [
    "temp_input=list(x_input)\n",
    "temp_input=temp_input[0].tolist()"
   ]
  },
  {
   "cell_type": "code",
   "execution_count": 62,
   "id": "d569a75c",
   "metadata": {
    "execution": {
     "iopub.execute_input": "2021-09-24T19:14:29.744879Z",
     "iopub.status.busy": "2021-09-24T19:14:29.743851Z",
     "iopub.status.idle": "2021-09-24T19:14:29.753060Z",
     "shell.execute_reply": "2021-09-24T19:14:29.753582Z",
     "shell.execute_reply.started": "2021-09-24T19:10:12.704468Z"
    },
    "papermill": {
     "duration": 0.413778,
     "end_time": "2021-09-24T19:14:29.753745",
     "exception": false,
     "start_time": "2021-09-24T19:14:29.339967",
     "status": "completed"
    },
    "tags": []
   },
   "outputs": [
    {
     "data": {
      "text/plain": [
       "[0.28431372549019607,\n",
       " 0.289828431372549,\n",
       " 0.29289215686274506,\n",
       " 0.29452614379084974,\n",
       " 0.28451797385620914,\n",
       " 0.28594771241830064,\n",
       " 0.29595588235294124,\n",
       " 0.2892156862745098,\n",
       " 0.284109477124183,\n",
       " 0.2798202614379084,\n",
       " 0.27450980392156865,\n",
       " 0.28288398692810457,\n",
       " 0.29084967320261434,\n",
       " 0.28737745098039225,\n",
       " 0.29003267973856206,\n",
       " 0.2890114379084967,\n",
       " 0.2973856209150326,\n",
       " 0.2906454248366013,\n",
       " 0.2947303921568627,\n",
       " 0.31352124183006536,\n",
       " 0.3073937908496731,\n",
       " 0.3039215686274509,\n",
       " 0.29146241830065367,\n",
       " 0.292687908496732,\n",
       " 0.29861111111111116,\n",
       " 0.3018790849673202,\n",
       " 0.298406862745098,\n",
       " 0.29289215686274506,\n",
       " 0.30085784313725483,\n",
       " 0.3002450980392156,\n",
       " 0.29370915032679734,\n",
       " 0.2718545751633987,\n",
       " 0.2800245098039216,\n",
       " 0.27308006535947715,\n",
       " 0.2606209150326797,\n",
       " 0.24816176470588225,\n",
       " 0.2536764705882353,\n",
       " 0.26940359477124187,\n",
       " 0.26327614379084974,\n",
       " 0.26388888888888895,\n",
       " 0.27961601307189543,\n",
       " 0.2918709150326797,\n",
       " 0.3018790849673202,\n",
       " 0.30228758169934633,\n",
       " 0.29432189542483655,\n",
       " 0.3047385620915033,\n",
       " 0.30085784313725483,\n",
       " 0.30004084967320266,\n",
       " 0.2906454248366013,\n",
       " 0.30841503267973847,\n",
       " 0.3165849673202614,\n",
       " 0.31924019607843135,\n",
       " 0.31556372549019607,\n",
       " 0.3082107843137255,\n",
       " 0.31004901960784315,\n",
       " 0.3098447712418301,\n",
       " 0.30147058823529416,\n",
       " 0.2867647058823529,\n",
       " 0.2712418300653594,\n",
       " 0.2785947712418301,\n",
       " 0.27593954248366015,\n",
       " 0.2847222222222222,\n",
       " 0.28860294117647056,\n",
       " 0.28227124183006536,\n",
       " 0.30718954248366015,\n",
       " 0.29575163398692805,\n",
       " 0.3137254901960784,\n",
       " 0.3496732026143792,\n",
       " 0.3617238562091504,\n",
       " 0.3790849673202614,\n",
       " 0.3858251633986929,\n",
       " 0.38092320261437906,\n",
       " 0.39236111111111116,\n",
       " 0.3790849673202614,\n",
       " 0.3848039215686274,\n",
       " 0.36907679738562094,\n",
       " 0.3727532679738561,\n",
       " 0.3637663398692811,\n",
       " 0.3684640522875817,\n",
       " 0.3727532679738561,\n",
       " 0.3572303921568628,\n",
       " 0.3602941176470589,\n",
       " 0.36192810457516345,\n",
       " 0.3535539215686274,\n",
       " 0.34375,\n",
       " 0.3500816993464052,\n",
       " 0.3492647058823529,\n",
       " 0.3656045751633986,\n",
       " 0.3474264705882353,\n",
       " 0.3314950980392156,\n",
       " 0.30657679738562094,\n",
       " 0.3400735294117646,\n",
       " 0.39950980392156865,\n",
       " 0.46119281045751637,\n",
       " 0.44791666666666663,\n",
       " 0.46343954248366015,\n",
       " 0.47058823529411764,\n",
       " 0.44485294117647056,\n",
       " 0.4722222222222223,\n",
       " 0.46282679738562094,\n",
       " 0.4589460784313726,\n",
       " 0.4468954248366013,\n",
       " 0.47426470588235303,\n",
       " 0.4781454248366013,\n",
       " 0.4765114379084967,\n",
       " 0.4589460784313726,\n",
       " 0.4728349673202614,\n",
       " 0.5106209150326797,\n",
       " 0.5098039215686274,\n",
       " 0.5145016339869282,\n",
       " 0.5241013071895425,\n",
       " 0.5355392156862746,\n",
       " 0.5161356209150327,\n",
       " 0.5355392156862746,\n",
       " 0.5294117647058824,\n",
       " 0.5406454248366014,\n",
       " 0.5524918300653594,\n",
       " 0.5422794117647058,\n",
       " 0.5361519607843137,\n",
       " 0.49101307189542487,\n",
       " 0.47263071895424835,\n",
       " 0.5053104575163399,\n",
       " 0.48059640522875813,\n",
       " 0.4991830065359477,\n",
       " 0.5100081699346406,\n",
       " 0.5126633986928104,\n",
       " 0.5065359477124183,\n",
       " 0.5249183006535947,\n",
       " 0.525531045751634,\n",
       " 0.5202205882352942,\n",
       " 0.5208333333333333,\n",
       " 0.5247140522875817,\n",
       " 0.5353349673202614,\n",
       " 0.5281862745098039,\n",
       " 0.525531045751634,\n",
       " 0.528390522875817,\n",
       " 0.514093137254902,\n",
       " 0.5051062091503268,\n",
       " 0.49897875816993464,\n",
       " 0.5257352941176471,\n",
       " 0.5079656862745099,\n",
       " 0.5263480392156863,\n",
       " 0.5700571895424836,\n",
       " 0.5957924836601308,\n",
       " 0.5964052287581699,\n",
       " 0.5998774509803922,\n",
       " 0.5939542483660131,\n",
       " 0.5896650326797386,\n",
       " 0.6280637254901961,\n",
       " 0.5884395424836601,\n",
       " 0.5863970588235294,\n",
       " 0.6515522875816994,\n",
       " 0.6339869281045752,\n",
       " 0.6268382352941176,\n",
       " 0.6770833333333333,\n",
       " 0.6942401960784315,\n",
       " 0.6985294117647058,\n",
       " 0.7310049019607843,\n",
       " 0.7922794117647058,\n",
       " 0.7851307189542482,\n",
       " 0.7888071895424837,\n",
       " 0.7918709150326797,\n",
       " 0.8078022875816993,\n",
       " 0.8026960784313726,\n",
       " 0.8447712418300655,\n",
       " 0.8139297385620914,\n",
       " 0.8421160130718954,\n",
       " 0.8276143790849675,\n",
       " 0.8092320261437909,\n",
       " 0.8129084967320261,\n",
       " 0.792483660130719,\n",
       " 0.829452614379085,\n",
       " 0.8476307189542482,\n",
       " 0.8880718954248368,\n",
       " 0.8449754901960784,\n",
       " 0.8312908496732025,\n",
       " 0.8306781045751634,\n",
       " 0.8410947712418302,\n",
       " 0.8574346405228759,\n",
       " 0.8974673202614378,\n",
       " 0.8982843137254903,\n",
       " 0.8954248366013071,\n",
       " 0.906045751633987,\n",
       " 0.9191176470588236,\n",
       " 0.917483660130719,\n",
       " 0.9217728758169936,\n",
       " 0.9618055555555556,\n",
       " 0.9475081699346404,\n",
       " 0.940359477124183,\n",
       " 0.940563725490196,\n",
       " 0.9448529411764706,\n",
       " 0.9477124183006536,\n",
       " 0.9667075163398695,\n",
       " 0.957312091503268,\n",
       " 0.9524101307189543,\n",
       " 0.9491421568627452,\n",
       " 1.0,\n",
       " 0.988766339869281,\n",
       " 0.9618055555555556,\n",
       " 0.9501633986928106,\n",
       " 0.9170751633986929,\n",
       " 0.928921568627451,\n",
       " 0.9309640522875817,\n",
       " 0.9242238562091503,\n",
       " 0.9121732026143792,\n",
       " 0.9121732026143792,\n",
       " 0.9021650326797386,\n",
       " 0.9111519607843137,\n",
       " 0.8566176470588234,\n",
       " 0.8472222222222223,\n",
       " 0.7920751633986929,\n",
       " 0.7849264705882355,\n",
       " 0.7587826797385622,\n",
       " 0.8137254901960784,\n",
       " 0.8149509803921569,\n",
       " 0.8059640522875817,\n",
       " 0.8339460784313726,\n",
       " 0.821078431372549,\n",
       " 0.8092320261437909,\n",
       " 0.7951388888888891,\n",
       " 0.7638888888888888,\n",
       " 0.7430555555555556,\n",
       " 0.758374183006536,\n",
       " 0.7401960784313724,\n",
       " 0.7751225490196079,\n",
       " 0.7865604575163399,\n",
       " 0.792687908496732,\n",
       " 0.7947303921568627,\n",
       " 0.7920751633986929,\n",
       " 0.7953431372549018,\n",
       " 0.7892156862745097,\n",
       " 0.7677696078431371,\n",
       " 0.7861519607843137,\n",
       " 0.7655228758169936,\n",
       " 0.7969771241830066,\n",
       " 0.8057598039215685,\n",
       " 0.806985294117647,\n",
       " 0.8114787581699348,\n",
       " 0.7820669934640523,\n",
       " 0.7338643790849675,\n",
       " 0.7397875816993464,\n",
       " 0.744485294117647,\n",
       " 0.7267156862745099,\n",
       " 0.7228349673202614,\n",
       " 0.7404003267973855,\n",
       " 0.746936274509804,\n",
       " 0.7263071895424837,\n",
       " 0.8006535947712419,\n",
       " 0.7918709150326797,\n",
       " 0.7732843137254901,\n",
       " 0.7845179738562091,\n",
       " 0.7832924836601307,\n",
       " 0.8041258169934642,\n",
       " 0.7947303921568627,\n",
       " 0.7879901960784315,\n",
       " 0.7879901960784315,\n",
       " 0.7947303921568627,\n",
       " 0.8116830065359477,\n",
       " 0.8169934640522876,\n",
       " 0.8298611111111112,\n",
       " 0.8384395424836601,\n",
       " 0.8388480392156863,\n",
       " 0.8278186274509804,\n",
       " 0.8259803921568627,\n",
       " 0.8502859477124185,\n",
       " 0.8588643790849673,\n",
       " 0.8625408496732028,\n",
       " 0.8848039215686274,\n",
       " 0.8651960784313726,\n",
       " 0.8402777777777777,\n",
       " 0.8449754901960784,\n",
       " 0.8711192810457515,\n",
       " 0.8527369281045751,\n",
       " 0.8621323529411764,\n",
       " 0.8345588235294117,\n",
       " 0.84375,\n",
       " 0.7146650326797386,\n",
       " 0.6605392156862745,\n",
       " 0.6542075163398693,\n",
       " 0.6803513071895424,\n",
       " 0.6689133986928104,\n",
       " 0.6642156862745099,\n",
       " 0.678921568627451,\n",
       " 0.6913807189542482,\n",
       " 0.7089460784313726,\n",
       " 0.7226307189542485,\n",
       " 0.7340686274509802,\n",
       " 0.7212009803921569,\n",
       " 0.749795751633987,\n",
       " 0.7689950980392157,\n",
       " 0.7446895424836601,\n",
       " 0.7120098039215685,\n",
       " 0.7467320261437909,\n",
       " 0.7549019607843137,\n",
       " 0.7604166666666667,\n",
       " 0.7598039215686274,\n",
       " 0.7465277777777777,\n",
       " 0.7624591503267975,\n",
       " 0.7706290849673203,\n",
       " 0.8041258169934642,\n",
       " 0.7810457516339868,\n",
       " 0.7941176470588236,\n",
       " 0.7602124183006536,\n",
       " 0.7348856209150327,\n",
       " 0.7240604575163399,\n",
       " 0.7399918300653596,\n",
       " 0.749795751633987,\n",
       " 0.7614379084967322,\n",
       " 0.7542892156862746,\n",
       " 0.7475490196078431,\n",
       " 0.769607843137255,\n",
       " 0.7495915032679739,\n",
       " 0.8171977124183007,\n",
       " 0.8020833333333335,\n",
       " 0.7773692810457518,\n",
       " 0.7571486928104576,\n",
       " 0.7937091503267975,\n",
       " 0.7916666666666667,\n",
       " 0.7714460784313726,\n",
       " 0.7526552287581698,\n",
       " 0.7269199346405228,\n",
       " 0.6629901960784313,\n",
       " 0.6819852941176472,\n",
       " 0.6441993464052288,\n",
       " 0.6215277777777778,\n",
       " 0.6439950980392156,\n",
       " 0.6631944444444445,\n",
       " 0.6754493464052289,\n",
       " 0.6370506535947713,\n",
       " 0.6460375816993464,\n",
       " 0.6589052287581699,\n",
       " 0.6587009803921569,\n",
       " 0.6779003267973858,\n",
       " 0.6319444444444445,\n",
       " 0.6311274509803921,\n",
       " 0.627859477124183,\n",
       " 0.647671568627451,\n",
       " 0.6399101307189542,\n",
       " 0.6348039215686274,\n",
       " 0.6386846405228759,\n",
       " 0.6233660130718954,\n",
       " 0.627450980392157,\n",
       " 0.6397058823529412,\n",
       " 0.6470588235294118,\n",
       " 0.661968954248366,\n",
       " 0.6707516339869282,\n",
       " 0.6519607843137255,\n",
       " 0.6311274509803921,\n",
       " 0.6129493464052288,\n",
       " 0.6376633986928105,\n",
       " 0.6225490196078431,\n",
       " 0.627450980392157,\n",
       " 0.6333741830065359,\n",
       " 0.6264297385620916,\n",
       " 0.6362336601307189,\n",
       " 0.5831290849673202,\n",
       " 0.5778186274509804,\n",
       " 0.5723039215686275,\n",
       " 0.5800653594771241,\n",
       " 0.5761846405228758,\n",
       " 0.5516748366013072,\n",
       " 0.5788398692810458,\n",
       " 0.625,\n",
       " 0.6358251633986928,\n",
       " 0.6294934640522877,\n",
       " 0.6288807189542484,\n",
       " 0.6276552287581699,\n",
       " 0.6223447712418301,\n",
       " 0.6337826797385621,\n",
       " 0.6262254901960784,\n",
       " 0.622140522875817,\n",
       " 0.6241830065359477]"
      ]
     },
     "execution_count": 62,
     "metadata": {},
     "output_type": "execute_result"
    }
   ],
   "source": [
    "temp_input"
   ]
  },
  {
   "cell_type": "markdown",
   "id": "7a2661e0",
   "metadata": {
    "papermill": {
     "duration": 0.395719,
     "end_time": "2021-09-24T19:14:30.545724",
     "exception": false,
     "start_time": "2021-09-24T19:14:30.150005",
     "status": "completed"
    },
    "tags": []
   },
   "source": [
    "# Demonstrate prediction for next 10 years"
   ]
  },
  {
   "cell_type": "code",
   "execution_count": 63,
   "id": "0497ec7c",
   "metadata": {
    "execution": {
     "iopub.execute_input": "2021-09-24T19:14:31.347805Z",
     "iopub.status.busy": "2021-09-24T19:14:31.346838Z",
     "iopub.status.idle": "2021-09-24T19:14:35.254118Z",
     "shell.execute_reply": "2021-09-24T19:14:35.253575Z",
     "shell.execute_reply.started": "2021-09-24T19:10:12.727413Z"
    },
    "papermill": {
     "duration": 4.307956,
     "end_time": "2021-09-24T19:14:35.254265",
     "exception": false,
     "start_time": "2021-09-24T19:14:30.946309",
     "status": "completed"
    },
    "tags": []
   },
   "outputs": [
    {
     "name": "stdout",
     "output_type": "stream",
     "text": [
      "0 day input [0.28982843 0.29289216 0.29452614 0.28451797 0.28594771 0.29595588\n",
      " 0.28921569 0.28410948 0.27982026 0.2745098  0.28288399 0.29084967\n",
      " 0.28737745 0.29003268 0.28901144 0.29738562 0.29064542 0.29473039\n",
      " 0.31352124 0.30739379 0.30392157 0.29146242 0.29268791 0.29861111\n",
      " 0.30187908 0.29840686 0.29289216 0.30085784 0.3002451  0.29370915\n",
      " 0.27185458 0.28002451 0.27308007 0.26062092 0.24816176 0.25367647\n",
      " 0.26940359 0.26327614 0.26388889 0.27961601 0.29187092 0.30187908\n",
      " 0.30228758 0.2943219  0.30473856 0.30085784 0.30004085 0.29064542\n",
      " 0.30841503 0.31658497 0.3192402  0.31556373 0.30821078 0.31004902\n",
      " 0.30984477 0.30147059 0.28676471 0.27124183 0.27859477 0.27593954\n",
      " 0.28472222 0.28860294 0.28227124 0.30718954 0.29575163 0.31372549\n",
      " 0.3496732  0.36172386 0.37908497 0.38582516 0.3809232  0.39236111\n",
      " 0.37908497 0.38480392 0.3690768  0.37275327 0.36376634 0.36846405\n",
      " 0.37275327 0.35723039 0.36029412 0.3619281  0.35355392 0.34375\n",
      " 0.3500817  0.34926471 0.36560458 0.34742647 0.3314951  0.3065768\n",
      " 0.34007353 0.3995098  0.46119281 0.44791667 0.46343954 0.47058824\n",
      " 0.44485294 0.47222222 0.4628268  0.45894608 0.44689542 0.47426471\n",
      " 0.47814542 0.47651144 0.45894608 0.47283497 0.51062092 0.50980392\n",
      " 0.51450163 0.52410131 0.53553922 0.51613562 0.53553922 0.52941176\n",
      " 0.54064542 0.55249183 0.54227941 0.53615196 0.49101307 0.47263072\n",
      " 0.50531046 0.48059641 0.49918301 0.51000817 0.5126634  0.50653595\n",
      " 0.5249183  0.52553105 0.52022059 0.52083333 0.52471405 0.53533497\n",
      " 0.52818627 0.52553105 0.52839052 0.51409314 0.50510621 0.49897876\n",
      " 0.52573529 0.50796569 0.52634804 0.57005719 0.59579248 0.59640523\n",
      " 0.59987745 0.59395425 0.58966503 0.62806373 0.58843954 0.58639706\n",
      " 0.65155229 0.63398693 0.62683824 0.67708333 0.6942402  0.69852941\n",
      " 0.7310049  0.79227941 0.78513072 0.78880719 0.79187092 0.80780229\n",
      " 0.80269608 0.84477124 0.81392974 0.84211601 0.82761438 0.80923203\n",
      " 0.8129085  0.79248366 0.82945261 0.84763072 0.8880719  0.84497549\n",
      " 0.83129085 0.8306781  0.84109477 0.85743464 0.89746732 0.89828431\n",
      " 0.89542484 0.90604575 0.91911765 0.91748366 0.92177288 0.96180556\n",
      " 0.94750817 0.94035948 0.94056373 0.94485294 0.94771242 0.96670752\n",
      " 0.95731209 0.95241013 0.94914216 1.         0.98876634 0.96180556\n",
      " 0.9501634  0.91707516 0.92892157 0.93096405 0.92422386 0.9121732\n",
      " 0.9121732  0.90216503 0.91115196 0.85661765 0.84722222 0.79207516\n",
      " 0.78492647 0.75878268 0.81372549 0.81495098 0.80596405 0.83394608\n",
      " 0.82107843 0.80923203 0.79513889 0.76388889 0.74305556 0.75837418\n",
      " 0.74019608 0.77512255 0.78656046 0.79268791 0.79473039 0.79207516\n",
      " 0.79534314 0.78921569 0.76776961 0.78615196 0.76552288 0.79697712\n",
      " 0.8057598  0.80698529 0.81147876 0.78206699 0.73386438 0.73978758\n",
      " 0.74448529 0.72671569 0.72283497 0.74040033 0.74693627 0.72630719\n",
      " 0.80065359 0.79187092 0.77328431 0.78451797 0.78329248 0.80412582\n",
      " 0.79473039 0.7879902  0.7879902  0.79473039 0.81168301 0.81699346\n",
      " 0.82986111 0.83843954 0.83884804 0.82781863 0.82598039 0.85028595\n",
      " 0.85886438 0.86254085 0.88480392 0.86519608 0.84027778 0.84497549\n",
      " 0.87111928 0.85273693 0.86213235 0.83455882 0.84375    0.71466503\n",
      " 0.66053922 0.65420752 0.68035131 0.6689134  0.66421569 0.67892157\n",
      " 0.69138072 0.70894608 0.72263072 0.73406863 0.72120098 0.74979575\n",
      " 0.7689951  0.74468954 0.7120098  0.74673203 0.75490196 0.76041667\n",
      " 0.75980392 0.74652778 0.76245915 0.77062908 0.80412582 0.78104575\n",
      " 0.79411765 0.76021242 0.73488562 0.72406046 0.73999183 0.74979575\n",
      " 0.76143791 0.75428922 0.74754902 0.76960784 0.7495915  0.81719771\n",
      " 0.80208333 0.77736928 0.75714869 0.79370915 0.79166667 0.77144608\n",
      " 0.75265523 0.72691993 0.6629902  0.68198529 0.64419935 0.62152778\n",
      " 0.6439951  0.66319444 0.67544935 0.63705065 0.64603758 0.65890523\n",
      " 0.65870098 0.67790033 0.63194444 0.63112745 0.62785948 0.64767157\n",
      " 0.63991013 0.63480392 0.63868464 0.62336601 0.62745098 0.63970588\n",
      " 0.64705882 0.66196895 0.67075163 0.65196078 0.63112745 0.61294935\n",
      " 0.6376634  0.62254902 0.62745098 0.63337418 0.62642974 0.63623366\n",
      " 0.58312908 0.57781863 0.57230392 0.58006536 0.57618464 0.55167484\n",
      " 0.57883987 0.625      0.63582516 0.62949346 0.62888072 0.62765523\n",
      " 0.62234477 0.63378268 0.62622549 0.62214052 0.62418301]\n",
      "0 day output [[0.20568144]]\n",
      "1 day input [0.29289216 0.29452614 0.28451797 0.28594771 0.29595588 0.28921569\n",
      " 0.28410948 0.27982026 0.2745098  0.28288399 0.29084967 0.28737745\n",
      " 0.29003268 0.28901144 0.29738562 0.29064542 0.29473039 0.31352124\n",
      " 0.30739379 0.30392157 0.29146242 0.29268791 0.29861111 0.30187908\n",
      " 0.29840686 0.29289216 0.30085784 0.3002451  0.29370915 0.27185458\n",
      " 0.28002451 0.27308007 0.26062092 0.24816176 0.25367647 0.26940359\n",
      " 0.26327614 0.26388889 0.27961601 0.29187092 0.30187908 0.30228758\n",
      " 0.2943219  0.30473856 0.30085784 0.30004085 0.29064542 0.30841503\n",
      " 0.31658497 0.3192402  0.31556373 0.30821078 0.31004902 0.30984477\n",
      " 0.30147059 0.28676471 0.27124183 0.27859477 0.27593954 0.28472222\n",
      " 0.28860294 0.28227124 0.30718954 0.29575163 0.31372549 0.3496732\n",
      " 0.36172386 0.37908497 0.38582516 0.3809232  0.39236111 0.37908497\n",
      " 0.38480392 0.3690768  0.37275327 0.36376634 0.36846405 0.37275327\n",
      " 0.35723039 0.36029412 0.3619281  0.35355392 0.34375    0.3500817\n",
      " 0.34926471 0.36560458 0.34742647 0.3314951  0.3065768  0.34007353\n",
      " 0.3995098  0.46119281 0.44791667 0.46343954 0.47058824 0.44485294\n",
      " 0.47222222 0.4628268  0.45894608 0.44689542 0.47426471 0.47814542\n",
      " 0.47651144 0.45894608 0.47283497 0.51062092 0.50980392 0.51450163\n",
      " 0.52410131 0.53553922 0.51613562 0.53553922 0.52941176 0.54064542\n",
      " 0.55249183 0.54227941 0.53615196 0.49101307 0.47263072 0.50531046\n",
      " 0.48059641 0.49918301 0.51000817 0.5126634  0.50653595 0.5249183\n",
      " 0.52553105 0.52022059 0.52083333 0.52471405 0.53533497 0.52818627\n",
      " 0.52553105 0.52839052 0.51409314 0.50510621 0.49897876 0.52573529\n",
      " 0.50796569 0.52634804 0.57005719 0.59579248 0.59640523 0.59987745\n",
      " 0.59395425 0.58966503 0.62806373 0.58843954 0.58639706 0.65155229\n",
      " 0.63398693 0.62683824 0.67708333 0.6942402  0.69852941 0.7310049\n",
      " 0.79227941 0.78513072 0.78880719 0.79187092 0.80780229 0.80269608\n",
      " 0.84477124 0.81392974 0.84211601 0.82761438 0.80923203 0.8129085\n",
      " 0.79248366 0.82945261 0.84763072 0.8880719  0.84497549 0.83129085\n",
      " 0.8306781  0.84109477 0.85743464 0.89746732 0.89828431 0.89542484\n",
      " 0.90604575 0.91911765 0.91748366 0.92177288 0.96180556 0.94750817\n",
      " 0.94035948 0.94056373 0.94485294 0.94771242 0.96670752 0.95731209\n",
      " 0.95241013 0.94914216 1.         0.98876634 0.96180556 0.9501634\n",
      " 0.91707516 0.92892157 0.93096405 0.92422386 0.9121732  0.9121732\n",
      " 0.90216503 0.91115196 0.85661765 0.84722222 0.79207516 0.78492647\n",
      " 0.75878268 0.81372549 0.81495098 0.80596405 0.83394608 0.82107843\n",
      " 0.80923203 0.79513889 0.76388889 0.74305556 0.75837418 0.74019608\n",
      " 0.77512255 0.78656046 0.79268791 0.79473039 0.79207516 0.79534314\n",
      " 0.78921569 0.76776961 0.78615196 0.76552288 0.79697712 0.8057598\n",
      " 0.80698529 0.81147876 0.78206699 0.73386438 0.73978758 0.74448529\n",
      " 0.72671569 0.72283497 0.74040033 0.74693627 0.72630719 0.80065359\n",
      " 0.79187092 0.77328431 0.78451797 0.78329248 0.80412582 0.79473039\n",
      " 0.7879902  0.7879902  0.79473039 0.81168301 0.81699346 0.82986111\n",
      " 0.83843954 0.83884804 0.82781863 0.82598039 0.85028595 0.85886438\n",
      " 0.86254085 0.88480392 0.86519608 0.84027778 0.84497549 0.87111928\n",
      " 0.85273693 0.86213235 0.83455882 0.84375    0.71466503 0.66053922\n",
      " 0.65420752 0.68035131 0.6689134  0.66421569 0.67892157 0.69138072\n",
      " 0.70894608 0.72263072 0.73406863 0.72120098 0.74979575 0.7689951\n",
      " 0.74468954 0.7120098  0.74673203 0.75490196 0.76041667 0.75980392\n",
      " 0.74652778 0.76245915 0.77062908 0.80412582 0.78104575 0.79411765\n",
      " 0.76021242 0.73488562 0.72406046 0.73999183 0.74979575 0.76143791\n",
      " 0.75428922 0.74754902 0.76960784 0.7495915  0.81719771 0.80208333\n",
      " 0.77736928 0.75714869 0.79370915 0.79166667 0.77144608 0.75265523\n",
      " 0.72691993 0.6629902  0.68198529 0.64419935 0.62152778 0.6439951\n",
      " 0.66319444 0.67544935 0.63705065 0.64603758 0.65890523 0.65870098\n",
      " 0.67790033 0.63194444 0.63112745 0.62785948 0.64767157 0.63991013\n",
      " 0.63480392 0.63868464 0.62336601 0.62745098 0.63970588 0.64705882\n",
      " 0.66196895 0.67075163 0.65196078 0.63112745 0.61294935 0.6376634\n",
      " 0.62254902 0.62745098 0.63337418 0.62642974 0.63623366 0.58312908\n",
      " 0.57781863 0.57230392 0.58006536 0.57618464 0.55167484 0.57883987\n",
      " 0.625      0.63582516 0.62949346 0.62888072 0.62765523 0.62234477\n",
      " 0.63378268 0.62622549 0.62214052 0.62418301 0.20568144]\n",
      "1 day output [[0.20549963]]\n",
      "2 day input [0.29452614 0.28451797 0.28594771 0.29595588 0.28921569 0.28410948\n",
      " 0.27982026 0.2745098  0.28288399 0.29084967 0.28737745 0.29003268\n",
      " 0.28901144 0.29738562 0.29064542 0.29473039 0.31352124 0.30739379\n",
      " 0.30392157 0.29146242 0.29268791 0.29861111 0.30187908 0.29840686\n",
      " 0.29289216 0.30085784 0.3002451  0.29370915 0.27185458 0.28002451\n",
      " 0.27308007 0.26062092 0.24816176 0.25367647 0.26940359 0.26327614\n",
      " 0.26388889 0.27961601 0.29187092 0.30187908 0.30228758 0.2943219\n",
      " 0.30473856 0.30085784 0.30004085 0.29064542 0.30841503 0.31658497\n",
      " 0.3192402  0.31556373 0.30821078 0.31004902 0.30984477 0.30147059\n",
      " 0.28676471 0.27124183 0.27859477 0.27593954 0.28472222 0.28860294\n",
      " 0.28227124 0.30718954 0.29575163 0.31372549 0.3496732  0.36172386\n",
      " 0.37908497 0.38582516 0.3809232  0.39236111 0.37908497 0.38480392\n",
      " 0.3690768  0.37275327 0.36376634 0.36846405 0.37275327 0.35723039\n",
      " 0.36029412 0.3619281  0.35355392 0.34375    0.3500817  0.34926471\n",
      " 0.36560458 0.34742647 0.3314951  0.3065768  0.34007353 0.3995098\n",
      " 0.46119281 0.44791667 0.46343954 0.47058824 0.44485294 0.47222222\n",
      " 0.4628268  0.45894608 0.44689542 0.47426471 0.47814542 0.47651144\n",
      " 0.45894608 0.47283497 0.51062092 0.50980392 0.51450163 0.52410131\n",
      " 0.53553922 0.51613562 0.53553922 0.52941176 0.54064542 0.55249183\n",
      " 0.54227941 0.53615196 0.49101307 0.47263072 0.50531046 0.48059641\n",
      " 0.49918301 0.51000817 0.5126634  0.50653595 0.5249183  0.52553105\n",
      " 0.52022059 0.52083333 0.52471405 0.53533497 0.52818627 0.52553105\n",
      " 0.52839052 0.51409314 0.50510621 0.49897876 0.52573529 0.50796569\n",
      " 0.52634804 0.57005719 0.59579248 0.59640523 0.59987745 0.59395425\n",
      " 0.58966503 0.62806373 0.58843954 0.58639706 0.65155229 0.63398693\n",
      " 0.62683824 0.67708333 0.6942402  0.69852941 0.7310049  0.79227941\n",
      " 0.78513072 0.78880719 0.79187092 0.80780229 0.80269608 0.84477124\n",
      " 0.81392974 0.84211601 0.82761438 0.80923203 0.8129085  0.79248366\n",
      " 0.82945261 0.84763072 0.8880719  0.84497549 0.83129085 0.8306781\n",
      " 0.84109477 0.85743464 0.89746732 0.89828431 0.89542484 0.90604575\n",
      " 0.91911765 0.91748366 0.92177288 0.96180556 0.94750817 0.94035948\n",
      " 0.94056373 0.94485294 0.94771242 0.96670752 0.95731209 0.95241013\n",
      " 0.94914216 1.         0.98876634 0.96180556 0.9501634  0.91707516\n",
      " 0.92892157 0.93096405 0.92422386 0.9121732  0.9121732  0.90216503\n",
      " 0.91115196 0.85661765 0.84722222 0.79207516 0.78492647 0.75878268\n",
      " 0.81372549 0.81495098 0.80596405 0.83394608 0.82107843 0.80923203\n",
      " 0.79513889 0.76388889 0.74305556 0.75837418 0.74019608 0.77512255\n",
      " 0.78656046 0.79268791 0.79473039 0.79207516 0.79534314 0.78921569\n",
      " 0.76776961 0.78615196 0.76552288 0.79697712 0.8057598  0.80698529\n",
      " 0.81147876 0.78206699 0.73386438 0.73978758 0.74448529 0.72671569\n",
      " 0.72283497 0.74040033 0.74693627 0.72630719 0.80065359 0.79187092\n",
      " 0.77328431 0.78451797 0.78329248 0.80412582 0.79473039 0.7879902\n",
      " 0.7879902  0.79473039 0.81168301 0.81699346 0.82986111 0.83843954\n",
      " 0.83884804 0.82781863 0.82598039 0.85028595 0.85886438 0.86254085\n",
      " 0.88480392 0.86519608 0.84027778 0.84497549 0.87111928 0.85273693\n",
      " 0.86213235 0.83455882 0.84375    0.71466503 0.66053922 0.65420752\n",
      " 0.68035131 0.6689134  0.66421569 0.67892157 0.69138072 0.70894608\n",
      " 0.72263072 0.73406863 0.72120098 0.74979575 0.7689951  0.74468954\n",
      " 0.7120098  0.74673203 0.75490196 0.76041667 0.75980392 0.74652778\n",
      " 0.76245915 0.77062908 0.80412582 0.78104575 0.79411765 0.76021242\n",
      " 0.73488562 0.72406046 0.73999183 0.74979575 0.76143791 0.75428922\n",
      " 0.74754902 0.76960784 0.7495915  0.81719771 0.80208333 0.77736928\n",
      " 0.75714869 0.79370915 0.79166667 0.77144608 0.75265523 0.72691993\n",
      " 0.6629902  0.68198529 0.64419935 0.62152778 0.6439951  0.66319444\n",
      " 0.67544935 0.63705065 0.64603758 0.65890523 0.65870098 0.67790033\n",
      " 0.63194444 0.63112745 0.62785948 0.64767157 0.63991013 0.63480392\n",
      " 0.63868464 0.62336601 0.62745098 0.63970588 0.64705882 0.66196895\n",
      " 0.67075163 0.65196078 0.63112745 0.61294935 0.6376634  0.62254902\n",
      " 0.62745098 0.63337418 0.62642974 0.63623366 0.58312908 0.57781863\n",
      " 0.57230392 0.58006536 0.57618464 0.55167484 0.57883987 0.625\n",
      " 0.63582516 0.62949346 0.62888072 0.62765523 0.62234477 0.63378268\n",
      " 0.62622549 0.62214052 0.62418301 0.20568144 0.20549963]\n",
      "2 day output [[0.20459767]]\n",
      "3 day input [0.28451797 0.28594771 0.29595588 0.28921569 0.28410948 0.27982026\n",
      " 0.2745098  0.28288399 0.29084967 0.28737745 0.29003268 0.28901144\n",
      " 0.29738562 0.29064542 0.29473039 0.31352124 0.30739379 0.30392157\n",
      " 0.29146242 0.29268791 0.29861111 0.30187908 0.29840686 0.29289216\n",
      " 0.30085784 0.3002451  0.29370915 0.27185458 0.28002451 0.27308007\n",
      " 0.26062092 0.24816176 0.25367647 0.26940359 0.26327614 0.26388889\n",
      " 0.27961601 0.29187092 0.30187908 0.30228758 0.2943219  0.30473856\n",
      " 0.30085784 0.30004085 0.29064542 0.30841503 0.31658497 0.3192402\n",
      " 0.31556373 0.30821078 0.31004902 0.30984477 0.30147059 0.28676471\n",
      " 0.27124183 0.27859477 0.27593954 0.28472222 0.28860294 0.28227124\n",
      " 0.30718954 0.29575163 0.31372549 0.3496732  0.36172386 0.37908497\n",
      " 0.38582516 0.3809232  0.39236111 0.37908497 0.38480392 0.3690768\n",
      " 0.37275327 0.36376634 0.36846405 0.37275327 0.35723039 0.36029412\n",
      " 0.3619281  0.35355392 0.34375    0.3500817  0.34926471 0.36560458\n",
      " 0.34742647 0.3314951  0.3065768  0.34007353 0.3995098  0.46119281\n",
      " 0.44791667 0.46343954 0.47058824 0.44485294 0.47222222 0.4628268\n",
      " 0.45894608 0.44689542 0.47426471 0.47814542 0.47651144 0.45894608\n",
      " 0.47283497 0.51062092 0.50980392 0.51450163 0.52410131 0.53553922\n",
      " 0.51613562 0.53553922 0.52941176 0.54064542 0.55249183 0.54227941\n",
      " 0.53615196 0.49101307 0.47263072 0.50531046 0.48059641 0.49918301\n",
      " 0.51000817 0.5126634  0.50653595 0.5249183  0.52553105 0.52022059\n",
      " 0.52083333 0.52471405 0.53533497 0.52818627 0.52553105 0.52839052\n",
      " 0.51409314 0.50510621 0.49897876 0.52573529 0.50796569 0.52634804\n",
      " 0.57005719 0.59579248 0.59640523 0.59987745 0.59395425 0.58966503\n",
      " 0.62806373 0.58843954 0.58639706 0.65155229 0.63398693 0.62683824\n",
      " 0.67708333 0.6942402  0.69852941 0.7310049  0.79227941 0.78513072\n",
      " 0.78880719 0.79187092 0.80780229 0.80269608 0.84477124 0.81392974\n",
      " 0.84211601 0.82761438 0.80923203 0.8129085  0.79248366 0.82945261\n",
      " 0.84763072 0.8880719  0.84497549 0.83129085 0.8306781  0.84109477\n",
      " 0.85743464 0.89746732 0.89828431 0.89542484 0.90604575 0.91911765\n",
      " 0.91748366 0.92177288 0.96180556 0.94750817 0.94035948 0.94056373\n",
      " 0.94485294 0.94771242 0.96670752 0.95731209 0.95241013 0.94914216\n",
      " 1.         0.98876634 0.96180556 0.9501634  0.91707516 0.92892157\n",
      " 0.93096405 0.92422386 0.9121732  0.9121732  0.90216503 0.91115196\n",
      " 0.85661765 0.84722222 0.79207516 0.78492647 0.75878268 0.81372549\n",
      " 0.81495098 0.80596405 0.83394608 0.82107843 0.80923203 0.79513889\n",
      " 0.76388889 0.74305556 0.75837418 0.74019608 0.77512255 0.78656046\n",
      " 0.79268791 0.79473039 0.79207516 0.79534314 0.78921569 0.76776961\n",
      " 0.78615196 0.76552288 0.79697712 0.8057598  0.80698529 0.81147876\n",
      " 0.78206699 0.73386438 0.73978758 0.74448529 0.72671569 0.72283497\n",
      " 0.74040033 0.74693627 0.72630719 0.80065359 0.79187092 0.77328431\n",
      " 0.78451797 0.78329248 0.80412582 0.79473039 0.7879902  0.7879902\n",
      " 0.79473039 0.81168301 0.81699346 0.82986111 0.83843954 0.83884804\n",
      " 0.82781863 0.82598039 0.85028595 0.85886438 0.86254085 0.88480392\n",
      " 0.86519608 0.84027778 0.84497549 0.87111928 0.85273693 0.86213235\n",
      " 0.83455882 0.84375    0.71466503 0.66053922 0.65420752 0.68035131\n",
      " 0.6689134  0.66421569 0.67892157 0.69138072 0.70894608 0.72263072\n",
      " 0.73406863 0.72120098 0.74979575 0.7689951  0.74468954 0.7120098\n",
      " 0.74673203 0.75490196 0.76041667 0.75980392 0.74652778 0.76245915\n",
      " 0.77062908 0.80412582 0.78104575 0.79411765 0.76021242 0.73488562\n",
      " 0.72406046 0.73999183 0.74979575 0.76143791 0.75428922 0.74754902\n",
      " 0.76960784 0.7495915  0.81719771 0.80208333 0.77736928 0.75714869\n",
      " 0.79370915 0.79166667 0.77144608 0.75265523 0.72691993 0.6629902\n",
      " 0.68198529 0.64419935 0.62152778 0.6439951  0.66319444 0.67544935\n",
      " 0.63705065 0.64603758 0.65890523 0.65870098 0.67790033 0.63194444\n",
      " 0.63112745 0.62785948 0.64767157 0.63991013 0.63480392 0.63868464\n",
      " 0.62336601 0.62745098 0.63970588 0.64705882 0.66196895 0.67075163\n",
      " 0.65196078 0.63112745 0.61294935 0.6376634  0.62254902 0.62745098\n",
      " 0.63337418 0.62642974 0.63623366 0.58312908 0.57781863 0.57230392\n",
      " 0.58006536 0.57618464 0.55167484 0.57883987 0.625      0.63582516\n",
      " 0.62949346 0.62888072 0.62765523 0.62234477 0.63378268 0.62622549\n",
      " 0.62214052 0.62418301 0.20568144 0.20549963 0.20459767]\n",
      "3 day output [[0.20283619]]\n",
      "4 day input [0.28594771 0.29595588 0.28921569 0.28410948 0.27982026 0.2745098\n",
      " 0.28288399 0.29084967 0.28737745 0.29003268 0.28901144 0.29738562\n",
      " 0.29064542 0.29473039 0.31352124 0.30739379 0.30392157 0.29146242\n",
      " 0.29268791 0.29861111 0.30187908 0.29840686 0.29289216 0.30085784\n",
      " 0.3002451  0.29370915 0.27185458 0.28002451 0.27308007 0.26062092\n",
      " 0.24816176 0.25367647 0.26940359 0.26327614 0.26388889 0.27961601\n",
      " 0.29187092 0.30187908 0.30228758 0.2943219  0.30473856 0.30085784\n",
      " 0.30004085 0.29064542 0.30841503 0.31658497 0.3192402  0.31556373\n",
      " 0.30821078 0.31004902 0.30984477 0.30147059 0.28676471 0.27124183\n",
      " 0.27859477 0.27593954 0.28472222 0.28860294 0.28227124 0.30718954\n",
      " 0.29575163 0.31372549 0.3496732  0.36172386 0.37908497 0.38582516\n",
      " 0.3809232  0.39236111 0.37908497 0.38480392 0.3690768  0.37275327\n",
      " 0.36376634 0.36846405 0.37275327 0.35723039 0.36029412 0.3619281\n",
      " 0.35355392 0.34375    0.3500817  0.34926471 0.36560458 0.34742647\n",
      " 0.3314951  0.3065768  0.34007353 0.3995098  0.46119281 0.44791667\n",
      " 0.46343954 0.47058824 0.44485294 0.47222222 0.4628268  0.45894608\n",
      " 0.44689542 0.47426471 0.47814542 0.47651144 0.45894608 0.47283497\n",
      " 0.51062092 0.50980392 0.51450163 0.52410131 0.53553922 0.51613562\n",
      " 0.53553922 0.52941176 0.54064542 0.55249183 0.54227941 0.53615196\n",
      " 0.49101307 0.47263072 0.50531046 0.48059641 0.49918301 0.51000817\n",
      " 0.5126634  0.50653595 0.5249183  0.52553105 0.52022059 0.52083333\n",
      " 0.52471405 0.53533497 0.52818627 0.52553105 0.52839052 0.51409314\n",
      " 0.50510621 0.49897876 0.52573529 0.50796569 0.52634804 0.57005719\n",
      " 0.59579248 0.59640523 0.59987745 0.59395425 0.58966503 0.62806373\n",
      " 0.58843954 0.58639706 0.65155229 0.63398693 0.62683824 0.67708333\n",
      " 0.6942402  0.69852941 0.7310049  0.79227941 0.78513072 0.78880719\n",
      " 0.79187092 0.80780229 0.80269608 0.84477124 0.81392974 0.84211601\n",
      " 0.82761438 0.80923203 0.8129085  0.79248366 0.82945261 0.84763072\n",
      " 0.8880719  0.84497549 0.83129085 0.8306781  0.84109477 0.85743464\n",
      " 0.89746732 0.89828431 0.89542484 0.90604575 0.91911765 0.91748366\n",
      " 0.92177288 0.96180556 0.94750817 0.94035948 0.94056373 0.94485294\n",
      " 0.94771242 0.96670752 0.95731209 0.95241013 0.94914216 1.\n",
      " 0.98876634 0.96180556 0.9501634  0.91707516 0.92892157 0.93096405\n",
      " 0.92422386 0.9121732  0.9121732  0.90216503 0.91115196 0.85661765\n",
      " 0.84722222 0.79207516 0.78492647 0.75878268 0.81372549 0.81495098\n",
      " 0.80596405 0.83394608 0.82107843 0.80923203 0.79513889 0.76388889\n",
      " 0.74305556 0.75837418 0.74019608 0.77512255 0.78656046 0.79268791\n",
      " 0.79473039 0.79207516 0.79534314 0.78921569 0.76776961 0.78615196\n",
      " 0.76552288 0.79697712 0.8057598  0.80698529 0.81147876 0.78206699\n",
      " 0.73386438 0.73978758 0.74448529 0.72671569 0.72283497 0.74040033\n",
      " 0.74693627 0.72630719 0.80065359 0.79187092 0.77328431 0.78451797\n",
      " 0.78329248 0.80412582 0.79473039 0.7879902  0.7879902  0.79473039\n",
      " 0.81168301 0.81699346 0.82986111 0.83843954 0.83884804 0.82781863\n",
      " 0.82598039 0.85028595 0.85886438 0.86254085 0.88480392 0.86519608\n",
      " 0.84027778 0.84497549 0.87111928 0.85273693 0.86213235 0.83455882\n",
      " 0.84375    0.71466503 0.66053922 0.65420752 0.68035131 0.6689134\n",
      " 0.66421569 0.67892157 0.69138072 0.70894608 0.72263072 0.73406863\n",
      " 0.72120098 0.74979575 0.7689951  0.74468954 0.7120098  0.74673203\n",
      " 0.75490196 0.76041667 0.75980392 0.74652778 0.76245915 0.77062908\n",
      " 0.80412582 0.78104575 0.79411765 0.76021242 0.73488562 0.72406046\n",
      " 0.73999183 0.74979575 0.76143791 0.75428922 0.74754902 0.76960784\n",
      " 0.7495915  0.81719771 0.80208333 0.77736928 0.75714869 0.79370915\n",
      " 0.79166667 0.77144608 0.75265523 0.72691993 0.6629902  0.68198529\n",
      " 0.64419935 0.62152778 0.6439951  0.66319444 0.67544935 0.63705065\n",
      " 0.64603758 0.65890523 0.65870098 0.67790033 0.63194444 0.63112745\n",
      " 0.62785948 0.64767157 0.63991013 0.63480392 0.63868464 0.62336601\n",
      " 0.62745098 0.63970588 0.64705882 0.66196895 0.67075163 0.65196078\n",
      " 0.63112745 0.61294935 0.6376634  0.62254902 0.62745098 0.63337418\n",
      " 0.62642974 0.63623366 0.58312908 0.57781863 0.57230392 0.58006536\n",
      " 0.57618464 0.55167484 0.57883987 0.625      0.63582516 0.62949346\n",
      " 0.62888072 0.62765523 0.62234477 0.63378268 0.62622549 0.62214052\n",
      " 0.62418301 0.20568144 0.20549963 0.20459767 0.20283619]\n",
      "4 day output [[0.20020334]]\n",
      "5 day input [0.29595588 0.28921569 0.28410948 0.27982026 0.2745098  0.28288399\n",
      " 0.29084967 0.28737745 0.29003268 0.28901144 0.29738562 0.29064542\n",
      " 0.29473039 0.31352124 0.30739379 0.30392157 0.29146242 0.29268791\n",
      " 0.29861111 0.30187908 0.29840686 0.29289216 0.30085784 0.3002451\n",
      " 0.29370915 0.27185458 0.28002451 0.27308007 0.26062092 0.24816176\n",
      " 0.25367647 0.26940359 0.26327614 0.26388889 0.27961601 0.29187092\n",
      " 0.30187908 0.30228758 0.2943219  0.30473856 0.30085784 0.30004085\n",
      " 0.29064542 0.30841503 0.31658497 0.3192402  0.31556373 0.30821078\n",
      " 0.31004902 0.30984477 0.30147059 0.28676471 0.27124183 0.27859477\n",
      " 0.27593954 0.28472222 0.28860294 0.28227124 0.30718954 0.29575163\n",
      " 0.31372549 0.3496732  0.36172386 0.37908497 0.38582516 0.3809232\n",
      " 0.39236111 0.37908497 0.38480392 0.3690768  0.37275327 0.36376634\n",
      " 0.36846405 0.37275327 0.35723039 0.36029412 0.3619281  0.35355392\n",
      " 0.34375    0.3500817  0.34926471 0.36560458 0.34742647 0.3314951\n",
      " 0.3065768  0.34007353 0.3995098  0.46119281 0.44791667 0.46343954\n",
      " 0.47058824 0.44485294 0.47222222 0.4628268  0.45894608 0.44689542\n",
      " 0.47426471 0.47814542 0.47651144 0.45894608 0.47283497 0.51062092\n",
      " 0.50980392 0.51450163 0.52410131 0.53553922 0.51613562 0.53553922\n",
      " 0.52941176 0.54064542 0.55249183 0.54227941 0.53615196 0.49101307\n",
      " 0.47263072 0.50531046 0.48059641 0.49918301 0.51000817 0.5126634\n",
      " 0.50653595 0.5249183  0.52553105 0.52022059 0.52083333 0.52471405\n",
      " 0.53533497 0.52818627 0.52553105 0.52839052 0.51409314 0.50510621\n",
      " 0.49897876 0.52573529 0.50796569 0.52634804 0.57005719 0.59579248\n",
      " 0.59640523 0.59987745 0.59395425 0.58966503 0.62806373 0.58843954\n",
      " 0.58639706 0.65155229 0.63398693 0.62683824 0.67708333 0.6942402\n",
      " 0.69852941 0.7310049  0.79227941 0.78513072 0.78880719 0.79187092\n",
      " 0.80780229 0.80269608 0.84477124 0.81392974 0.84211601 0.82761438\n",
      " 0.80923203 0.8129085  0.79248366 0.82945261 0.84763072 0.8880719\n",
      " 0.84497549 0.83129085 0.8306781  0.84109477 0.85743464 0.89746732\n",
      " 0.89828431 0.89542484 0.90604575 0.91911765 0.91748366 0.92177288\n",
      " 0.96180556 0.94750817 0.94035948 0.94056373 0.94485294 0.94771242\n",
      " 0.96670752 0.95731209 0.95241013 0.94914216 1.         0.98876634\n",
      " 0.96180556 0.9501634  0.91707516 0.92892157 0.93096405 0.92422386\n",
      " 0.9121732  0.9121732  0.90216503 0.91115196 0.85661765 0.84722222\n",
      " 0.79207516 0.78492647 0.75878268 0.81372549 0.81495098 0.80596405\n",
      " 0.83394608 0.82107843 0.80923203 0.79513889 0.76388889 0.74305556\n",
      " 0.75837418 0.74019608 0.77512255 0.78656046 0.79268791 0.79473039\n",
      " 0.79207516 0.79534314 0.78921569 0.76776961 0.78615196 0.76552288\n",
      " 0.79697712 0.8057598  0.80698529 0.81147876 0.78206699 0.73386438\n",
      " 0.73978758 0.74448529 0.72671569 0.72283497 0.74040033 0.74693627\n",
      " 0.72630719 0.80065359 0.79187092 0.77328431 0.78451797 0.78329248\n",
      " 0.80412582 0.79473039 0.7879902  0.7879902  0.79473039 0.81168301\n",
      " 0.81699346 0.82986111 0.83843954 0.83884804 0.82781863 0.82598039\n",
      " 0.85028595 0.85886438 0.86254085 0.88480392 0.86519608 0.84027778\n",
      " 0.84497549 0.87111928 0.85273693 0.86213235 0.83455882 0.84375\n",
      " 0.71466503 0.66053922 0.65420752 0.68035131 0.6689134  0.66421569\n",
      " 0.67892157 0.69138072 0.70894608 0.72263072 0.73406863 0.72120098\n",
      " 0.74979575 0.7689951  0.74468954 0.7120098  0.74673203 0.75490196\n",
      " 0.76041667 0.75980392 0.74652778 0.76245915 0.77062908 0.80412582\n",
      " 0.78104575 0.79411765 0.76021242 0.73488562 0.72406046 0.73999183\n",
      " 0.74979575 0.76143791 0.75428922 0.74754902 0.76960784 0.7495915\n",
      " 0.81719771 0.80208333 0.77736928 0.75714869 0.79370915 0.79166667\n",
      " 0.77144608 0.75265523 0.72691993 0.6629902  0.68198529 0.64419935\n",
      " 0.62152778 0.6439951  0.66319444 0.67544935 0.63705065 0.64603758\n",
      " 0.65890523 0.65870098 0.67790033 0.63194444 0.63112745 0.62785948\n",
      " 0.64767157 0.63991013 0.63480392 0.63868464 0.62336601 0.62745098\n",
      " 0.63970588 0.64705882 0.66196895 0.67075163 0.65196078 0.63112745\n",
      " 0.61294935 0.6376634  0.62254902 0.62745098 0.63337418 0.62642974\n",
      " 0.63623366 0.58312908 0.57781863 0.57230392 0.58006536 0.57618464\n",
      " 0.55167484 0.57883987 0.625      0.63582516 0.62949346 0.62888072\n",
      " 0.62765523 0.62234477 0.63378268 0.62622549 0.62214052 0.62418301\n",
      " 0.20568144 0.20549963 0.20459767 0.20283619 0.20020334]\n",
      "5 day output [[0.19677752]]\n",
      "6 day input [0.28921569 0.28410948 0.27982026 0.2745098  0.28288399 0.29084967\n",
      " 0.28737745 0.29003268 0.28901144 0.29738562 0.29064542 0.29473039\n",
      " 0.31352124 0.30739379 0.30392157 0.29146242 0.29268791 0.29861111\n",
      " 0.30187908 0.29840686 0.29289216 0.30085784 0.3002451  0.29370915\n",
      " 0.27185458 0.28002451 0.27308007 0.26062092 0.24816176 0.25367647\n",
      " 0.26940359 0.26327614 0.26388889 0.27961601 0.29187092 0.30187908\n",
      " 0.30228758 0.2943219  0.30473856 0.30085784 0.30004085 0.29064542\n",
      " 0.30841503 0.31658497 0.3192402  0.31556373 0.30821078 0.31004902\n",
      " 0.30984477 0.30147059 0.28676471 0.27124183 0.27859477 0.27593954\n",
      " 0.28472222 0.28860294 0.28227124 0.30718954 0.29575163 0.31372549\n",
      " 0.3496732  0.36172386 0.37908497 0.38582516 0.3809232  0.39236111\n",
      " 0.37908497 0.38480392 0.3690768  0.37275327 0.36376634 0.36846405\n",
      " 0.37275327 0.35723039 0.36029412 0.3619281  0.35355392 0.34375\n",
      " 0.3500817  0.34926471 0.36560458 0.34742647 0.3314951  0.3065768\n",
      " 0.34007353 0.3995098  0.46119281 0.44791667 0.46343954 0.47058824\n",
      " 0.44485294 0.47222222 0.4628268  0.45894608 0.44689542 0.47426471\n",
      " 0.47814542 0.47651144 0.45894608 0.47283497 0.51062092 0.50980392\n",
      " 0.51450163 0.52410131 0.53553922 0.51613562 0.53553922 0.52941176\n",
      " 0.54064542 0.55249183 0.54227941 0.53615196 0.49101307 0.47263072\n",
      " 0.50531046 0.48059641 0.49918301 0.51000817 0.5126634  0.50653595\n",
      " 0.5249183  0.52553105 0.52022059 0.52083333 0.52471405 0.53533497\n",
      " 0.52818627 0.52553105 0.52839052 0.51409314 0.50510621 0.49897876\n",
      " 0.52573529 0.50796569 0.52634804 0.57005719 0.59579248 0.59640523\n",
      " 0.59987745 0.59395425 0.58966503 0.62806373 0.58843954 0.58639706\n",
      " 0.65155229 0.63398693 0.62683824 0.67708333 0.6942402  0.69852941\n",
      " 0.7310049  0.79227941 0.78513072 0.78880719 0.79187092 0.80780229\n",
      " 0.80269608 0.84477124 0.81392974 0.84211601 0.82761438 0.80923203\n",
      " 0.8129085  0.79248366 0.82945261 0.84763072 0.8880719  0.84497549\n",
      " 0.83129085 0.8306781  0.84109477 0.85743464 0.89746732 0.89828431\n",
      " 0.89542484 0.90604575 0.91911765 0.91748366 0.92177288 0.96180556\n",
      " 0.94750817 0.94035948 0.94056373 0.94485294 0.94771242 0.96670752\n",
      " 0.95731209 0.95241013 0.94914216 1.         0.98876634 0.96180556\n",
      " 0.9501634  0.91707516 0.92892157 0.93096405 0.92422386 0.9121732\n",
      " 0.9121732  0.90216503 0.91115196 0.85661765 0.84722222 0.79207516\n",
      " 0.78492647 0.75878268 0.81372549 0.81495098 0.80596405 0.83394608\n",
      " 0.82107843 0.80923203 0.79513889 0.76388889 0.74305556 0.75837418\n",
      " 0.74019608 0.77512255 0.78656046 0.79268791 0.79473039 0.79207516\n",
      " 0.79534314 0.78921569 0.76776961 0.78615196 0.76552288 0.79697712\n",
      " 0.8057598  0.80698529 0.81147876 0.78206699 0.73386438 0.73978758\n",
      " 0.74448529 0.72671569 0.72283497 0.74040033 0.74693627 0.72630719\n",
      " 0.80065359 0.79187092 0.77328431 0.78451797 0.78329248 0.80412582\n",
      " 0.79473039 0.7879902  0.7879902  0.79473039 0.81168301 0.81699346\n",
      " 0.82986111 0.83843954 0.83884804 0.82781863 0.82598039 0.85028595\n",
      " 0.85886438 0.86254085 0.88480392 0.86519608 0.84027778 0.84497549\n",
      " 0.87111928 0.85273693 0.86213235 0.83455882 0.84375    0.71466503\n",
      " 0.66053922 0.65420752 0.68035131 0.6689134  0.66421569 0.67892157\n",
      " 0.69138072 0.70894608 0.72263072 0.73406863 0.72120098 0.74979575\n",
      " 0.7689951  0.74468954 0.7120098  0.74673203 0.75490196 0.76041667\n",
      " 0.75980392 0.74652778 0.76245915 0.77062908 0.80412582 0.78104575\n",
      " 0.79411765 0.76021242 0.73488562 0.72406046 0.73999183 0.74979575\n",
      " 0.76143791 0.75428922 0.74754902 0.76960784 0.7495915  0.81719771\n",
      " 0.80208333 0.77736928 0.75714869 0.79370915 0.79166667 0.77144608\n",
      " 0.75265523 0.72691993 0.6629902  0.68198529 0.64419935 0.62152778\n",
      " 0.6439951  0.66319444 0.67544935 0.63705065 0.64603758 0.65890523\n",
      " 0.65870098 0.67790033 0.63194444 0.63112745 0.62785948 0.64767157\n",
      " 0.63991013 0.63480392 0.63868464 0.62336601 0.62745098 0.63970588\n",
      " 0.64705882 0.66196895 0.67075163 0.65196078 0.63112745 0.61294935\n",
      " 0.6376634  0.62254902 0.62745098 0.63337418 0.62642974 0.63623366\n",
      " 0.58312908 0.57781863 0.57230392 0.58006536 0.57618464 0.55167484\n",
      " 0.57883987 0.625      0.63582516 0.62949346 0.62888072 0.62765523\n",
      " 0.62234477 0.63378268 0.62622549 0.62214052 0.62418301 0.20568144\n",
      " 0.20549963 0.20459767 0.20283619 0.20020334 0.19677752]\n",
      "6 day output [[0.19269347]]\n",
      "7 day input [0.28410948 0.27982026 0.2745098  0.28288399 0.29084967 0.28737745\n",
      " 0.29003268 0.28901144 0.29738562 0.29064542 0.29473039 0.31352124\n",
      " 0.30739379 0.30392157 0.29146242 0.29268791 0.29861111 0.30187908\n",
      " 0.29840686 0.29289216 0.30085784 0.3002451  0.29370915 0.27185458\n",
      " 0.28002451 0.27308007 0.26062092 0.24816176 0.25367647 0.26940359\n",
      " 0.26327614 0.26388889 0.27961601 0.29187092 0.30187908 0.30228758\n",
      " 0.2943219  0.30473856 0.30085784 0.30004085 0.29064542 0.30841503\n",
      " 0.31658497 0.3192402  0.31556373 0.30821078 0.31004902 0.30984477\n",
      " 0.30147059 0.28676471 0.27124183 0.27859477 0.27593954 0.28472222\n",
      " 0.28860294 0.28227124 0.30718954 0.29575163 0.31372549 0.3496732\n",
      " 0.36172386 0.37908497 0.38582516 0.3809232  0.39236111 0.37908497\n",
      " 0.38480392 0.3690768  0.37275327 0.36376634 0.36846405 0.37275327\n",
      " 0.35723039 0.36029412 0.3619281  0.35355392 0.34375    0.3500817\n",
      " 0.34926471 0.36560458 0.34742647 0.3314951  0.3065768  0.34007353\n",
      " 0.3995098  0.46119281 0.44791667 0.46343954 0.47058824 0.44485294\n",
      " 0.47222222 0.4628268  0.45894608 0.44689542 0.47426471 0.47814542\n",
      " 0.47651144 0.45894608 0.47283497 0.51062092 0.50980392 0.51450163\n",
      " 0.52410131 0.53553922 0.51613562 0.53553922 0.52941176 0.54064542\n",
      " 0.55249183 0.54227941 0.53615196 0.49101307 0.47263072 0.50531046\n",
      " 0.48059641 0.49918301 0.51000817 0.5126634  0.50653595 0.5249183\n",
      " 0.52553105 0.52022059 0.52083333 0.52471405 0.53533497 0.52818627\n",
      " 0.52553105 0.52839052 0.51409314 0.50510621 0.49897876 0.52573529\n",
      " 0.50796569 0.52634804 0.57005719 0.59579248 0.59640523 0.59987745\n",
      " 0.59395425 0.58966503 0.62806373 0.58843954 0.58639706 0.65155229\n",
      " 0.63398693 0.62683824 0.67708333 0.6942402  0.69852941 0.7310049\n",
      " 0.79227941 0.78513072 0.78880719 0.79187092 0.80780229 0.80269608\n",
      " 0.84477124 0.81392974 0.84211601 0.82761438 0.80923203 0.8129085\n",
      " 0.79248366 0.82945261 0.84763072 0.8880719  0.84497549 0.83129085\n",
      " 0.8306781  0.84109477 0.85743464 0.89746732 0.89828431 0.89542484\n",
      " 0.90604575 0.91911765 0.91748366 0.92177288 0.96180556 0.94750817\n",
      " 0.94035948 0.94056373 0.94485294 0.94771242 0.96670752 0.95731209\n",
      " 0.95241013 0.94914216 1.         0.98876634 0.96180556 0.9501634\n",
      " 0.91707516 0.92892157 0.93096405 0.92422386 0.9121732  0.9121732\n",
      " 0.90216503 0.91115196 0.85661765 0.84722222 0.79207516 0.78492647\n",
      " 0.75878268 0.81372549 0.81495098 0.80596405 0.83394608 0.82107843\n",
      " 0.80923203 0.79513889 0.76388889 0.74305556 0.75837418 0.74019608\n",
      " 0.77512255 0.78656046 0.79268791 0.79473039 0.79207516 0.79534314\n",
      " 0.78921569 0.76776961 0.78615196 0.76552288 0.79697712 0.8057598\n",
      " 0.80698529 0.81147876 0.78206699 0.73386438 0.73978758 0.74448529\n",
      " 0.72671569 0.72283497 0.74040033 0.74693627 0.72630719 0.80065359\n",
      " 0.79187092 0.77328431 0.78451797 0.78329248 0.80412582 0.79473039\n",
      " 0.7879902  0.7879902  0.79473039 0.81168301 0.81699346 0.82986111\n",
      " 0.83843954 0.83884804 0.82781863 0.82598039 0.85028595 0.85886438\n",
      " 0.86254085 0.88480392 0.86519608 0.84027778 0.84497549 0.87111928\n",
      " 0.85273693 0.86213235 0.83455882 0.84375    0.71466503 0.66053922\n",
      " 0.65420752 0.68035131 0.6689134  0.66421569 0.67892157 0.69138072\n",
      " 0.70894608 0.72263072 0.73406863 0.72120098 0.74979575 0.7689951\n",
      " 0.74468954 0.7120098  0.74673203 0.75490196 0.76041667 0.75980392\n",
      " 0.74652778 0.76245915 0.77062908 0.80412582 0.78104575 0.79411765\n",
      " 0.76021242 0.73488562 0.72406046 0.73999183 0.74979575 0.76143791\n",
      " 0.75428922 0.74754902 0.76960784 0.7495915  0.81719771 0.80208333\n",
      " 0.77736928 0.75714869 0.79370915 0.79166667 0.77144608 0.75265523\n",
      " 0.72691993 0.6629902  0.68198529 0.64419935 0.62152778 0.6439951\n",
      " 0.66319444 0.67544935 0.63705065 0.64603758 0.65890523 0.65870098\n",
      " 0.67790033 0.63194444 0.63112745 0.62785948 0.64767157 0.63991013\n",
      " 0.63480392 0.63868464 0.62336601 0.62745098 0.63970588 0.64705882\n",
      " 0.66196895 0.67075163 0.65196078 0.63112745 0.61294935 0.6376634\n",
      " 0.62254902 0.62745098 0.63337418 0.62642974 0.63623366 0.58312908\n",
      " 0.57781863 0.57230392 0.58006536 0.57618464 0.55167484 0.57883987\n",
      " 0.625      0.63582516 0.62949346 0.62888072 0.62765523 0.62234477\n",
      " 0.63378268 0.62622549 0.62214052 0.62418301 0.20568144 0.20549963\n",
      " 0.20459767 0.20283619 0.20020334 0.19677752 0.19269347]\n",
      "7 day output [[0.1881137]]\n",
      "8 day input [0.27982026 0.2745098  0.28288399 0.29084967 0.28737745 0.29003268\n",
      " 0.28901144 0.29738562 0.29064542 0.29473039 0.31352124 0.30739379\n",
      " 0.30392157 0.29146242 0.29268791 0.29861111 0.30187908 0.29840686\n",
      " 0.29289216 0.30085784 0.3002451  0.29370915 0.27185458 0.28002451\n",
      " 0.27308007 0.26062092 0.24816176 0.25367647 0.26940359 0.26327614\n",
      " 0.26388889 0.27961601 0.29187092 0.30187908 0.30228758 0.2943219\n",
      " 0.30473856 0.30085784 0.30004085 0.29064542 0.30841503 0.31658497\n",
      " 0.3192402  0.31556373 0.30821078 0.31004902 0.30984477 0.30147059\n",
      " 0.28676471 0.27124183 0.27859477 0.27593954 0.28472222 0.28860294\n",
      " 0.28227124 0.30718954 0.29575163 0.31372549 0.3496732  0.36172386\n",
      " 0.37908497 0.38582516 0.3809232  0.39236111 0.37908497 0.38480392\n",
      " 0.3690768  0.37275327 0.36376634 0.36846405 0.37275327 0.35723039\n",
      " 0.36029412 0.3619281  0.35355392 0.34375    0.3500817  0.34926471\n",
      " 0.36560458 0.34742647 0.3314951  0.3065768  0.34007353 0.3995098\n",
      " 0.46119281 0.44791667 0.46343954 0.47058824 0.44485294 0.47222222\n",
      " 0.4628268  0.45894608 0.44689542 0.47426471 0.47814542 0.47651144\n",
      " 0.45894608 0.47283497 0.51062092 0.50980392 0.51450163 0.52410131\n",
      " 0.53553922 0.51613562 0.53553922 0.52941176 0.54064542 0.55249183\n",
      " 0.54227941 0.53615196 0.49101307 0.47263072 0.50531046 0.48059641\n",
      " 0.49918301 0.51000817 0.5126634  0.50653595 0.5249183  0.52553105\n",
      " 0.52022059 0.52083333 0.52471405 0.53533497 0.52818627 0.52553105\n",
      " 0.52839052 0.51409314 0.50510621 0.49897876 0.52573529 0.50796569\n",
      " 0.52634804 0.57005719 0.59579248 0.59640523 0.59987745 0.59395425\n",
      " 0.58966503 0.62806373 0.58843954 0.58639706 0.65155229 0.63398693\n",
      " 0.62683824 0.67708333 0.6942402  0.69852941 0.7310049  0.79227941\n",
      " 0.78513072 0.78880719 0.79187092 0.80780229 0.80269608 0.84477124\n",
      " 0.81392974 0.84211601 0.82761438 0.80923203 0.8129085  0.79248366\n",
      " 0.82945261 0.84763072 0.8880719  0.84497549 0.83129085 0.8306781\n",
      " 0.84109477 0.85743464 0.89746732 0.89828431 0.89542484 0.90604575\n",
      " 0.91911765 0.91748366 0.92177288 0.96180556 0.94750817 0.94035948\n",
      " 0.94056373 0.94485294 0.94771242 0.96670752 0.95731209 0.95241013\n",
      " 0.94914216 1.         0.98876634 0.96180556 0.9501634  0.91707516\n",
      " 0.92892157 0.93096405 0.92422386 0.9121732  0.9121732  0.90216503\n",
      " 0.91115196 0.85661765 0.84722222 0.79207516 0.78492647 0.75878268\n",
      " 0.81372549 0.81495098 0.80596405 0.83394608 0.82107843 0.80923203\n",
      " 0.79513889 0.76388889 0.74305556 0.75837418 0.74019608 0.77512255\n",
      " 0.78656046 0.79268791 0.79473039 0.79207516 0.79534314 0.78921569\n",
      " 0.76776961 0.78615196 0.76552288 0.79697712 0.8057598  0.80698529\n",
      " 0.81147876 0.78206699 0.73386438 0.73978758 0.74448529 0.72671569\n",
      " 0.72283497 0.74040033 0.74693627 0.72630719 0.80065359 0.79187092\n",
      " 0.77328431 0.78451797 0.78329248 0.80412582 0.79473039 0.7879902\n",
      " 0.7879902  0.79473039 0.81168301 0.81699346 0.82986111 0.83843954\n",
      " 0.83884804 0.82781863 0.82598039 0.85028595 0.85886438 0.86254085\n",
      " 0.88480392 0.86519608 0.84027778 0.84497549 0.87111928 0.85273693\n",
      " 0.86213235 0.83455882 0.84375    0.71466503 0.66053922 0.65420752\n",
      " 0.68035131 0.6689134  0.66421569 0.67892157 0.69138072 0.70894608\n",
      " 0.72263072 0.73406863 0.72120098 0.74979575 0.7689951  0.74468954\n",
      " 0.7120098  0.74673203 0.75490196 0.76041667 0.75980392 0.74652778\n",
      " 0.76245915 0.77062908 0.80412582 0.78104575 0.79411765 0.76021242\n",
      " 0.73488562 0.72406046 0.73999183 0.74979575 0.76143791 0.75428922\n",
      " 0.74754902 0.76960784 0.7495915  0.81719771 0.80208333 0.77736928\n",
      " 0.75714869 0.79370915 0.79166667 0.77144608 0.75265523 0.72691993\n",
      " 0.6629902  0.68198529 0.64419935 0.62152778 0.6439951  0.66319444\n",
      " 0.67544935 0.63705065 0.64603758 0.65890523 0.65870098 0.67790033\n",
      " 0.63194444 0.63112745 0.62785948 0.64767157 0.63991013 0.63480392\n",
      " 0.63868464 0.62336601 0.62745098 0.63970588 0.64705882 0.66196895\n",
      " 0.67075163 0.65196078 0.63112745 0.61294935 0.6376634  0.62254902\n",
      " 0.62745098 0.63337418 0.62642974 0.63623366 0.58312908 0.57781863\n",
      " 0.57230392 0.58006536 0.57618464 0.55167484 0.57883987 0.625\n",
      " 0.63582516 0.62949346 0.62888072 0.62765523 0.62234477 0.63378268\n",
      " 0.62622549 0.62214052 0.62418301 0.20568144 0.20549963 0.20459767\n",
      " 0.20283619 0.20020334 0.19677752 0.19269347 0.1881137 ]\n",
      "8 day output [[0.18320698]]\n",
      "9 day input [0.2745098  0.28288399 0.29084967 0.28737745 0.29003268 0.28901144\n",
      " 0.29738562 0.29064542 0.29473039 0.31352124 0.30739379 0.30392157\n",
      " 0.29146242 0.29268791 0.29861111 0.30187908 0.29840686 0.29289216\n",
      " 0.30085784 0.3002451  0.29370915 0.27185458 0.28002451 0.27308007\n",
      " 0.26062092 0.24816176 0.25367647 0.26940359 0.26327614 0.26388889\n",
      " 0.27961601 0.29187092 0.30187908 0.30228758 0.2943219  0.30473856\n",
      " 0.30085784 0.30004085 0.29064542 0.30841503 0.31658497 0.3192402\n",
      " 0.31556373 0.30821078 0.31004902 0.30984477 0.30147059 0.28676471\n",
      " 0.27124183 0.27859477 0.27593954 0.28472222 0.28860294 0.28227124\n",
      " 0.30718954 0.29575163 0.31372549 0.3496732  0.36172386 0.37908497\n",
      " 0.38582516 0.3809232  0.39236111 0.37908497 0.38480392 0.3690768\n",
      " 0.37275327 0.36376634 0.36846405 0.37275327 0.35723039 0.36029412\n",
      " 0.3619281  0.35355392 0.34375    0.3500817  0.34926471 0.36560458\n",
      " 0.34742647 0.3314951  0.3065768  0.34007353 0.3995098  0.46119281\n",
      " 0.44791667 0.46343954 0.47058824 0.44485294 0.47222222 0.4628268\n",
      " 0.45894608 0.44689542 0.47426471 0.47814542 0.47651144 0.45894608\n",
      " 0.47283497 0.51062092 0.50980392 0.51450163 0.52410131 0.53553922\n",
      " 0.51613562 0.53553922 0.52941176 0.54064542 0.55249183 0.54227941\n",
      " 0.53615196 0.49101307 0.47263072 0.50531046 0.48059641 0.49918301\n",
      " 0.51000817 0.5126634  0.50653595 0.5249183  0.52553105 0.52022059\n",
      " 0.52083333 0.52471405 0.53533497 0.52818627 0.52553105 0.52839052\n",
      " 0.51409314 0.50510621 0.49897876 0.52573529 0.50796569 0.52634804\n",
      " 0.57005719 0.59579248 0.59640523 0.59987745 0.59395425 0.58966503\n",
      " 0.62806373 0.58843954 0.58639706 0.65155229 0.63398693 0.62683824\n",
      " 0.67708333 0.6942402  0.69852941 0.7310049  0.79227941 0.78513072\n",
      " 0.78880719 0.79187092 0.80780229 0.80269608 0.84477124 0.81392974\n",
      " 0.84211601 0.82761438 0.80923203 0.8129085  0.79248366 0.82945261\n",
      " 0.84763072 0.8880719  0.84497549 0.83129085 0.8306781  0.84109477\n",
      " 0.85743464 0.89746732 0.89828431 0.89542484 0.90604575 0.91911765\n",
      " 0.91748366 0.92177288 0.96180556 0.94750817 0.94035948 0.94056373\n",
      " 0.94485294 0.94771242 0.96670752 0.95731209 0.95241013 0.94914216\n",
      " 1.         0.98876634 0.96180556 0.9501634  0.91707516 0.92892157\n",
      " 0.93096405 0.92422386 0.9121732  0.9121732  0.90216503 0.91115196\n",
      " 0.85661765 0.84722222 0.79207516 0.78492647 0.75878268 0.81372549\n",
      " 0.81495098 0.80596405 0.83394608 0.82107843 0.80923203 0.79513889\n",
      " 0.76388889 0.74305556 0.75837418 0.74019608 0.77512255 0.78656046\n",
      " 0.79268791 0.79473039 0.79207516 0.79534314 0.78921569 0.76776961\n",
      " 0.78615196 0.76552288 0.79697712 0.8057598  0.80698529 0.81147876\n",
      " 0.78206699 0.73386438 0.73978758 0.74448529 0.72671569 0.72283497\n",
      " 0.74040033 0.74693627 0.72630719 0.80065359 0.79187092 0.77328431\n",
      " 0.78451797 0.78329248 0.80412582 0.79473039 0.7879902  0.7879902\n",
      " 0.79473039 0.81168301 0.81699346 0.82986111 0.83843954 0.83884804\n",
      " 0.82781863 0.82598039 0.85028595 0.85886438 0.86254085 0.88480392\n",
      " 0.86519608 0.84027778 0.84497549 0.87111928 0.85273693 0.86213235\n",
      " 0.83455882 0.84375    0.71466503 0.66053922 0.65420752 0.68035131\n",
      " 0.6689134  0.66421569 0.67892157 0.69138072 0.70894608 0.72263072\n",
      " 0.73406863 0.72120098 0.74979575 0.7689951  0.74468954 0.7120098\n",
      " 0.74673203 0.75490196 0.76041667 0.75980392 0.74652778 0.76245915\n",
      " 0.77062908 0.80412582 0.78104575 0.79411765 0.76021242 0.73488562\n",
      " 0.72406046 0.73999183 0.74979575 0.76143791 0.75428922 0.74754902\n",
      " 0.76960784 0.7495915  0.81719771 0.80208333 0.77736928 0.75714869\n",
      " 0.79370915 0.79166667 0.77144608 0.75265523 0.72691993 0.6629902\n",
      " 0.68198529 0.64419935 0.62152778 0.6439951  0.66319444 0.67544935\n",
      " 0.63705065 0.64603758 0.65890523 0.65870098 0.67790033 0.63194444\n",
      " 0.63112745 0.62785948 0.64767157 0.63991013 0.63480392 0.63868464\n",
      " 0.62336601 0.62745098 0.63970588 0.64705882 0.66196895 0.67075163\n",
      " 0.65196078 0.63112745 0.61294935 0.6376634  0.62254902 0.62745098\n",
      " 0.63337418 0.62642974 0.63623366 0.58312908 0.57781863 0.57230392\n",
      " 0.58006536 0.57618464 0.55167484 0.57883987 0.625      0.63582516\n",
      " 0.62949346 0.62888072 0.62765523 0.62234477 0.63378268 0.62622549\n",
      " 0.62214052 0.62418301 0.20568144 0.20549963 0.20459767 0.20283619\n",
      " 0.20020334 0.19677752 0.19269347 0.1881137  0.18320698]\n",
      "9 day output [[0.178133]]\n",
      "10 day input [0.28288399 0.29084967 0.28737745 0.29003268 0.28901144 0.29738562\n",
      " 0.29064542 0.29473039 0.31352124 0.30739379 0.30392157 0.29146242\n",
      " 0.29268791 0.29861111 0.30187908 0.29840686 0.29289216 0.30085784\n",
      " 0.3002451  0.29370915 0.27185458 0.28002451 0.27308007 0.26062092\n",
      " 0.24816176 0.25367647 0.26940359 0.26327614 0.26388889 0.27961601\n",
      " 0.29187092 0.30187908 0.30228758 0.2943219  0.30473856 0.30085784\n",
      " 0.30004085 0.29064542 0.30841503 0.31658497 0.3192402  0.31556373\n",
      " 0.30821078 0.31004902 0.30984477 0.30147059 0.28676471 0.27124183\n",
      " 0.27859477 0.27593954 0.28472222 0.28860294 0.28227124 0.30718954\n",
      " 0.29575163 0.31372549 0.3496732  0.36172386 0.37908497 0.38582516\n",
      " 0.3809232  0.39236111 0.37908497 0.38480392 0.3690768  0.37275327\n",
      " 0.36376634 0.36846405 0.37275327 0.35723039 0.36029412 0.3619281\n",
      " 0.35355392 0.34375    0.3500817  0.34926471 0.36560458 0.34742647\n",
      " 0.3314951  0.3065768  0.34007353 0.3995098  0.46119281 0.44791667\n",
      " 0.46343954 0.47058824 0.44485294 0.47222222 0.4628268  0.45894608\n",
      " 0.44689542 0.47426471 0.47814542 0.47651144 0.45894608 0.47283497\n",
      " 0.51062092 0.50980392 0.51450163 0.52410131 0.53553922 0.51613562\n",
      " 0.53553922 0.52941176 0.54064542 0.55249183 0.54227941 0.53615196\n",
      " 0.49101307 0.47263072 0.50531046 0.48059641 0.49918301 0.51000817\n",
      " 0.5126634  0.50653595 0.5249183  0.52553105 0.52022059 0.52083333\n",
      " 0.52471405 0.53533497 0.52818627 0.52553105 0.52839052 0.51409314\n",
      " 0.50510621 0.49897876 0.52573529 0.50796569 0.52634804 0.57005719\n",
      " 0.59579248 0.59640523 0.59987745 0.59395425 0.58966503 0.62806373\n",
      " 0.58843954 0.58639706 0.65155229 0.63398693 0.62683824 0.67708333\n",
      " 0.6942402  0.69852941 0.7310049  0.79227941 0.78513072 0.78880719\n",
      " 0.79187092 0.80780229 0.80269608 0.84477124 0.81392974 0.84211601\n",
      " 0.82761438 0.80923203 0.8129085  0.79248366 0.82945261 0.84763072\n",
      " 0.8880719  0.84497549 0.83129085 0.8306781  0.84109477 0.85743464\n",
      " 0.89746732 0.89828431 0.89542484 0.90604575 0.91911765 0.91748366\n",
      " 0.92177288 0.96180556 0.94750817 0.94035948 0.94056373 0.94485294\n",
      " 0.94771242 0.96670752 0.95731209 0.95241013 0.94914216 1.\n",
      " 0.98876634 0.96180556 0.9501634  0.91707516 0.92892157 0.93096405\n",
      " 0.92422386 0.9121732  0.9121732  0.90216503 0.91115196 0.85661765\n",
      " 0.84722222 0.79207516 0.78492647 0.75878268 0.81372549 0.81495098\n",
      " 0.80596405 0.83394608 0.82107843 0.80923203 0.79513889 0.76388889\n",
      " 0.74305556 0.75837418 0.74019608 0.77512255 0.78656046 0.79268791\n",
      " 0.79473039 0.79207516 0.79534314 0.78921569 0.76776961 0.78615196\n",
      " 0.76552288 0.79697712 0.8057598  0.80698529 0.81147876 0.78206699\n",
      " 0.73386438 0.73978758 0.74448529 0.72671569 0.72283497 0.74040033\n",
      " 0.74693627 0.72630719 0.80065359 0.79187092 0.77328431 0.78451797\n",
      " 0.78329248 0.80412582 0.79473039 0.7879902  0.7879902  0.79473039\n",
      " 0.81168301 0.81699346 0.82986111 0.83843954 0.83884804 0.82781863\n",
      " 0.82598039 0.85028595 0.85886438 0.86254085 0.88480392 0.86519608\n",
      " 0.84027778 0.84497549 0.87111928 0.85273693 0.86213235 0.83455882\n",
      " 0.84375    0.71466503 0.66053922 0.65420752 0.68035131 0.6689134\n",
      " 0.66421569 0.67892157 0.69138072 0.70894608 0.72263072 0.73406863\n",
      " 0.72120098 0.74979575 0.7689951  0.74468954 0.7120098  0.74673203\n",
      " 0.75490196 0.76041667 0.75980392 0.74652778 0.76245915 0.77062908\n",
      " 0.80412582 0.78104575 0.79411765 0.76021242 0.73488562 0.72406046\n",
      " 0.73999183 0.74979575 0.76143791 0.75428922 0.74754902 0.76960784\n",
      " 0.7495915  0.81719771 0.80208333 0.77736928 0.75714869 0.79370915\n",
      " 0.79166667 0.77144608 0.75265523 0.72691993 0.6629902  0.68198529\n",
      " 0.64419935 0.62152778 0.6439951  0.66319444 0.67544935 0.63705065\n",
      " 0.64603758 0.65890523 0.65870098 0.67790033 0.63194444 0.63112745\n",
      " 0.62785948 0.64767157 0.63991013 0.63480392 0.63868464 0.62336601\n",
      " 0.62745098 0.63970588 0.64705882 0.66196895 0.67075163 0.65196078\n",
      " 0.63112745 0.61294935 0.6376634  0.62254902 0.62745098 0.63337418\n",
      " 0.62642974 0.63623366 0.58312908 0.57781863 0.57230392 0.58006536\n",
      " 0.57618464 0.55167484 0.57883987 0.625      0.63582516 0.62949346\n",
      " 0.62888072 0.62765523 0.62234477 0.63378268 0.62622549 0.62214052\n",
      " 0.62418301 0.20568144 0.20549963 0.20459767 0.20283619 0.20020334\n",
      " 0.19677752 0.19269347 0.1881137  0.18320698 0.178133  ]\n",
      "10 day output [[0.17303291]]\n",
      "11 day input [0.29084967 0.28737745 0.29003268 0.28901144 0.29738562 0.29064542\n",
      " 0.29473039 0.31352124 0.30739379 0.30392157 0.29146242 0.29268791\n",
      " 0.29861111 0.30187908 0.29840686 0.29289216 0.30085784 0.3002451\n",
      " 0.29370915 0.27185458 0.28002451 0.27308007 0.26062092 0.24816176\n",
      " 0.25367647 0.26940359 0.26327614 0.26388889 0.27961601 0.29187092\n",
      " 0.30187908 0.30228758 0.2943219  0.30473856 0.30085784 0.30004085\n",
      " 0.29064542 0.30841503 0.31658497 0.3192402  0.31556373 0.30821078\n",
      " 0.31004902 0.30984477 0.30147059 0.28676471 0.27124183 0.27859477\n",
      " 0.27593954 0.28472222 0.28860294 0.28227124 0.30718954 0.29575163\n",
      " 0.31372549 0.3496732  0.36172386 0.37908497 0.38582516 0.3809232\n",
      " 0.39236111 0.37908497 0.38480392 0.3690768  0.37275327 0.36376634\n",
      " 0.36846405 0.37275327 0.35723039 0.36029412 0.3619281  0.35355392\n",
      " 0.34375    0.3500817  0.34926471 0.36560458 0.34742647 0.3314951\n",
      " 0.3065768  0.34007353 0.3995098  0.46119281 0.44791667 0.46343954\n",
      " 0.47058824 0.44485294 0.47222222 0.4628268  0.45894608 0.44689542\n",
      " 0.47426471 0.47814542 0.47651144 0.45894608 0.47283497 0.51062092\n",
      " 0.50980392 0.51450163 0.52410131 0.53553922 0.51613562 0.53553922\n",
      " 0.52941176 0.54064542 0.55249183 0.54227941 0.53615196 0.49101307\n",
      " 0.47263072 0.50531046 0.48059641 0.49918301 0.51000817 0.5126634\n",
      " 0.50653595 0.5249183  0.52553105 0.52022059 0.52083333 0.52471405\n",
      " 0.53533497 0.52818627 0.52553105 0.52839052 0.51409314 0.50510621\n",
      " 0.49897876 0.52573529 0.50796569 0.52634804 0.57005719 0.59579248\n",
      " 0.59640523 0.59987745 0.59395425 0.58966503 0.62806373 0.58843954\n",
      " 0.58639706 0.65155229 0.63398693 0.62683824 0.67708333 0.6942402\n",
      " 0.69852941 0.7310049  0.79227941 0.78513072 0.78880719 0.79187092\n",
      " 0.80780229 0.80269608 0.84477124 0.81392974 0.84211601 0.82761438\n",
      " 0.80923203 0.8129085  0.79248366 0.82945261 0.84763072 0.8880719\n",
      " 0.84497549 0.83129085 0.8306781  0.84109477 0.85743464 0.89746732\n",
      " 0.89828431 0.89542484 0.90604575 0.91911765 0.91748366 0.92177288\n",
      " 0.96180556 0.94750817 0.94035948 0.94056373 0.94485294 0.94771242\n",
      " 0.96670752 0.95731209 0.95241013 0.94914216 1.         0.98876634\n",
      " 0.96180556 0.9501634  0.91707516 0.92892157 0.93096405 0.92422386\n",
      " 0.9121732  0.9121732  0.90216503 0.91115196 0.85661765 0.84722222\n",
      " 0.79207516 0.78492647 0.75878268 0.81372549 0.81495098 0.80596405\n",
      " 0.83394608 0.82107843 0.80923203 0.79513889 0.76388889 0.74305556\n",
      " 0.75837418 0.74019608 0.77512255 0.78656046 0.79268791 0.79473039\n",
      " 0.79207516 0.79534314 0.78921569 0.76776961 0.78615196 0.76552288\n",
      " 0.79697712 0.8057598  0.80698529 0.81147876 0.78206699 0.73386438\n",
      " 0.73978758 0.74448529 0.72671569 0.72283497 0.74040033 0.74693627\n",
      " 0.72630719 0.80065359 0.79187092 0.77328431 0.78451797 0.78329248\n",
      " 0.80412582 0.79473039 0.7879902  0.7879902  0.79473039 0.81168301\n",
      " 0.81699346 0.82986111 0.83843954 0.83884804 0.82781863 0.82598039\n",
      " 0.85028595 0.85886438 0.86254085 0.88480392 0.86519608 0.84027778\n",
      " 0.84497549 0.87111928 0.85273693 0.86213235 0.83455882 0.84375\n",
      " 0.71466503 0.66053922 0.65420752 0.68035131 0.6689134  0.66421569\n",
      " 0.67892157 0.69138072 0.70894608 0.72263072 0.73406863 0.72120098\n",
      " 0.74979575 0.7689951  0.74468954 0.7120098  0.74673203 0.75490196\n",
      " 0.76041667 0.75980392 0.74652778 0.76245915 0.77062908 0.80412582\n",
      " 0.78104575 0.79411765 0.76021242 0.73488562 0.72406046 0.73999183\n",
      " 0.74979575 0.76143791 0.75428922 0.74754902 0.76960784 0.7495915\n",
      " 0.81719771 0.80208333 0.77736928 0.75714869 0.79370915 0.79166667\n",
      " 0.77144608 0.75265523 0.72691993 0.6629902  0.68198529 0.64419935\n",
      " 0.62152778 0.6439951  0.66319444 0.67544935 0.63705065 0.64603758\n",
      " 0.65890523 0.65870098 0.67790033 0.63194444 0.63112745 0.62785948\n",
      " 0.64767157 0.63991013 0.63480392 0.63868464 0.62336601 0.62745098\n",
      " 0.63970588 0.64705882 0.66196895 0.67075163 0.65196078 0.63112745\n",
      " 0.61294935 0.6376634  0.62254902 0.62745098 0.63337418 0.62642974\n",
      " 0.63623366 0.58312908 0.57781863 0.57230392 0.58006536 0.57618464\n",
      " 0.55167484 0.57883987 0.625      0.63582516 0.62949346 0.62888072\n",
      " 0.62765523 0.62234477 0.63378268 0.62622549 0.62214052 0.62418301\n",
      " 0.20568144 0.20549963 0.20459767 0.20283619 0.20020334 0.19677752\n",
      " 0.19269347 0.1881137  0.18320698 0.178133   0.17303291]\n",
      "11 day output [[0.16802403]]\n",
      "12 day input [0.28737745 0.29003268 0.28901144 0.29738562 0.29064542 0.29473039\n",
      " 0.31352124 0.30739379 0.30392157 0.29146242 0.29268791 0.29861111\n",
      " 0.30187908 0.29840686 0.29289216 0.30085784 0.3002451  0.29370915\n",
      " 0.27185458 0.28002451 0.27308007 0.26062092 0.24816176 0.25367647\n",
      " 0.26940359 0.26327614 0.26388889 0.27961601 0.29187092 0.30187908\n",
      " 0.30228758 0.2943219  0.30473856 0.30085784 0.30004085 0.29064542\n",
      " 0.30841503 0.31658497 0.3192402  0.31556373 0.30821078 0.31004902\n",
      " 0.30984477 0.30147059 0.28676471 0.27124183 0.27859477 0.27593954\n",
      " 0.28472222 0.28860294 0.28227124 0.30718954 0.29575163 0.31372549\n",
      " 0.3496732  0.36172386 0.37908497 0.38582516 0.3809232  0.39236111\n",
      " 0.37908497 0.38480392 0.3690768  0.37275327 0.36376634 0.36846405\n",
      " 0.37275327 0.35723039 0.36029412 0.3619281  0.35355392 0.34375\n",
      " 0.3500817  0.34926471 0.36560458 0.34742647 0.3314951  0.3065768\n",
      " 0.34007353 0.3995098  0.46119281 0.44791667 0.46343954 0.47058824\n",
      " 0.44485294 0.47222222 0.4628268  0.45894608 0.44689542 0.47426471\n",
      " 0.47814542 0.47651144 0.45894608 0.47283497 0.51062092 0.50980392\n",
      " 0.51450163 0.52410131 0.53553922 0.51613562 0.53553922 0.52941176\n",
      " 0.54064542 0.55249183 0.54227941 0.53615196 0.49101307 0.47263072\n",
      " 0.50531046 0.48059641 0.49918301 0.51000817 0.5126634  0.50653595\n",
      " 0.5249183  0.52553105 0.52022059 0.52083333 0.52471405 0.53533497\n",
      " 0.52818627 0.52553105 0.52839052 0.51409314 0.50510621 0.49897876\n",
      " 0.52573529 0.50796569 0.52634804 0.57005719 0.59579248 0.59640523\n",
      " 0.59987745 0.59395425 0.58966503 0.62806373 0.58843954 0.58639706\n",
      " 0.65155229 0.63398693 0.62683824 0.67708333 0.6942402  0.69852941\n",
      " 0.7310049  0.79227941 0.78513072 0.78880719 0.79187092 0.80780229\n",
      " 0.80269608 0.84477124 0.81392974 0.84211601 0.82761438 0.80923203\n",
      " 0.8129085  0.79248366 0.82945261 0.84763072 0.8880719  0.84497549\n",
      " 0.83129085 0.8306781  0.84109477 0.85743464 0.89746732 0.89828431\n",
      " 0.89542484 0.90604575 0.91911765 0.91748366 0.92177288 0.96180556\n",
      " 0.94750817 0.94035948 0.94056373 0.94485294 0.94771242 0.96670752\n",
      " 0.95731209 0.95241013 0.94914216 1.         0.98876634 0.96180556\n",
      " 0.9501634  0.91707516 0.92892157 0.93096405 0.92422386 0.9121732\n",
      " 0.9121732  0.90216503 0.91115196 0.85661765 0.84722222 0.79207516\n",
      " 0.78492647 0.75878268 0.81372549 0.81495098 0.80596405 0.83394608\n",
      " 0.82107843 0.80923203 0.79513889 0.76388889 0.74305556 0.75837418\n",
      " 0.74019608 0.77512255 0.78656046 0.79268791 0.79473039 0.79207516\n",
      " 0.79534314 0.78921569 0.76776961 0.78615196 0.76552288 0.79697712\n",
      " 0.8057598  0.80698529 0.81147876 0.78206699 0.73386438 0.73978758\n",
      " 0.74448529 0.72671569 0.72283497 0.74040033 0.74693627 0.72630719\n",
      " 0.80065359 0.79187092 0.77328431 0.78451797 0.78329248 0.80412582\n",
      " 0.79473039 0.7879902  0.7879902  0.79473039 0.81168301 0.81699346\n",
      " 0.82986111 0.83843954 0.83884804 0.82781863 0.82598039 0.85028595\n",
      " 0.85886438 0.86254085 0.88480392 0.86519608 0.84027778 0.84497549\n",
      " 0.87111928 0.85273693 0.86213235 0.83455882 0.84375    0.71466503\n",
      " 0.66053922 0.65420752 0.68035131 0.6689134  0.66421569 0.67892157\n",
      " 0.69138072 0.70894608 0.72263072 0.73406863 0.72120098 0.74979575\n",
      " 0.7689951  0.74468954 0.7120098  0.74673203 0.75490196 0.76041667\n",
      " 0.75980392 0.74652778 0.76245915 0.77062908 0.80412582 0.78104575\n",
      " 0.79411765 0.76021242 0.73488562 0.72406046 0.73999183 0.74979575\n",
      " 0.76143791 0.75428922 0.74754902 0.76960784 0.7495915  0.81719771\n",
      " 0.80208333 0.77736928 0.75714869 0.79370915 0.79166667 0.77144608\n",
      " 0.75265523 0.72691993 0.6629902  0.68198529 0.64419935 0.62152778\n",
      " 0.6439951  0.66319444 0.67544935 0.63705065 0.64603758 0.65890523\n",
      " 0.65870098 0.67790033 0.63194444 0.63112745 0.62785948 0.64767157\n",
      " 0.63991013 0.63480392 0.63868464 0.62336601 0.62745098 0.63970588\n",
      " 0.64705882 0.66196895 0.67075163 0.65196078 0.63112745 0.61294935\n",
      " 0.6376634  0.62254902 0.62745098 0.63337418 0.62642974 0.63623366\n",
      " 0.58312908 0.57781863 0.57230392 0.58006536 0.57618464 0.55167484\n",
      " 0.57883987 0.625      0.63582516 0.62949346 0.62888072 0.62765523\n",
      " 0.62234477 0.63378268 0.62622549 0.62214052 0.62418301 0.20568144\n",
      " 0.20549963 0.20459767 0.20283619 0.20020334 0.19677752 0.19269347\n",
      " 0.1881137  0.18320698 0.178133   0.17303291 0.16802403]\n",
      "12 day output [[0.16319828]]\n",
      "13 day input [0.29003268 0.28901144 0.29738562 0.29064542 0.29473039 0.31352124\n",
      " 0.30739379 0.30392157 0.29146242 0.29268791 0.29861111 0.30187908\n",
      " 0.29840686 0.29289216 0.30085784 0.3002451  0.29370915 0.27185458\n",
      " 0.28002451 0.27308007 0.26062092 0.24816176 0.25367647 0.26940359\n",
      " 0.26327614 0.26388889 0.27961601 0.29187092 0.30187908 0.30228758\n",
      " 0.2943219  0.30473856 0.30085784 0.30004085 0.29064542 0.30841503\n",
      " 0.31658497 0.3192402  0.31556373 0.30821078 0.31004902 0.30984477\n",
      " 0.30147059 0.28676471 0.27124183 0.27859477 0.27593954 0.28472222\n",
      " 0.28860294 0.28227124 0.30718954 0.29575163 0.31372549 0.3496732\n",
      " 0.36172386 0.37908497 0.38582516 0.3809232  0.39236111 0.37908497\n",
      " 0.38480392 0.3690768  0.37275327 0.36376634 0.36846405 0.37275327\n",
      " 0.35723039 0.36029412 0.3619281  0.35355392 0.34375    0.3500817\n",
      " 0.34926471 0.36560458 0.34742647 0.3314951  0.3065768  0.34007353\n",
      " 0.3995098  0.46119281 0.44791667 0.46343954 0.47058824 0.44485294\n",
      " 0.47222222 0.4628268  0.45894608 0.44689542 0.47426471 0.47814542\n",
      " 0.47651144 0.45894608 0.47283497 0.51062092 0.50980392 0.51450163\n",
      " 0.52410131 0.53553922 0.51613562 0.53553922 0.52941176 0.54064542\n",
      " 0.55249183 0.54227941 0.53615196 0.49101307 0.47263072 0.50531046\n",
      " 0.48059641 0.49918301 0.51000817 0.5126634  0.50653595 0.5249183\n",
      " 0.52553105 0.52022059 0.52083333 0.52471405 0.53533497 0.52818627\n",
      " 0.52553105 0.52839052 0.51409314 0.50510621 0.49897876 0.52573529\n",
      " 0.50796569 0.52634804 0.57005719 0.59579248 0.59640523 0.59987745\n",
      " 0.59395425 0.58966503 0.62806373 0.58843954 0.58639706 0.65155229\n",
      " 0.63398693 0.62683824 0.67708333 0.6942402  0.69852941 0.7310049\n",
      " 0.79227941 0.78513072 0.78880719 0.79187092 0.80780229 0.80269608\n",
      " 0.84477124 0.81392974 0.84211601 0.82761438 0.80923203 0.8129085\n",
      " 0.79248366 0.82945261 0.84763072 0.8880719  0.84497549 0.83129085\n",
      " 0.8306781  0.84109477 0.85743464 0.89746732 0.89828431 0.89542484\n",
      " 0.90604575 0.91911765 0.91748366 0.92177288 0.96180556 0.94750817\n",
      " 0.94035948 0.94056373 0.94485294 0.94771242 0.96670752 0.95731209\n",
      " 0.95241013 0.94914216 1.         0.98876634 0.96180556 0.9501634\n",
      " 0.91707516 0.92892157 0.93096405 0.92422386 0.9121732  0.9121732\n",
      " 0.90216503 0.91115196 0.85661765 0.84722222 0.79207516 0.78492647\n",
      " 0.75878268 0.81372549 0.81495098 0.80596405 0.83394608 0.82107843\n",
      " 0.80923203 0.79513889 0.76388889 0.74305556 0.75837418 0.74019608\n",
      " 0.77512255 0.78656046 0.79268791 0.79473039 0.79207516 0.79534314\n",
      " 0.78921569 0.76776961 0.78615196 0.76552288 0.79697712 0.8057598\n",
      " 0.80698529 0.81147876 0.78206699 0.73386438 0.73978758 0.74448529\n",
      " 0.72671569 0.72283497 0.74040033 0.74693627 0.72630719 0.80065359\n",
      " 0.79187092 0.77328431 0.78451797 0.78329248 0.80412582 0.79473039\n",
      " 0.7879902  0.7879902  0.79473039 0.81168301 0.81699346 0.82986111\n",
      " 0.83843954 0.83884804 0.82781863 0.82598039 0.85028595 0.85886438\n",
      " 0.86254085 0.88480392 0.86519608 0.84027778 0.84497549 0.87111928\n",
      " 0.85273693 0.86213235 0.83455882 0.84375    0.71466503 0.66053922\n",
      " 0.65420752 0.68035131 0.6689134  0.66421569 0.67892157 0.69138072\n",
      " 0.70894608 0.72263072 0.73406863 0.72120098 0.74979575 0.7689951\n",
      " 0.74468954 0.7120098  0.74673203 0.75490196 0.76041667 0.75980392\n",
      " 0.74652778 0.76245915 0.77062908 0.80412582 0.78104575 0.79411765\n",
      " 0.76021242 0.73488562 0.72406046 0.73999183 0.74979575 0.76143791\n",
      " 0.75428922 0.74754902 0.76960784 0.7495915  0.81719771 0.80208333\n",
      " 0.77736928 0.75714869 0.79370915 0.79166667 0.77144608 0.75265523\n",
      " 0.72691993 0.6629902  0.68198529 0.64419935 0.62152778 0.6439951\n",
      " 0.66319444 0.67544935 0.63705065 0.64603758 0.65890523 0.65870098\n",
      " 0.67790033 0.63194444 0.63112745 0.62785948 0.64767157 0.63991013\n",
      " 0.63480392 0.63868464 0.62336601 0.62745098 0.63970588 0.64705882\n",
      " 0.66196895 0.67075163 0.65196078 0.63112745 0.61294935 0.6376634\n",
      " 0.62254902 0.62745098 0.63337418 0.62642974 0.63623366 0.58312908\n",
      " 0.57781863 0.57230392 0.58006536 0.57618464 0.55167484 0.57883987\n",
      " 0.625      0.63582516 0.62949346 0.62888072 0.62765523 0.62234477\n",
      " 0.63378268 0.62622549 0.62214052 0.62418301 0.20568144 0.20549963\n",
      " 0.20459767 0.20283619 0.20020334 0.19677752 0.19269347 0.1881137\n",
      " 0.18320698 0.178133   0.17303291 0.16802403 0.16319828]\n",
      "13 day output [[0.15862314]]\n",
      "14 day input [0.28901144 0.29738562 0.29064542 0.29473039 0.31352124 0.30739379\n",
      " 0.30392157 0.29146242 0.29268791 0.29861111 0.30187908 0.29840686\n",
      " 0.29289216 0.30085784 0.3002451  0.29370915 0.27185458 0.28002451\n",
      " 0.27308007 0.26062092 0.24816176 0.25367647 0.26940359 0.26327614\n",
      " 0.26388889 0.27961601 0.29187092 0.30187908 0.30228758 0.2943219\n",
      " 0.30473856 0.30085784 0.30004085 0.29064542 0.30841503 0.31658497\n",
      " 0.3192402  0.31556373 0.30821078 0.31004902 0.30984477 0.30147059\n",
      " 0.28676471 0.27124183 0.27859477 0.27593954 0.28472222 0.28860294\n",
      " 0.28227124 0.30718954 0.29575163 0.31372549 0.3496732  0.36172386\n",
      " 0.37908497 0.38582516 0.3809232  0.39236111 0.37908497 0.38480392\n",
      " 0.3690768  0.37275327 0.36376634 0.36846405 0.37275327 0.35723039\n",
      " 0.36029412 0.3619281  0.35355392 0.34375    0.3500817  0.34926471\n",
      " 0.36560458 0.34742647 0.3314951  0.3065768  0.34007353 0.3995098\n",
      " 0.46119281 0.44791667 0.46343954 0.47058824 0.44485294 0.47222222\n",
      " 0.4628268  0.45894608 0.44689542 0.47426471 0.47814542 0.47651144\n",
      " 0.45894608 0.47283497 0.51062092 0.50980392 0.51450163 0.52410131\n",
      " 0.53553922 0.51613562 0.53553922 0.52941176 0.54064542 0.55249183\n",
      " 0.54227941 0.53615196 0.49101307 0.47263072 0.50531046 0.48059641\n",
      " 0.49918301 0.51000817 0.5126634  0.50653595 0.5249183  0.52553105\n",
      " 0.52022059 0.52083333 0.52471405 0.53533497 0.52818627 0.52553105\n",
      " 0.52839052 0.51409314 0.50510621 0.49897876 0.52573529 0.50796569\n",
      " 0.52634804 0.57005719 0.59579248 0.59640523 0.59987745 0.59395425\n",
      " 0.58966503 0.62806373 0.58843954 0.58639706 0.65155229 0.63398693\n",
      " 0.62683824 0.67708333 0.6942402  0.69852941 0.7310049  0.79227941\n",
      " 0.78513072 0.78880719 0.79187092 0.80780229 0.80269608 0.84477124\n",
      " 0.81392974 0.84211601 0.82761438 0.80923203 0.8129085  0.79248366\n",
      " 0.82945261 0.84763072 0.8880719  0.84497549 0.83129085 0.8306781\n",
      " 0.84109477 0.85743464 0.89746732 0.89828431 0.89542484 0.90604575\n",
      " 0.91911765 0.91748366 0.92177288 0.96180556 0.94750817 0.94035948\n",
      " 0.94056373 0.94485294 0.94771242 0.96670752 0.95731209 0.95241013\n",
      " 0.94914216 1.         0.98876634 0.96180556 0.9501634  0.91707516\n",
      " 0.92892157 0.93096405 0.92422386 0.9121732  0.9121732  0.90216503\n",
      " 0.91115196 0.85661765 0.84722222 0.79207516 0.78492647 0.75878268\n",
      " 0.81372549 0.81495098 0.80596405 0.83394608 0.82107843 0.80923203\n",
      " 0.79513889 0.76388889 0.74305556 0.75837418 0.74019608 0.77512255\n",
      " 0.78656046 0.79268791 0.79473039 0.79207516 0.79534314 0.78921569\n",
      " 0.76776961 0.78615196 0.76552288 0.79697712 0.8057598  0.80698529\n",
      " 0.81147876 0.78206699 0.73386438 0.73978758 0.74448529 0.72671569\n",
      " 0.72283497 0.74040033 0.74693627 0.72630719 0.80065359 0.79187092\n",
      " 0.77328431 0.78451797 0.78329248 0.80412582 0.79473039 0.7879902\n",
      " 0.7879902  0.79473039 0.81168301 0.81699346 0.82986111 0.83843954\n",
      " 0.83884804 0.82781863 0.82598039 0.85028595 0.85886438 0.86254085\n",
      " 0.88480392 0.86519608 0.84027778 0.84497549 0.87111928 0.85273693\n",
      " 0.86213235 0.83455882 0.84375    0.71466503 0.66053922 0.65420752\n",
      " 0.68035131 0.6689134  0.66421569 0.67892157 0.69138072 0.70894608\n",
      " 0.72263072 0.73406863 0.72120098 0.74979575 0.7689951  0.74468954\n",
      " 0.7120098  0.74673203 0.75490196 0.76041667 0.75980392 0.74652778\n",
      " 0.76245915 0.77062908 0.80412582 0.78104575 0.79411765 0.76021242\n",
      " 0.73488562 0.72406046 0.73999183 0.74979575 0.76143791 0.75428922\n",
      " 0.74754902 0.76960784 0.7495915  0.81719771 0.80208333 0.77736928\n",
      " 0.75714869 0.79370915 0.79166667 0.77144608 0.75265523 0.72691993\n",
      " 0.6629902  0.68198529 0.64419935 0.62152778 0.6439951  0.66319444\n",
      " 0.67544935 0.63705065 0.64603758 0.65890523 0.65870098 0.67790033\n",
      " 0.63194444 0.63112745 0.62785948 0.64767157 0.63991013 0.63480392\n",
      " 0.63868464 0.62336601 0.62745098 0.63970588 0.64705882 0.66196895\n",
      " 0.67075163 0.65196078 0.63112745 0.61294935 0.6376634  0.62254902\n",
      " 0.62745098 0.63337418 0.62642974 0.63623366 0.58312908 0.57781863\n",
      " 0.57230392 0.58006536 0.57618464 0.55167484 0.57883987 0.625\n",
      " 0.63582516 0.62949346 0.62888072 0.62765523 0.62234477 0.63378268\n",
      " 0.62622549 0.62214052 0.62418301 0.20568144 0.20549963 0.20459767\n",
      " 0.20283619 0.20020334 0.19677752 0.19269347 0.1881137  0.18320698\n",
      " 0.178133   0.17303291 0.16802403 0.16319828 0.15862314]\n",
      "14 day output [[0.15434386]]\n",
      "15 day input [0.29738562 0.29064542 0.29473039 0.31352124 0.30739379 0.30392157\n",
      " 0.29146242 0.29268791 0.29861111 0.30187908 0.29840686 0.29289216\n",
      " 0.30085784 0.3002451  0.29370915 0.27185458 0.28002451 0.27308007\n",
      " 0.26062092 0.24816176 0.25367647 0.26940359 0.26327614 0.26388889\n",
      " 0.27961601 0.29187092 0.30187908 0.30228758 0.2943219  0.30473856\n",
      " 0.30085784 0.30004085 0.29064542 0.30841503 0.31658497 0.3192402\n",
      " 0.31556373 0.30821078 0.31004902 0.30984477 0.30147059 0.28676471\n",
      " 0.27124183 0.27859477 0.27593954 0.28472222 0.28860294 0.28227124\n",
      " 0.30718954 0.29575163 0.31372549 0.3496732  0.36172386 0.37908497\n",
      " 0.38582516 0.3809232  0.39236111 0.37908497 0.38480392 0.3690768\n",
      " 0.37275327 0.36376634 0.36846405 0.37275327 0.35723039 0.36029412\n",
      " 0.3619281  0.35355392 0.34375    0.3500817  0.34926471 0.36560458\n",
      " 0.34742647 0.3314951  0.3065768  0.34007353 0.3995098  0.46119281\n",
      " 0.44791667 0.46343954 0.47058824 0.44485294 0.47222222 0.4628268\n",
      " 0.45894608 0.44689542 0.47426471 0.47814542 0.47651144 0.45894608\n",
      " 0.47283497 0.51062092 0.50980392 0.51450163 0.52410131 0.53553922\n",
      " 0.51613562 0.53553922 0.52941176 0.54064542 0.55249183 0.54227941\n",
      " 0.53615196 0.49101307 0.47263072 0.50531046 0.48059641 0.49918301\n",
      " 0.51000817 0.5126634  0.50653595 0.5249183  0.52553105 0.52022059\n",
      " 0.52083333 0.52471405 0.53533497 0.52818627 0.52553105 0.52839052\n",
      " 0.51409314 0.50510621 0.49897876 0.52573529 0.50796569 0.52634804\n",
      " 0.57005719 0.59579248 0.59640523 0.59987745 0.59395425 0.58966503\n",
      " 0.62806373 0.58843954 0.58639706 0.65155229 0.63398693 0.62683824\n",
      " 0.67708333 0.6942402  0.69852941 0.7310049  0.79227941 0.78513072\n",
      " 0.78880719 0.79187092 0.80780229 0.80269608 0.84477124 0.81392974\n",
      " 0.84211601 0.82761438 0.80923203 0.8129085  0.79248366 0.82945261\n",
      " 0.84763072 0.8880719  0.84497549 0.83129085 0.8306781  0.84109477\n",
      " 0.85743464 0.89746732 0.89828431 0.89542484 0.90604575 0.91911765\n",
      " 0.91748366 0.92177288 0.96180556 0.94750817 0.94035948 0.94056373\n",
      " 0.94485294 0.94771242 0.96670752 0.95731209 0.95241013 0.94914216\n",
      " 1.         0.98876634 0.96180556 0.9501634  0.91707516 0.92892157\n",
      " 0.93096405 0.92422386 0.9121732  0.9121732  0.90216503 0.91115196\n",
      " 0.85661765 0.84722222 0.79207516 0.78492647 0.75878268 0.81372549\n",
      " 0.81495098 0.80596405 0.83394608 0.82107843 0.80923203 0.79513889\n",
      " 0.76388889 0.74305556 0.75837418 0.74019608 0.77512255 0.78656046\n",
      " 0.79268791 0.79473039 0.79207516 0.79534314 0.78921569 0.76776961\n",
      " 0.78615196 0.76552288 0.79697712 0.8057598  0.80698529 0.81147876\n",
      " 0.78206699 0.73386438 0.73978758 0.74448529 0.72671569 0.72283497\n",
      " 0.74040033 0.74693627 0.72630719 0.80065359 0.79187092 0.77328431\n",
      " 0.78451797 0.78329248 0.80412582 0.79473039 0.7879902  0.7879902\n",
      " 0.79473039 0.81168301 0.81699346 0.82986111 0.83843954 0.83884804\n",
      " 0.82781863 0.82598039 0.85028595 0.85886438 0.86254085 0.88480392\n",
      " 0.86519608 0.84027778 0.84497549 0.87111928 0.85273693 0.86213235\n",
      " 0.83455882 0.84375    0.71466503 0.66053922 0.65420752 0.68035131\n",
      " 0.6689134  0.66421569 0.67892157 0.69138072 0.70894608 0.72263072\n",
      " 0.73406863 0.72120098 0.74979575 0.7689951  0.74468954 0.7120098\n",
      " 0.74673203 0.75490196 0.76041667 0.75980392 0.74652778 0.76245915\n",
      " 0.77062908 0.80412582 0.78104575 0.79411765 0.76021242 0.73488562\n",
      " 0.72406046 0.73999183 0.74979575 0.76143791 0.75428922 0.74754902\n",
      " 0.76960784 0.7495915  0.81719771 0.80208333 0.77736928 0.75714869\n",
      " 0.79370915 0.79166667 0.77144608 0.75265523 0.72691993 0.6629902\n",
      " 0.68198529 0.64419935 0.62152778 0.6439951  0.66319444 0.67544935\n",
      " 0.63705065 0.64603758 0.65890523 0.65870098 0.67790033 0.63194444\n",
      " 0.63112745 0.62785948 0.64767157 0.63991013 0.63480392 0.63868464\n",
      " 0.62336601 0.62745098 0.63970588 0.64705882 0.66196895 0.67075163\n",
      " 0.65196078 0.63112745 0.61294935 0.6376634  0.62254902 0.62745098\n",
      " 0.63337418 0.62642974 0.63623366 0.58312908 0.57781863 0.57230392\n",
      " 0.58006536 0.57618464 0.55167484 0.57883987 0.625      0.63582516\n",
      " 0.62949346 0.62888072 0.62765523 0.62234477 0.63378268 0.62622549\n",
      " 0.62214052 0.62418301 0.20568144 0.20549963 0.20459767 0.20283619\n",
      " 0.20020334 0.19677752 0.19269347 0.1881137  0.18320698 0.178133\n",
      " 0.17303291 0.16802403 0.16319828 0.15862314 0.15434386]\n",
      "15 day output [[0.15038669]]\n",
      "16 day input [0.29064542 0.29473039 0.31352124 0.30739379 0.30392157 0.29146242\n",
      " 0.29268791 0.29861111 0.30187908 0.29840686 0.29289216 0.30085784\n",
      " 0.3002451  0.29370915 0.27185458 0.28002451 0.27308007 0.26062092\n",
      " 0.24816176 0.25367647 0.26940359 0.26327614 0.26388889 0.27961601\n",
      " 0.29187092 0.30187908 0.30228758 0.2943219  0.30473856 0.30085784\n",
      " 0.30004085 0.29064542 0.30841503 0.31658497 0.3192402  0.31556373\n",
      " 0.30821078 0.31004902 0.30984477 0.30147059 0.28676471 0.27124183\n",
      " 0.27859477 0.27593954 0.28472222 0.28860294 0.28227124 0.30718954\n",
      " 0.29575163 0.31372549 0.3496732  0.36172386 0.37908497 0.38582516\n",
      " 0.3809232  0.39236111 0.37908497 0.38480392 0.3690768  0.37275327\n",
      " 0.36376634 0.36846405 0.37275327 0.35723039 0.36029412 0.3619281\n",
      " 0.35355392 0.34375    0.3500817  0.34926471 0.36560458 0.34742647\n",
      " 0.3314951  0.3065768  0.34007353 0.3995098  0.46119281 0.44791667\n",
      " 0.46343954 0.47058824 0.44485294 0.47222222 0.4628268  0.45894608\n",
      " 0.44689542 0.47426471 0.47814542 0.47651144 0.45894608 0.47283497\n",
      " 0.51062092 0.50980392 0.51450163 0.52410131 0.53553922 0.51613562\n",
      " 0.53553922 0.52941176 0.54064542 0.55249183 0.54227941 0.53615196\n",
      " 0.49101307 0.47263072 0.50531046 0.48059641 0.49918301 0.51000817\n",
      " 0.5126634  0.50653595 0.5249183  0.52553105 0.52022059 0.52083333\n",
      " 0.52471405 0.53533497 0.52818627 0.52553105 0.52839052 0.51409314\n",
      " 0.50510621 0.49897876 0.52573529 0.50796569 0.52634804 0.57005719\n",
      " 0.59579248 0.59640523 0.59987745 0.59395425 0.58966503 0.62806373\n",
      " 0.58843954 0.58639706 0.65155229 0.63398693 0.62683824 0.67708333\n",
      " 0.6942402  0.69852941 0.7310049  0.79227941 0.78513072 0.78880719\n",
      " 0.79187092 0.80780229 0.80269608 0.84477124 0.81392974 0.84211601\n",
      " 0.82761438 0.80923203 0.8129085  0.79248366 0.82945261 0.84763072\n",
      " 0.8880719  0.84497549 0.83129085 0.8306781  0.84109477 0.85743464\n",
      " 0.89746732 0.89828431 0.89542484 0.90604575 0.91911765 0.91748366\n",
      " 0.92177288 0.96180556 0.94750817 0.94035948 0.94056373 0.94485294\n",
      " 0.94771242 0.96670752 0.95731209 0.95241013 0.94914216 1.\n",
      " 0.98876634 0.96180556 0.9501634  0.91707516 0.92892157 0.93096405\n",
      " 0.92422386 0.9121732  0.9121732  0.90216503 0.91115196 0.85661765\n",
      " 0.84722222 0.79207516 0.78492647 0.75878268 0.81372549 0.81495098\n",
      " 0.80596405 0.83394608 0.82107843 0.80923203 0.79513889 0.76388889\n",
      " 0.74305556 0.75837418 0.74019608 0.77512255 0.78656046 0.79268791\n",
      " 0.79473039 0.79207516 0.79534314 0.78921569 0.76776961 0.78615196\n",
      " 0.76552288 0.79697712 0.8057598  0.80698529 0.81147876 0.78206699\n",
      " 0.73386438 0.73978758 0.74448529 0.72671569 0.72283497 0.74040033\n",
      " 0.74693627 0.72630719 0.80065359 0.79187092 0.77328431 0.78451797\n",
      " 0.78329248 0.80412582 0.79473039 0.7879902  0.7879902  0.79473039\n",
      " 0.81168301 0.81699346 0.82986111 0.83843954 0.83884804 0.82781863\n",
      " 0.82598039 0.85028595 0.85886438 0.86254085 0.88480392 0.86519608\n",
      " 0.84027778 0.84497549 0.87111928 0.85273693 0.86213235 0.83455882\n",
      " 0.84375    0.71466503 0.66053922 0.65420752 0.68035131 0.6689134\n",
      " 0.66421569 0.67892157 0.69138072 0.70894608 0.72263072 0.73406863\n",
      " 0.72120098 0.74979575 0.7689951  0.74468954 0.7120098  0.74673203\n",
      " 0.75490196 0.76041667 0.75980392 0.74652778 0.76245915 0.77062908\n",
      " 0.80412582 0.78104575 0.79411765 0.76021242 0.73488562 0.72406046\n",
      " 0.73999183 0.74979575 0.76143791 0.75428922 0.74754902 0.76960784\n",
      " 0.7495915  0.81719771 0.80208333 0.77736928 0.75714869 0.79370915\n",
      " 0.79166667 0.77144608 0.75265523 0.72691993 0.6629902  0.68198529\n",
      " 0.64419935 0.62152778 0.6439951  0.66319444 0.67544935 0.63705065\n",
      " 0.64603758 0.65890523 0.65870098 0.67790033 0.63194444 0.63112745\n",
      " 0.62785948 0.64767157 0.63991013 0.63480392 0.63868464 0.62336601\n",
      " 0.62745098 0.63970588 0.64705882 0.66196895 0.67075163 0.65196078\n",
      " 0.63112745 0.61294935 0.6376634  0.62254902 0.62745098 0.63337418\n",
      " 0.62642974 0.63623366 0.58312908 0.57781863 0.57230392 0.58006536\n",
      " 0.57618464 0.55167484 0.57883987 0.625      0.63582516 0.62949346\n",
      " 0.62888072 0.62765523 0.62234477 0.63378268 0.62622549 0.62214052\n",
      " 0.62418301 0.20568144 0.20549963 0.20459767 0.20283619 0.20020334\n",
      " 0.19677752 0.19269347 0.1881137  0.18320698 0.178133   0.17303291\n",
      " 0.16802403 0.16319828 0.15862314 0.15434386 0.15038669]\n",
      "16 day output [[0.14676233]]\n",
      "17 day input [0.29473039 0.31352124 0.30739379 0.30392157 0.29146242 0.29268791\n",
      " 0.29861111 0.30187908 0.29840686 0.29289216 0.30085784 0.3002451\n",
      " 0.29370915 0.27185458 0.28002451 0.27308007 0.26062092 0.24816176\n",
      " 0.25367647 0.26940359 0.26327614 0.26388889 0.27961601 0.29187092\n",
      " 0.30187908 0.30228758 0.2943219  0.30473856 0.30085784 0.30004085\n",
      " 0.29064542 0.30841503 0.31658497 0.3192402  0.31556373 0.30821078\n",
      " 0.31004902 0.30984477 0.30147059 0.28676471 0.27124183 0.27859477\n",
      " 0.27593954 0.28472222 0.28860294 0.28227124 0.30718954 0.29575163\n",
      " 0.31372549 0.3496732  0.36172386 0.37908497 0.38582516 0.3809232\n",
      " 0.39236111 0.37908497 0.38480392 0.3690768  0.37275327 0.36376634\n",
      " 0.36846405 0.37275327 0.35723039 0.36029412 0.3619281  0.35355392\n",
      " 0.34375    0.3500817  0.34926471 0.36560458 0.34742647 0.3314951\n",
      " 0.3065768  0.34007353 0.3995098  0.46119281 0.44791667 0.46343954\n",
      " 0.47058824 0.44485294 0.47222222 0.4628268  0.45894608 0.44689542\n",
      " 0.47426471 0.47814542 0.47651144 0.45894608 0.47283497 0.51062092\n",
      " 0.50980392 0.51450163 0.52410131 0.53553922 0.51613562 0.53553922\n",
      " 0.52941176 0.54064542 0.55249183 0.54227941 0.53615196 0.49101307\n",
      " 0.47263072 0.50531046 0.48059641 0.49918301 0.51000817 0.5126634\n",
      " 0.50653595 0.5249183  0.52553105 0.52022059 0.52083333 0.52471405\n",
      " 0.53533497 0.52818627 0.52553105 0.52839052 0.51409314 0.50510621\n",
      " 0.49897876 0.52573529 0.50796569 0.52634804 0.57005719 0.59579248\n",
      " 0.59640523 0.59987745 0.59395425 0.58966503 0.62806373 0.58843954\n",
      " 0.58639706 0.65155229 0.63398693 0.62683824 0.67708333 0.6942402\n",
      " 0.69852941 0.7310049  0.79227941 0.78513072 0.78880719 0.79187092\n",
      " 0.80780229 0.80269608 0.84477124 0.81392974 0.84211601 0.82761438\n",
      " 0.80923203 0.8129085  0.79248366 0.82945261 0.84763072 0.8880719\n",
      " 0.84497549 0.83129085 0.8306781  0.84109477 0.85743464 0.89746732\n",
      " 0.89828431 0.89542484 0.90604575 0.91911765 0.91748366 0.92177288\n",
      " 0.96180556 0.94750817 0.94035948 0.94056373 0.94485294 0.94771242\n",
      " 0.96670752 0.95731209 0.95241013 0.94914216 1.         0.98876634\n",
      " 0.96180556 0.9501634  0.91707516 0.92892157 0.93096405 0.92422386\n",
      " 0.9121732  0.9121732  0.90216503 0.91115196 0.85661765 0.84722222\n",
      " 0.79207516 0.78492647 0.75878268 0.81372549 0.81495098 0.80596405\n",
      " 0.83394608 0.82107843 0.80923203 0.79513889 0.76388889 0.74305556\n",
      " 0.75837418 0.74019608 0.77512255 0.78656046 0.79268791 0.79473039\n",
      " 0.79207516 0.79534314 0.78921569 0.76776961 0.78615196 0.76552288\n",
      " 0.79697712 0.8057598  0.80698529 0.81147876 0.78206699 0.73386438\n",
      " 0.73978758 0.74448529 0.72671569 0.72283497 0.74040033 0.74693627\n",
      " 0.72630719 0.80065359 0.79187092 0.77328431 0.78451797 0.78329248\n",
      " 0.80412582 0.79473039 0.7879902  0.7879902  0.79473039 0.81168301\n",
      " 0.81699346 0.82986111 0.83843954 0.83884804 0.82781863 0.82598039\n",
      " 0.85028595 0.85886438 0.86254085 0.88480392 0.86519608 0.84027778\n",
      " 0.84497549 0.87111928 0.85273693 0.86213235 0.83455882 0.84375\n",
      " 0.71466503 0.66053922 0.65420752 0.68035131 0.6689134  0.66421569\n",
      " 0.67892157 0.69138072 0.70894608 0.72263072 0.73406863 0.72120098\n",
      " 0.74979575 0.7689951  0.74468954 0.7120098  0.74673203 0.75490196\n",
      " 0.76041667 0.75980392 0.74652778 0.76245915 0.77062908 0.80412582\n",
      " 0.78104575 0.79411765 0.76021242 0.73488562 0.72406046 0.73999183\n",
      " 0.74979575 0.76143791 0.75428922 0.74754902 0.76960784 0.7495915\n",
      " 0.81719771 0.80208333 0.77736928 0.75714869 0.79370915 0.79166667\n",
      " 0.77144608 0.75265523 0.72691993 0.6629902  0.68198529 0.64419935\n",
      " 0.62152778 0.6439951  0.66319444 0.67544935 0.63705065 0.64603758\n",
      " 0.65890523 0.65870098 0.67790033 0.63194444 0.63112745 0.62785948\n",
      " 0.64767157 0.63991013 0.63480392 0.63868464 0.62336601 0.62745098\n",
      " 0.63970588 0.64705882 0.66196895 0.67075163 0.65196078 0.63112745\n",
      " 0.61294935 0.6376634  0.62254902 0.62745098 0.63337418 0.62642974\n",
      " 0.63623366 0.58312908 0.57781863 0.57230392 0.58006536 0.57618464\n",
      " 0.55167484 0.57883987 0.625      0.63582516 0.62949346 0.62888072\n",
      " 0.62765523 0.62234477 0.63378268 0.62622549 0.62214052 0.62418301\n",
      " 0.20568144 0.20549963 0.20459767 0.20283619 0.20020334 0.19677752\n",
      " 0.19269347 0.1881137  0.18320698 0.178133   0.17303291 0.16802403\n",
      " 0.16319828 0.15862314 0.15434386 0.15038669 0.14676233]\n",
      "17 day output [[0.14346947]]\n",
      "18 day input [0.31352124 0.30739379 0.30392157 0.29146242 0.29268791 0.29861111\n",
      " 0.30187908 0.29840686 0.29289216 0.30085784 0.3002451  0.29370915\n",
      " 0.27185458 0.28002451 0.27308007 0.26062092 0.24816176 0.25367647\n",
      " 0.26940359 0.26327614 0.26388889 0.27961601 0.29187092 0.30187908\n",
      " 0.30228758 0.2943219  0.30473856 0.30085784 0.30004085 0.29064542\n",
      " 0.30841503 0.31658497 0.3192402  0.31556373 0.30821078 0.31004902\n",
      " 0.30984477 0.30147059 0.28676471 0.27124183 0.27859477 0.27593954\n",
      " 0.28472222 0.28860294 0.28227124 0.30718954 0.29575163 0.31372549\n",
      " 0.3496732  0.36172386 0.37908497 0.38582516 0.3809232  0.39236111\n",
      " 0.37908497 0.38480392 0.3690768  0.37275327 0.36376634 0.36846405\n",
      " 0.37275327 0.35723039 0.36029412 0.3619281  0.35355392 0.34375\n",
      " 0.3500817  0.34926471 0.36560458 0.34742647 0.3314951  0.3065768\n",
      " 0.34007353 0.3995098  0.46119281 0.44791667 0.46343954 0.47058824\n",
      " 0.44485294 0.47222222 0.4628268  0.45894608 0.44689542 0.47426471\n",
      " 0.47814542 0.47651144 0.45894608 0.47283497 0.51062092 0.50980392\n",
      " 0.51450163 0.52410131 0.53553922 0.51613562 0.53553922 0.52941176\n",
      " 0.54064542 0.55249183 0.54227941 0.53615196 0.49101307 0.47263072\n",
      " 0.50531046 0.48059641 0.49918301 0.51000817 0.5126634  0.50653595\n",
      " 0.5249183  0.52553105 0.52022059 0.52083333 0.52471405 0.53533497\n",
      " 0.52818627 0.52553105 0.52839052 0.51409314 0.50510621 0.49897876\n",
      " 0.52573529 0.50796569 0.52634804 0.57005719 0.59579248 0.59640523\n",
      " 0.59987745 0.59395425 0.58966503 0.62806373 0.58843954 0.58639706\n",
      " 0.65155229 0.63398693 0.62683824 0.67708333 0.6942402  0.69852941\n",
      " 0.7310049  0.79227941 0.78513072 0.78880719 0.79187092 0.80780229\n",
      " 0.80269608 0.84477124 0.81392974 0.84211601 0.82761438 0.80923203\n",
      " 0.8129085  0.79248366 0.82945261 0.84763072 0.8880719  0.84497549\n",
      " 0.83129085 0.8306781  0.84109477 0.85743464 0.89746732 0.89828431\n",
      " 0.89542484 0.90604575 0.91911765 0.91748366 0.92177288 0.96180556\n",
      " 0.94750817 0.94035948 0.94056373 0.94485294 0.94771242 0.96670752\n",
      " 0.95731209 0.95241013 0.94914216 1.         0.98876634 0.96180556\n",
      " 0.9501634  0.91707516 0.92892157 0.93096405 0.92422386 0.9121732\n",
      " 0.9121732  0.90216503 0.91115196 0.85661765 0.84722222 0.79207516\n",
      " 0.78492647 0.75878268 0.81372549 0.81495098 0.80596405 0.83394608\n",
      " 0.82107843 0.80923203 0.79513889 0.76388889 0.74305556 0.75837418\n",
      " 0.74019608 0.77512255 0.78656046 0.79268791 0.79473039 0.79207516\n",
      " 0.79534314 0.78921569 0.76776961 0.78615196 0.76552288 0.79697712\n",
      " 0.8057598  0.80698529 0.81147876 0.78206699 0.73386438 0.73978758\n",
      " 0.74448529 0.72671569 0.72283497 0.74040033 0.74693627 0.72630719\n",
      " 0.80065359 0.79187092 0.77328431 0.78451797 0.78329248 0.80412582\n",
      " 0.79473039 0.7879902  0.7879902  0.79473039 0.81168301 0.81699346\n",
      " 0.82986111 0.83843954 0.83884804 0.82781863 0.82598039 0.85028595\n",
      " 0.85886438 0.86254085 0.88480392 0.86519608 0.84027778 0.84497549\n",
      " 0.87111928 0.85273693 0.86213235 0.83455882 0.84375    0.71466503\n",
      " 0.66053922 0.65420752 0.68035131 0.6689134  0.66421569 0.67892157\n",
      " 0.69138072 0.70894608 0.72263072 0.73406863 0.72120098 0.74979575\n",
      " 0.7689951  0.74468954 0.7120098  0.74673203 0.75490196 0.76041667\n",
      " 0.75980392 0.74652778 0.76245915 0.77062908 0.80412582 0.78104575\n",
      " 0.79411765 0.76021242 0.73488562 0.72406046 0.73999183 0.74979575\n",
      " 0.76143791 0.75428922 0.74754902 0.76960784 0.7495915  0.81719771\n",
      " 0.80208333 0.77736928 0.75714869 0.79370915 0.79166667 0.77144608\n",
      " 0.75265523 0.72691993 0.6629902  0.68198529 0.64419935 0.62152778\n",
      " 0.6439951  0.66319444 0.67544935 0.63705065 0.64603758 0.65890523\n",
      " 0.65870098 0.67790033 0.63194444 0.63112745 0.62785948 0.64767157\n",
      " 0.63991013 0.63480392 0.63868464 0.62336601 0.62745098 0.63970588\n",
      " 0.64705882 0.66196895 0.67075163 0.65196078 0.63112745 0.61294935\n",
      " 0.6376634  0.62254902 0.62745098 0.63337418 0.62642974 0.63623366\n",
      " 0.58312908 0.57781863 0.57230392 0.58006536 0.57618464 0.55167484\n",
      " 0.57883987 0.625      0.63582516 0.62949346 0.62888072 0.62765523\n",
      " 0.62234477 0.63378268 0.62622549 0.62214052 0.62418301 0.20568144\n",
      " 0.20549963 0.20459767 0.20283619 0.20020334 0.19677752 0.19269347\n",
      " 0.1881137  0.18320698 0.178133   0.17303291 0.16802403 0.16319828\n",
      " 0.15862314 0.15434386 0.15038669 0.14676233 0.14346947]\n",
      "18 day output [[0.14049776]]\n",
      "19 day input [0.30739379 0.30392157 0.29146242 0.29268791 0.29861111 0.30187908\n",
      " 0.29840686 0.29289216 0.30085784 0.3002451  0.29370915 0.27185458\n",
      " 0.28002451 0.27308007 0.26062092 0.24816176 0.25367647 0.26940359\n",
      " 0.26327614 0.26388889 0.27961601 0.29187092 0.30187908 0.30228758\n",
      " 0.2943219  0.30473856 0.30085784 0.30004085 0.29064542 0.30841503\n",
      " 0.31658497 0.3192402  0.31556373 0.30821078 0.31004902 0.30984477\n",
      " 0.30147059 0.28676471 0.27124183 0.27859477 0.27593954 0.28472222\n",
      " 0.28860294 0.28227124 0.30718954 0.29575163 0.31372549 0.3496732\n",
      " 0.36172386 0.37908497 0.38582516 0.3809232  0.39236111 0.37908497\n",
      " 0.38480392 0.3690768  0.37275327 0.36376634 0.36846405 0.37275327\n",
      " 0.35723039 0.36029412 0.3619281  0.35355392 0.34375    0.3500817\n",
      " 0.34926471 0.36560458 0.34742647 0.3314951  0.3065768  0.34007353\n",
      " 0.3995098  0.46119281 0.44791667 0.46343954 0.47058824 0.44485294\n",
      " 0.47222222 0.4628268  0.45894608 0.44689542 0.47426471 0.47814542\n",
      " 0.47651144 0.45894608 0.47283497 0.51062092 0.50980392 0.51450163\n",
      " 0.52410131 0.53553922 0.51613562 0.53553922 0.52941176 0.54064542\n",
      " 0.55249183 0.54227941 0.53615196 0.49101307 0.47263072 0.50531046\n",
      " 0.48059641 0.49918301 0.51000817 0.5126634  0.50653595 0.5249183\n",
      " 0.52553105 0.52022059 0.52083333 0.52471405 0.53533497 0.52818627\n",
      " 0.52553105 0.52839052 0.51409314 0.50510621 0.49897876 0.52573529\n",
      " 0.50796569 0.52634804 0.57005719 0.59579248 0.59640523 0.59987745\n",
      " 0.59395425 0.58966503 0.62806373 0.58843954 0.58639706 0.65155229\n",
      " 0.63398693 0.62683824 0.67708333 0.6942402  0.69852941 0.7310049\n",
      " 0.79227941 0.78513072 0.78880719 0.79187092 0.80780229 0.80269608\n",
      " 0.84477124 0.81392974 0.84211601 0.82761438 0.80923203 0.8129085\n",
      " 0.79248366 0.82945261 0.84763072 0.8880719  0.84497549 0.83129085\n",
      " 0.8306781  0.84109477 0.85743464 0.89746732 0.89828431 0.89542484\n",
      " 0.90604575 0.91911765 0.91748366 0.92177288 0.96180556 0.94750817\n",
      " 0.94035948 0.94056373 0.94485294 0.94771242 0.96670752 0.95731209\n",
      " 0.95241013 0.94914216 1.         0.98876634 0.96180556 0.9501634\n",
      " 0.91707516 0.92892157 0.93096405 0.92422386 0.9121732  0.9121732\n",
      " 0.90216503 0.91115196 0.85661765 0.84722222 0.79207516 0.78492647\n",
      " 0.75878268 0.81372549 0.81495098 0.80596405 0.83394608 0.82107843\n",
      " 0.80923203 0.79513889 0.76388889 0.74305556 0.75837418 0.74019608\n",
      " 0.77512255 0.78656046 0.79268791 0.79473039 0.79207516 0.79534314\n",
      " 0.78921569 0.76776961 0.78615196 0.76552288 0.79697712 0.8057598\n",
      " 0.80698529 0.81147876 0.78206699 0.73386438 0.73978758 0.74448529\n",
      " 0.72671569 0.72283497 0.74040033 0.74693627 0.72630719 0.80065359\n",
      " 0.79187092 0.77328431 0.78451797 0.78329248 0.80412582 0.79473039\n",
      " 0.7879902  0.7879902  0.79473039 0.81168301 0.81699346 0.82986111\n",
      " 0.83843954 0.83884804 0.82781863 0.82598039 0.85028595 0.85886438\n",
      " 0.86254085 0.88480392 0.86519608 0.84027778 0.84497549 0.87111928\n",
      " 0.85273693 0.86213235 0.83455882 0.84375    0.71466503 0.66053922\n",
      " 0.65420752 0.68035131 0.6689134  0.66421569 0.67892157 0.69138072\n",
      " 0.70894608 0.72263072 0.73406863 0.72120098 0.74979575 0.7689951\n",
      " 0.74468954 0.7120098  0.74673203 0.75490196 0.76041667 0.75980392\n",
      " 0.74652778 0.76245915 0.77062908 0.80412582 0.78104575 0.79411765\n",
      " 0.76021242 0.73488562 0.72406046 0.73999183 0.74979575 0.76143791\n",
      " 0.75428922 0.74754902 0.76960784 0.7495915  0.81719771 0.80208333\n",
      " 0.77736928 0.75714869 0.79370915 0.79166667 0.77144608 0.75265523\n",
      " 0.72691993 0.6629902  0.68198529 0.64419935 0.62152778 0.6439951\n",
      " 0.66319444 0.67544935 0.63705065 0.64603758 0.65890523 0.65870098\n",
      " 0.67790033 0.63194444 0.63112745 0.62785948 0.64767157 0.63991013\n",
      " 0.63480392 0.63868464 0.62336601 0.62745098 0.63970588 0.64705882\n",
      " 0.66196895 0.67075163 0.65196078 0.63112745 0.61294935 0.6376634\n",
      " 0.62254902 0.62745098 0.63337418 0.62642974 0.63623366 0.58312908\n",
      " 0.57781863 0.57230392 0.58006536 0.57618464 0.55167484 0.57883987\n",
      " 0.625      0.63582516 0.62949346 0.62888072 0.62765523 0.62234477\n",
      " 0.63378268 0.62622549 0.62214052 0.62418301 0.20568144 0.20549963\n",
      " 0.20459767 0.20283619 0.20020334 0.19677752 0.19269347 0.1881137\n",
      " 0.18320698 0.178133   0.17303291 0.16802403 0.16319828 0.15862314\n",
      " 0.15434386 0.15038669 0.14676233 0.14346947 0.14049776]\n",
      "19 day output [[0.13783063]]\n",
      "20 day input [0.30392157 0.29146242 0.29268791 0.29861111 0.30187908 0.29840686\n",
      " 0.29289216 0.30085784 0.3002451  0.29370915 0.27185458 0.28002451\n",
      " 0.27308007 0.26062092 0.24816176 0.25367647 0.26940359 0.26327614\n",
      " 0.26388889 0.27961601 0.29187092 0.30187908 0.30228758 0.2943219\n",
      " 0.30473856 0.30085784 0.30004085 0.29064542 0.30841503 0.31658497\n",
      " 0.3192402  0.31556373 0.30821078 0.31004902 0.30984477 0.30147059\n",
      " 0.28676471 0.27124183 0.27859477 0.27593954 0.28472222 0.28860294\n",
      " 0.28227124 0.30718954 0.29575163 0.31372549 0.3496732  0.36172386\n",
      " 0.37908497 0.38582516 0.3809232  0.39236111 0.37908497 0.38480392\n",
      " 0.3690768  0.37275327 0.36376634 0.36846405 0.37275327 0.35723039\n",
      " 0.36029412 0.3619281  0.35355392 0.34375    0.3500817  0.34926471\n",
      " 0.36560458 0.34742647 0.3314951  0.3065768  0.34007353 0.3995098\n",
      " 0.46119281 0.44791667 0.46343954 0.47058824 0.44485294 0.47222222\n",
      " 0.4628268  0.45894608 0.44689542 0.47426471 0.47814542 0.47651144\n",
      " 0.45894608 0.47283497 0.51062092 0.50980392 0.51450163 0.52410131\n",
      " 0.53553922 0.51613562 0.53553922 0.52941176 0.54064542 0.55249183\n",
      " 0.54227941 0.53615196 0.49101307 0.47263072 0.50531046 0.48059641\n",
      " 0.49918301 0.51000817 0.5126634  0.50653595 0.5249183  0.52553105\n",
      " 0.52022059 0.52083333 0.52471405 0.53533497 0.52818627 0.52553105\n",
      " 0.52839052 0.51409314 0.50510621 0.49897876 0.52573529 0.50796569\n",
      " 0.52634804 0.57005719 0.59579248 0.59640523 0.59987745 0.59395425\n",
      " 0.58966503 0.62806373 0.58843954 0.58639706 0.65155229 0.63398693\n",
      " 0.62683824 0.67708333 0.6942402  0.69852941 0.7310049  0.79227941\n",
      " 0.78513072 0.78880719 0.79187092 0.80780229 0.80269608 0.84477124\n",
      " 0.81392974 0.84211601 0.82761438 0.80923203 0.8129085  0.79248366\n",
      " 0.82945261 0.84763072 0.8880719  0.84497549 0.83129085 0.8306781\n",
      " 0.84109477 0.85743464 0.89746732 0.89828431 0.89542484 0.90604575\n",
      " 0.91911765 0.91748366 0.92177288 0.96180556 0.94750817 0.94035948\n",
      " 0.94056373 0.94485294 0.94771242 0.96670752 0.95731209 0.95241013\n",
      " 0.94914216 1.         0.98876634 0.96180556 0.9501634  0.91707516\n",
      " 0.92892157 0.93096405 0.92422386 0.9121732  0.9121732  0.90216503\n",
      " 0.91115196 0.85661765 0.84722222 0.79207516 0.78492647 0.75878268\n",
      " 0.81372549 0.81495098 0.80596405 0.83394608 0.82107843 0.80923203\n",
      " 0.79513889 0.76388889 0.74305556 0.75837418 0.74019608 0.77512255\n",
      " 0.78656046 0.79268791 0.79473039 0.79207516 0.79534314 0.78921569\n",
      " 0.76776961 0.78615196 0.76552288 0.79697712 0.8057598  0.80698529\n",
      " 0.81147876 0.78206699 0.73386438 0.73978758 0.74448529 0.72671569\n",
      " 0.72283497 0.74040033 0.74693627 0.72630719 0.80065359 0.79187092\n",
      " 0.77328431 0.78451797 0.78329248 0.80412582 0.79473039 0.7879902\n",
      " 0.7879902  0.79473039 0.81168301 0.81699346 0.82986111 0.83843954\n",
      " 0.83884804 0.82781863 0.82598039 0.85028595 0.85886438 0.86254085\n",
      " 0.88480392 0.86519608 0.84027778 0.84497549 0.87111928 0.85273693\n",
      " 0.86213235 0.83455882 0.84375    0.71466503 0.66053922 0.65420752\n",
      " 0.68035131 0.6689134  0.66421569 0.67892157 0.69138072 0.70894608\n",
      " 0.72263072 0.73406863 0.72120098 0.74979575 0.7689951  0.74468954\n",
      " 0.7120098  0.74673203 0.75490196 0.76041667 0.75980392 0.74652778\n",
      " 0.76245915 0.77062908 0.80412582 0.78104575 0.79411765 0.76021242\n",
      " 0.73488562 0.72406046 0.73999183 0.74979575 0.76143791 0.75428922\n",
      " 0.74754902 0.76960784 0.7495915  0.81719771 0.80208333 0.77736928\n",
      " 0.75714869 0.79370915 0.79166667 0.77144608 0.75265523 0.72691993\n",
      " 0.6629902  0.68198529 0.64419935 0.62152778 0.6439951  0.66319444\n",
      " 0.67544935 0.63705065 0.64603758 0.65890523 0.65870098 0.67790033\n",
      " 0.63194444 0.63112745 0.62785948 0.64767157 0.63991013 0.63480392\n",
      " 0.63868464 0.62336601 0.62745098 0.63970588 0.64705882 0.66196895\n",
      " 0.67075163 0.65196078 0.63112745 0.61294935 0.6376634  0.62254902\n",
      " 0.62745098 0.63337418 0.62642974 0.63623366 0.58312908 0.57781863\n",
      " 0.57230392 0.58006536 0.57618464 0.55167484 0.57883987 0.625\n",
      " 0.63582516 0.62949346 0.62888072 0.62765523 0.62234477 0.63378268\n",
      " 0.62622549 0.62214052 0.62418301 0.20568144 0.20549963 0.20459767\n",
      " 0.20283619 0.20020334 0.19677752 0.19269347 0.1881137  0.18320698\n",
      " 0.178133   0.17303291 0.16802403 0.16319828 0.15862314 0.15434386\n",
      " 0.15038669 0.14676233 0.14346947 0.14049776 0.13783063]\n",
      "20 day output [[0.13544768]]\n",
      "21 day input [0.29146242 0.29268791 0.29861111 0.30187908 0.29840686 0.29289216\n",
      " 0.30085784 0.3002451  0.29370915 0.27185458 0.28002451 0.27308007\n",
      " 0.26062092 0.24816176 0.25367647 0.26940359 0.26327614 0.26388889\n",
      " 0.27961601 0.29187092 0.30187908 0.30228758 0.2943219  0.30473856\n",
      " 0.30085784 0.30004085 0.29064542 0.30841503 0.31658497 0.3192402\n",
      " 0.31556373 0.30821078 0.31004902 0.30984477 0.30147059 0.28676471\n",
      " 0.27124183 0.27859477 0.27593954 0.28472222 0.28860294 0.28227124\n",
      " 0.30718954 0.29575163 0.31372549 0.3496732  0.36172386 0.37908497\n",
      " 0.38582516 0.3809232  0.39236111 0.37908497 0.38480392 0.3690768\n",
      " 0.37275327 0.36376634 0.36846405 0.37275327 0.35723039 0.36029412\n",
      " 0.3619281  0.35355392 0.34375    0.3500817  0.34926471 0.36560458\n",
      " 0.34742647 0.3314951  0.3065768  0.34007353 0.3995098  0.46119281\n",
      " 0.44791667 0.46343954 0.47058824 0.44485294 0.47222222 0.4628268\n",
      " 0.45894608 0.44689542 0.47426471 0.47814542 0.47651144 0.45894608\n",
      " 0.47283497 0.51062092 0.50980392 0.51450163 0.52410131 0.53553922\n",
      " 0.51613562 0.53553922 0.52941176 0.54064542 0.55249183 0.54227941\n",
      " 0.53615196 0.49101307 0.47263072 0.50531046 0.48059641 0.49918301\n",
      " 0.51000817 0.5126634  0.50653595 0.5249183  0.52553105 0.52022059\n",
      " 0.52083333 0.52471405 0.53533497 0.52818627 0.52553105 0.52839052\n",
      " 0.51409314 0.50510621 0.49897876 0.52573529 0.50796569 0.52634804\n",
      " 0.57005719 0.59579248 0.59640523 0.59987745 0.59395425 0.58966503\n",
      " 0.62806373 0.58843954 0.58639706 0.65155229 0.63398693 0.62683824\n",
      " 0.67708333 0.6942402  0.69852941 0.7310049  0.79227941 0.78513072\n",
      " 0.78880719 0.79187092 0.80780229 0.80269608 0.84477124 0.81392974\n",
      " 0.84211601 0.82761438 0.80923203 0.8129085  0.79248366 0.82945261\n",
      " 0.84763072 0.8880719  0.84497549 0.83129085 0.8306781  0.84109477\n",
      " 0.85743464 0.89746732 0.89828431 0.89542484 0.90604575 0.91911765\n",
      " 0.91748366 0.92177288 0.96180556 0.94750817 0.94035948 0.94056373\n",
      " 0.94485294 0.94771242 0.96670752 0.95731209 0.95241013 0.94914216\n",
      " 1.         0.98876634 0.96180556 0.9501634  0.91707516 0.92892157\n",
      " 0.93096405 0.92422386 0.9121732  0.9121732  0.90216503 0.91115196\n",
      " 0.85661765 0.84722222 0.79207516 0.78492647 0.75878268 0.81372549\n",
      " 0.81495098 0.80596405 0.83394608 0.82107843 0.80923203 0.79513889\n",
      " 0.76388889 0.74305556 0.75837418 0.74019608 0.77512255 0.78656046\n",
      " 0.79268791 0.79473039 0.79207516 0.79534314 0.78921569 0.76776961\n",
      " 0.78615196 0.76552288 0.79697712 0.8057598  0.80698529 0.81147876\n",
      " 0.78206699 0.73386438 0.73978758 0.74448529 0.72671569 0.72283497\n",
      " 0.74040033 0.74693627 0.72630719 0.80065359 0.79187092 0.77328431\n",
      " 0.78451797 0.78329248 0.80412582 0.79473039 0.7879902  0.7879902\n",
      " 0.79473039 0.81168301 0.81699346 0.82986111 0.83843954 0.83884804\n",
      " 0.82781863 0.82598039 0.85028595 0.85886438 0.86254085 0.88480392\n",
      " 0.86519608 0.84027778 0.84497549 0.87111928 0.85273693 0.86213235\n",
      " 0.83455882 0.84375    0.71466503 0.66053922 0.65420752 0.68035131\n",
      " 0.6689134  0.66421569 0.67892157 0.69138072 0.70894608 0.72263072\n",
      " 0.73406863 0.72120098 0.74979575 0.7689951  0.74468954 0.7120098\n",
      " 0.74673203 0.75490196 0.76041667 0.75980392 0.74652778 0.76245915\n",
      " 0.77062908 0.80412582 0.78104575 0.79411765 0.76021242 0.73488562\n",
      " 0.72406046 0.73999183 0.74979575 0.76143791 0.75428922 0.74754902\n",
      " 0.76960784 0.7495915  0.81719771 0.80208333 0.77736928 0.75714869\n",
      " 0.79370915 0.79166667 0.77144608 0.75265523 0.72691993 0.6629902\n",
      " 0.68198529 0.64419935 0.62152778 0.6439951  0.66319444 0.67544935\n",
      " 0.63705065 0.64603758 0.65890523 0.65870098 0.67790033 0.63194444\n",
      " 0.63112745 0.62785948 0.64767157 0.63991013 0.63480392 0.63868464\n",
      " 0.62336601 0.62745098 0.63970588 0.64705882 0.66196895 0.67075163\n",
      " 0.65196078 0.63112745 0.61294935 0.6376634  0.62254902 0.62745098\n",
      " 0.63337418 0.62642974 0.63623366 0.58312908 0.57781863 0.57230392\n",
      " 0.58006536 0.57618464 0.55167484 0.57883987 0.625      0.63582516\n",
      " 0.62949346 0.62888072 0.62765523 0.62234477 0.63378268 0.62622549\n",
      " 0.62214052 0.62418301 0.20568144 0.20549963 0.20459767 0.20283619\n",
      " 0.20020334 0.19677752 0.19269347 0.1881137  0.18320698 0.178133\n",
      " 0.17303291 0.16802403 0.16319828 0.15862314 0.15434386 0.15038669\n",
      " 0.14676233 0.14346947 0.14049776 0.13783063 0.13544768]\n",
      "21 day output [[0.13332619]]\n",
      "22 day input [0.29268791 0.29861111 0.30187908 0.29840686 0.29289216 0.30085784\n",
      " 0.3002451  0.29370915 0.27185458 0.28002451 0.27308007 0.26062092\n",
      " 0.24816176 0.25367647 0.26940359 0.26327614 0.26388889 0.27961601\n",
      " 0.29187092 0.30187908 0.30228758 0.2943219  0.30473856 0.30085784\n",
      " 0.30004085 0.29064542 0.30841503 0.31658497 0.3192402  0.31556373\n",
      " 0.30821078 0.31004902 0.30984477 0.30147059 0.28676471 0.27124183\n",
      " 0.27859477 0.27593954 0.28472222 0.28860294 0.28227124 0.30718954\n",
      " 0.29575163 0.31372549 0.3496732  0.36172386 0.37908497 0.38582516\n",
      " 0.3809232  0.39236111 0.37908497 0.38480392 0.3690768  0.37275327\n",
      " 0.36376634 0.36846405 0.37275327 0.35723039 0.36029412 0.3619281\n",
      " 0.35355392 0.34375    0.3500817  0.34926471 0.36560458 0.34742647\n",
      " 0.3314951  0.3065768  0.34007353 0.3995098  0.46119281 0.44791667\n",
      " 0.46343954 0.47058824 0.44485294 0.47222222 0.4628268  0.45894608\n",
      " 0.44689542 0.47426471 0.47814542 0.47651144 0.45894608 0.47283497\n",
      " 0.51062092 0.50980392 0.51450163 0.52410131 0.53553922 0.51613562\n",
      " 0.53553922 0.52941176 0.54064542 0.55249183 0.54227941 0.53615196\n",
      " 0.49101307 0.47263072 0.50531046 0.48059641 0.49918301 0.51000817\n",
      " 0.5126634  0.50653595 0.5249183  0.52553105 0.52022059 0.52083333\n",
      " 0.52471405 0.53533497 0.52818627 0.52553105 0.52839052 0.51409314\n",
      " 0.50510621 0.49897876 0.52573529 0.50796569 0.52634804 0.57005719\n",
      " 0.59579248 0.59640523 0.59987745 0.59395425 0.58966503 0.62806373\n",
      " 0.58843954 0.58639706 0.65155229 0.63398693 0.62683824 0.67708333\n",
      " 0.6942402  0.69852941 0.7310049  0.79227941 0.78513072 0.78880719\n",
      " 0.79187092 0.80780229 0.80269608 0.84477124 0.81392974 0.84211601\n",
      " 0.82761438 0.80923203 0.8129085  0.79248366 0.82945261 0.84763072\n",
      " 0.8880719  0.84497549 0.83129085 0.8306781  0.84109477 0.85743464\n",
      " 0.89746732 0.89828431 0.89542484 0.90604575 0.91911765 0.91748366\n",
      " 0.92177288 0.96180556 0.94750817 0.94035948 0.94056373 0.94485294\n",
      " 0.94771242 0.96670752 0.95731209 0.95241013 0.94914216 1.\n",
      " 0.98876634 0.96180556 0.9501634  0.91707516 0.92892157 0.93096405\n",
      " 0.92422386 0.9121732  0.9121732  0.90216503 0.91115196 0.85661765\n",
      " 0.84722222 0.79207516 0.78492647 0.75878268 0.81372549 0.81495098\n",
      " 0.80596405 0.83394608 0.82107843 0.80923203 0.79513889 0.76388889\n",
      " 0.74305556 0.75837418 0.74019608 0.77512255 0.78656046 0.79268791\n",
      " 0.79473039 0.79207516 0.79534314 0.78921569 0.76776961 0.78615196\n",
      " 0.76552288 0.79697712 0.8057598  0.80698529 0.81147876 0.78206699\n",
      " 0.73386438 0.73978758 0.74448529 0.72671569 0.72283497 0.74040033\n",
      " 0.74693627 0.72630719 0.80065359 0.79187092 0.77328431 0.78451797\n",
      " 0.78329248 0.80412582 0.79473039 0.7879902  0.7879902  0.79473039\n",
      " 0.81168301 0.81699346 0.82986111 0.83843954 0.83884804 0.82781863\n",
      " 0.82598039 0.85028595 0.85886438 0.86254085 0.88480392 0.86519608\n",
      " 0.84027778 0.84497549 0.87111928 0.85273693 0.86213235 0.83455882\n",
      " 0.84375    0.71466503 0.66053922 0.65420752 0.68035131 0.6689134\n",
      " 0.66421569 0.67892157 0.69138072 0.70894608 0.72263072 0.73406863\n",
      " 0.72120098 0.74979575 0.7689951  0.74468954 0.7120098  0.74673203\n",
      " 0.75490196 0.76041667 0.75980392 0.74652778 0.76245915 0.77062908\n",
      " 0.80412582 0.78104575 0.79411765 0.76021242 0.73488562 0.72406046\n",
      " 0.73999183 0.74979575 0.76143791 0.75428922 0.74754902 0.76960784\n",
      " 0.7495915  0.81719771 0.80208333 0.77736928 0.75714869 0.79370915\n",
      " 0.79166667 0.77144608 0.75265523 0.72691993 0.6629902  0.68198529\n",
      " 0.64419935 0.62152778 0.6439951  0.66319444 0.67544935 0.63705065\n",
      " 0.64603758 0.65890523 0.65870098 0.67790033 0.63194444 0.63112745\n",
      " 0.62785948 0.64767157 0.63991013 0.63480392 0.63868464 0.62336601\n",
      " 0.62745098 0.63970588 0.64705882 0.66196895 0.67075163 0.65196078\n",
      " 0.63112745 0.61294935 0.6376634  0.62254902 0.62745098 0.63337418\n",
      " 0.62642974 0.63623366 0.58312908 0.57781863 0.57230392 0.58006536\n",
      " 0.57618464 0.55167484 0.57883987 0.625      0.63582516 0.62949346\n",
      " 0.62888072 0.62765523 0.62234477 0.63378268 0.62622549 0.62214052\n",
      " 0.62418301 0.20568144 0.20549963 0.20459767 0.20283619 0.20020334\n",
      " 0.19677752 0.19269347 0.1881137  0.18320698 0.178133   0.17303291\n",
      " 0.16802403 0.16319828 0.15862314 0.15434386 0.15038669 0.14676233\n",
      " 0.14346947 0.14049776 0.13783063 0.13544768 0.13332619]\n",
      "22 day output [[0.1314428]]\n",
      "23 day input [0.29861111 0.30187908 0.29840686 0.29289216 0.30085784 0.3002451\n",
      " 0.29370915 0.27185458 0.28002451 0.27308007 0.26062092 0.24816176\n",
      " 0.25367647 0.26940359 0.26327614 0.26388889 0.27961601 0.29187092\n",
      " 0.30187908 0.30228758 0.2943219  0.30473856 0.30085784 0.30004085\n",
      " 0.29064542 0.30841503 0.31658497 0.3192402  0.31556373 0.30821078\n",
      " 0.31004902 0.30984477 0.30147059 0.28676471 0.27124183 0.27859477\n",
      " 0.27593954 0.28472222 0.28860294 0.28227124 0.30718954 0.29575163\n",
      " 0.31372549 0.3496732  0.36172386 0.37908497 0.38582516 0.3809232\n",
      " 0.39236111 0.37908497 0.38480392 0.3690768  0.37275327 0.36376634\n",
      " 0.36846405 0.37275327 0.35723039 0.36029412 0.3619281  0.35355392\n",
      " 0.34375    0.3500817  0.34926471 0.36560458 0.34742647 0.3314951\n",
      " 0.3065768  0.34007353 0.3995098  0.46119281 0.44791667 0.46343954\n",
      " 0.47058824 0.44485294 0.47222222 0.4628268  0.45894608 0.44689542\n",
      " 0.47426471 0.47814542 0.47651144 0.45894608 0.47283497 0.51062092\n",
      " 0.50980392 0.51450163 0.52410131 0.53553922 0.51613562 0.53553922\n",
      " 0.52941176 0.54064542 0.55249183 0.54227941 0.53615196 0.49101307\n",
      " 0.47263072 0.50531046 0.48059641 0.49918301 0.51000817 0.5126634\n",
      " 0.50653595 0.5249183  0.52553105 0.52022059 0.52083333 0.52471405\n",
      " 0.53533497 0.52818627 0.52553105 0.52839052 0.51409314 0.50510621\n",
      " 0.49897876 0.52573529 0.50796569 0.52634804 0.57005719 0.59579248\n",
      " 0.59640523 0.59987745 0.59395425 0.58966503 0.62806373 0.58843954\n",
      " 0.58639706 0.65155229 0.63398693 0.62683824 0.67708333 0.6942402\n",
      " 0.69852941 0.7310049  0.79227941 0.78513072 0.78880719 0.79187092\n",
      " 0.80780229 0.80269608 0.84477124 0.81392974 0.84211601 0.82761438\n",
      " 0.80923203 0.8129085  0.79248366 0.82945261 0.84763072 0.8880719\n",
      " 0.84497549 0.83129085 0.8306781  0.84109477 0.85743464 0.89746732\n",
      " 0.89828431 0.89542484 0.90604575 0.91911765 0.91748366 0.92177288\n",
      " 0.96180556 0.94750817 0.94035948 0.94056373 0.94485294 0.94771242\n",
      " 0.96670752 0.95731209 0.95241013 0.94914216 1.         0.98876634\n",
      " 0.96180556 0.9501634  0.91707516 0.92892157 0.93096405 0.92422386\n",
      " 0.9121732  0.9121732  0.90216503 0.91115196 0.85661765 0.84722222\n",
      " 0.79207516 0.78492647 0.75878268 0.81372549 0.81495098 0.80596405\n",
      " 0.83394608 0.82107843 0.80923203 0.79513889 0.76388889 0.74305556\n",
      " 0.75837418 0.74019608 0.77512255 0.78656046 0.79268791 0.79473039\n",
      " 0.79207516 0.79534314 0.78921569 0.76776961 0.78615196 0.76552288\n",
      " 0.79697712 0.8057598  0.80698529 0.81147876 0.78206699 0.73386438\n",
      " 0.73978758 0.74448529 0.72671569 0.72283497 0.74040033 0.74693627\n",
      " 0.72630719 0.80065359 0.79187092 0.77328431 0.78451797 0.78329248\n",
      " 0.80412582 0.79473039 0.7879902  0.7879902  0.79473039 0.81168301\n",
      " 0.81699346 0.82986111 0.83843954 0.83884804 0.82781863 0.82598039\n",
      " 0.85028595 0.85886438 0.86254085 0.88480392 0.86519608 0.84027778\n",
      " 0.84497549 0.87111928 0.85273693 0.86213235 0.83455882 0.84375\n",
      " 0.71466503 0.66053922 0.65420752 0.68035131 0.6689134  0.66421569\n",
      " 0.67892157 0.69138072 0.70894608 0.72263072 0.73406863 0.72120098\n",
      " 0.74979575 0.7689951  0.74468954 0.7120098  0.74673203 0.75490196\n",
      " 0.76041667 0.75980392 0.74652778 0.76245915 0.77062908 0.80412582\n",
      " 0.78104575 0.79411765 0.76021242 0.73488562 0.72406046 0.73999183\n",
      " 0.74979575 0.76143791 0.75428922 0.74754902 0.76960784 0.7495915\n",
      " 0.81719771 0.80208333 0.77736928 0.75714869 0.79370915 0.79166667\n",
      " 0.77144608 0.75265523 0.72691993 0.6629902  0.68198529 0.64419935\n",
      " 0.62152778 0.6439951  0.66319444 0.67544935 0.63705065 0.64603758\n",
      " 0.65890523 0.65870098 0.67790033 0.63194444 0.63112745 0.62785948\n",
      " 0.64767157 0.63991013 0.63480392 0.63868464 0.62336601 0.62745098\n",
      " 0.63970588 0.64705882 0.66196895 0.67075163 0.65196078 0.63112745\n",
      " 0.61294935 0.6376634  0.62254902 0.62745098 0.63337418 0.62642974\n",
      " 0.63623366 0.58312908 0.57781863 0.57230392 0.58006536 0.57618464\n",
      " 0.55167484 0.57883987 0.625      0.63582516 0.62949346 0.62888072\n",
      " 0.62765523 0.62234477 0.63378268 0.62622549 0.62214052 0.62418301\n",
      " 0.20568144 0.20549963 0.20459767 0.20283619 0.20020334 0.19677752\n",
      " 0.19269347 0.1881137  0.18320698 0.178133   0.17303291 0.16802403\n",
      " 0.16319828 0.15862314 0.15434386 0.15038669 0.14676233 0.14346947\n",
      " 0.14049776 0.13783063 0.13544768 0.13332619 0.1314428 ]\n",
      "23 day output [[0.12977436]]\n",
      "24 day input [0.30187908 0.29840686 0.29289216 0.30085784 0.3002451  0.29370915\n",
      " 0.27185458 0.28002451 0.27308007 0.26062092 0.24816176 0.25367647\n",
      " 0.26940359 0.26327614 0.26388889 0.27961601 0.29187092 0.30187908\n",
      " 0.30228758 0.2943219  0.30473856 0.30085784 0.30004085 0.29064542\n",
      " 0.30841503 0.31658497 0.3192402  0.31556373 0.30821078 0.31004902\n",
      " 0.30984477 0.30147059 0.28676471 0.27124183 0.27859477 0.27593954\n",
      " 0.28472222 0.28860294 0.28227124 0.30718954 0.29575163 0.31372549\n",
      " 0.3496732  0.36172386 0.37908497 0.38582516 0.3809232  0.39236111\n",
      " 0.37908497 0.38480392 0.3690768  0.37275327 0.36376634 0.36846405\n",
      " 0.37275327 0.35723039 0.36029412 0.3619281  0.35355392 0.34375\n",
      " 0.3500817  0.34926471 0.36560458 0.34742647 0.3314951  0.3065768\n",
      " 0.34007353 0.3995098  0.46119281 0.44791667 0.46343954 0.47058824\n",
      " 0.44485294 0.47222222 0.4628268  0.45894608 0.44689542 0.47426471\n",
      " 0.47814542 0.47651144 0.45894608 0.47283497 0.51062092 0.50980392\n",
      " 0.51450163 0.52410131 0.53553922 0.51613562 0.53553922 0.52941176\n",
      " 0.54064542 0.55249183 0.54227941 0.53615196 0.49101307 0.47263072\n",
      " 0.50531046 0.48059641 0.49918301 0.51000817 0.5126634  0.50653595\n",
      " 0.5249183  0.52553105 0.52022059 0.52083333 0.52471405 0.53533497\n",
      " 0.52818627 0.52553105 0.52839052 0.51409314 0.50510621 0.49897876\n",
      " 0.52573529 0.50796569 0.52634804 0.57005719 0.59579248 0.59640523\n",
      " 0.59987745 0.59395425 0.58966503 0.62806373 0.58843954 0.58639706\n",
      " 0.65155229 0.63398693 0.62683824 0.67708333 0.6942402  0.69852941\n",
      " 0.7310049  0.79227941 0.78513072 0.78880719 0.79187092 0.80780229\n",
      " 0.80269608 0.84477124 0.81392974 0.84211601 0.82761438 0.80923203\n",
      " 0.8129085  0.79248366 0.82945261 0.84763072 0.8880719  0.84497549\n",
      " 0.83129085 0.8306781  0.84109477 0.85743464 0.89746732 0.89828431\n",
      " 0.89542484 0.90604575 0.91911765 0.91748366 0.92177288 0.96180556\n",
      " 0.94750817 0.94035948 0.94056373 0.94485294 0.94771242 0.96670752\n",
      " 0.95731209 0.95241013 0.94914216 1.         0.98876634 0.96180556\n",
      " 0.9501634  0.91707516 0.92892157 0.93096405 0.92422386 0.9121732\n",
      " 0.9121732  0.90216503 0.91115196 0.85661765 0.84722222 0.79207516\n",
      " 0.78492647 0.75878268 0.81372549 0.81495098 0.80596405 0.83394608\n",
      " 0.82107843 0.80923203 0.79513889 0.76388889 0.74305556 0.75837418\n",
      " 0.74019608 0.77512255 0.78656046 0.79268791 0.79473039 0.79207516\n",
      " 0.79534314 0.78921569 0.76776961 0.78615196 0.76552288 0.79697712\n",
      " 0.8057598  0.80698529 0.81147876 0.78206699 0.73386438 0.73978758\n",
      " 0.74448529 0.72671569 0.72283497 0.74040033 0.74693627 0.72630719\n",
      " 0.80065359 0.79187092 0.77328431 0.78451797 0.78329248 0.80412582\n",
      " 0.79473039 0.7879902  0.7879902  0.79473039 0.81168301 0.81699346\n",
      " 0.82986111 0.83843954 0.83884804 0.82781863 0.82598039 0.85028595\n",
      " 0.85886438 0.86254085 0.88480392 0.86519608 0.84027778 0.84497549\n",
      " 0.87111928 0.85273693 0.86213235 0.83455882 0.84375    0.71466503\n",
      " 0.66053922 0.65420752 0.68035131 0.6689134  0.66421569 0.67892157\n",
      " 0.69138072 0.70894608 0.72263072 0.73406863 0.72120098 0.74979575\n",
      " 0.7689951  0.74468954 0.7120098  0.74673203 0.75490196 0.76041667\n",
      " 0.75980392 0.74652778 0.76245915 0.77062908 0.80412582 0.78104575\n",
      " 0.79411765 0.76021242 0.73488562 0.72406046 0.73999183 0.74979575\n",
      " 0.76143791 0.75428922 0.74754902 0.76960784 0.7495915  0.81719771\n",
      " 0.80208333 0.77736928 0.75714869 0.79370915 0.79166667 0.77144608\n",
      " 0.75265523 0.72691993 0.6629902  0.68198529 0.64419935 0.62152778\n",
      " 0.6439951  0.66319444 0.67544935 0.63705065 0.64603758 0.65890523\n",
      " 0.65870098 0.67790033 0.63194444 0.63112745 0.62785948 0.64767157\n",
      " 0.63991013 0.63480392 0.63868464 0.62336601 0.62745098 0.63970588\n",
      " 0.64705882 0.66196895 0.67075163 0.65196078 0.63112745 0.61294935\n",
      " 0.6376634  0.62254902 0.62745098 0.63337418 0.62642974 0.63623366\n",
      " 0.58312908 0.57781863 0.57230392 0.58006536 0.57618464 0.55167484\n",
      " 0.57883987 0.625      0.63582516 0.62949346 0.62888072 0.62765523\n",
      " 0.62234477 0.63378268 0.62622549 0.62214052 0.62418301 0.20568144\n",
      " 0.20549963 0.20459767 0.20283619 0.20020334 0.19677752 0.19269347\n",
      " 0.1881137  0.18320698 0.178133   0.17303291 0.16802403 0.16319828\n",
      " 0.15862314 0.15434386 0.15038669 0.14676233 0.14346947 0.14049776\n",
      " 0.13783063 0.13544768 0.13332619 0.1314428  0.12977436]\n",
      "24 day output [[0.12829855]]\n",
      "25 day input [0.29840686 0.29289216 0.30085784 0.3002451  0.29370915 0.27185458\n",
      " 0.28002451 0.27308007 0.26062092 0.24816176 0.25367647 0.26940359\n",
      " 0.26327614 0.26388889 0.27961601 0.29187092 0.30187908 0.30228758\n",
      " 0.2943219  0.30473856 0.30085784 0.30004085 0.29064542 0.30841503\n",
      " 0.31658497 0.3192402  0.31556373 0.30821078 0.31004902 0.30984477\n",
      " 0.30147059 0.28676471 0.27124183 0.27859477 0.27593954 0.28472222\n",
      " 0.28860294 0.28227124 0.30718954 0.29575163 0.31372549 0.3496732\n",
      " 0.36172386 0.37908497 0.38582516 0.3809232  0.39236111 0.37908497\n",
      " 0.38480392 0.3690768  0.37275327 0.36376634 0.36846405 0.37275327\n",
      " 0.35723039 0.36029412 0.3619281  0.35355392 0.34375    0.3500817\n",
      " 0.34926471 0.36560458 0.34742647 0.3314951  0.3065768  0.34007353\n",
      " 0.3995098  0.46119281 0.44791667 0.46343954 0.47058824 0.44485294\n",
      " 0.47222222 0.4628268  0.45894608 0.44689542 0.47426471 0.47814542\n",
      " 0.47651144 0.45894608 0.47283497 0.51062092 0.50980392 0.51450163\n",
      " 0.52410131 0.53553922 0.51613562 0.53553922 0.52941176 0.54064542\n",
      " 0.55249183 0.54227941 0.53615196 0.49101307 0.47263072 0.50531046\n",
      " 0.48059641 0.49918301 0.51000817 0.5126634  0.50653595 0.5249183\n",
      " 0.52553105 0.52022059 0.52083333 0.52471405 0.53533497 0.52818627\n",
      " 0.52553105 0.52839052 0.51409314 0.50510621 0.49897876 0.52573529\n",
      " 0.50796569 0.52634804 0.57005719 0.59579248 0.59640523 0.59987745\n",
      " 0.59395425 0.58966503 0.62806373 0.58843954 0.58639706 0.65155229\n",
      " 0.63398693 0.62683824 0.67708333 0.6942402  0.69852941 0.7310049\n",
      " 0.79227941 0.78513072 0.78880719 0.79187092 0.80780229 0.80269608\n",
      " 0.84477124 0.81392974 0.84211601 0.82761438 0.80923203 0.8129085\n",
      " 0.79248366 0.82945261 0.84763072 0.8880719  0.84497549 0.83129085\n",
      " 0.8306781  0.84109477 0.85743464 0.89746732 0.89828431 0.89542484\n",
      " 0.90604575 0.91911765 0.91748366 0.92177288 0.96180556 0.94750817\n",
      " 0.94035948 0.94056373 0.94485294 0.94771242 0.96670752 0.95731209\n",
      " 0.95241013 0.94914216 1.         0.98876634 0.96180556 0.9501634\n",
      " 0.91707516 0.92892157 0.93096405 0.92422386 0.9121732  0.9121732\n",
      " 0.90216503 0.91115196 0.85661765 0.84722222 0.79207516 0.78492647\n",
      " 0.75878268 0.81372549 0.81495098 0.80596405 0.83394608 0.82107843\n",
      " 0.80923203 0.79513889 0.76388889 0.74305556 0.75837418 0.74019608\n",
      " 0.77512255 0.78656046 0.79268791 0.79473039 0.79207516 0.79534314\n",
      " 0.78921569 0.76776961 0.78615196 0.76552288 0.79697712 0.8057598\n",
      " 0.80698529 0.81147876 0.78206699 0.73386438 0.73978758 0.74448529\n",
      " 0.72671569 0.72283497 0.74040033 0.74693627 0.72630719 0.80065359\n",
      " 0.79187092 0.77328431 0.78451797 0.78329248 0.80412582 0.79473039\n",
      " 0.7879902  0.7879902  0.79473039 0.81168301 0.81699346 0.82986111\n",
      " 0.83843954 0.83884804 0.82781863 0.82598039 0.85028595 0.85886438\n",
      " 0.86254085 0.88480392 0.86519608 0.84027778 0.84497549 0.87111928\n",
      " 0.85273693 0.86213235 0.83455882 0.84375    0.71466503 0.66053922\n",
      " 0.65420752 0.68035131 0.6689134  0.66421569 0.67892157 0.69138072\n",
      " 0.70894608 0.72263072 0.73406863 0.72120098 0.74979575 0.7689951\n",
      " 0.74468954 0.7120098  0.74673203 0.75490196 0.76041667 0.75980392\n",
      " 0.74652778 0.76245915 0.77062908 0.80412582 0.78104575 0.79411765\n",
      " 0.76021242 0.73488562 0.72406046 0.73999183 0.74979575 0.76143791\n",
      " 0.75428922 0.74754902 0.76960784 0.7495915  0.81719771 0.80208333\n",
      " 0.77736928 0.75714869 0.79370915 0.79166667 0.77144608 0.75265523\n",
      " 0.72691993 0.6629902  0.68198529 0.64419935 0.62152778 0.6439951\n",
      " 0.66319444 0.67544935 0.63705065 0.64603758 0.65890523 0.65870098\n",
      " 0.67790033 0.63194444 0.63112745 0.62785948 0.64767157 0.63991013\n",
      " 0.63480392 0.63868464 0.62336601 0.62745098 0.63970588 0.64705882\n",
      " 0.66196895 0.67075163 0.65196078 0.63112745 0.61294935 0.6376634\n",
      " 0.62254902 0.62745098 0.63337418 0.62642974 0.63623366 0.58312908\n",
      " 0.57781863 0.57230392 0.58006536 0.57618464 0.55167484 0.57883987\n",
      " 0.625      0.63582516 0.62949346 0.62888072 0.62765523 0.62234477\n",
      " 0.63378268 0.62622549 0.62214052 0.62418301 0.20568144 0.20549963\n",
      " 0.20459767 0.20283619 0.20020334 0.19677752 0.19269347 0.1881137\n",
      " 0.18320698 0.178133   0.17303291 0.16802403 0.16319828 0.15862314\n",
      " 0.15434386 0.15038669 0.14676233 0.14346947 0.14049776 0.13783063\n",
      " 0.13544768 0.13332619 0.1314428  0.12977436 0.12829855]\n",
      "25 day output [[0.12699454]]\n",
      "26 day input [0.29289216 0.30085784 0.3002451  0.29370915 0.27185458 0.28002451\n",
      " 0.27308007 0.26062092 0.24816176 0.25367647 0.26940359 0.26327614\n",
      " 0.26388889 0.27961601 0.29187092 0.30187908 0.30228758 0.2943219\n",
      " 0.30473856 0.30085784 0.30004085 0.29064542 0.30841503 0.31658497\n",
      " 0.3192402  0.31556373 0.30821078 0.31004902 0.30984477 0.30147059\n",
      " 0.28676471 0.27124183 0.27859477 0.27593954 0.28472222 0.28860294\n",
      " 0.28227124 0.30718954 0.29575163 0.31372549 0.3496732  0.36172386\n",
      " 0.37908497 0.38582516 0.3809232  0.39236111 0.37908497 0.38480392\n",
      " 0.3690768  0.37275327 0.36376634 0.36846405 0.37275327 0.35723039\n",
      " 0.36029412 0.3619281  0.35355392 0.34375    0.3500817  0.34926471\n",
      " 0.36560458 0.34742647 0.3314951  0.3065768  0.34007353 0.3995098\n",
      " 0.46119281 0.44791667 0.46343954 0.47058824 0.44485294 0.47222222\n",
      " 0.4628268  0.45894608 0.44689542 0.47426471 0.47814542 0.47651144\n",
      " 0.45894608 0.47283497 0.51062092 0.50980392 0.51450163 0.52410131\n",
      " 0.53553922 0.51613562 0.53553922 0.52941176 0.54064542 0.55249183\n",
      " 0.54227941 0.53615196 0.49101307 0.47263072 0.50531046 0.48059641\n",
      " 0.49918301 0.51000817 0.5126634  0.50653595 0.5249183  0.52553105\n",
      " 0.52022059 0.52083333 0.52471405 0.53533497 0.52818627 0.52553105\n",
      " 0.52839052 0.51409314 0.50510621 0.49897876 0.52573529 0.50796569\n",
      " 0.52634804 0.57005719 0.59579248 0.59640523 0.59987745 0.59395425\n",
      " 0.58966503 0.62806373 0.58843954 0.58639706 0.65155229 0.63398693\n",
      " 0.62683824 0.67708333 0.6942402  0.69852941 0.7310049  0.79227941\n",
      " 0.78513072 0.78880719 0.79187092 0.80780229 0.80269608 0.84477124\n",
      " 0.81392974 0.84211601 0.82761438 0.80923203 0.8129085  0.79248366\n",
      " 0.82945261 0.84763072 0.8880719  0.84497549 0.83129085 0.8306781\n",
      " 0.84109477 0.85743464 0.89746732 0.89828431 0.89542484 0.90604575\n",
      " 0.91911765 0.91748366 0.92177288 0.96180556 0.94750817 0.94035948\n",
      " 0.94056373 0.94485294 0.94771242 0.96670752 0.95731209 0.95241013\n",
      " 0.94914216 1.         0.98876634 0.96180556 0.9501634  0.91707516\n",
      " 0.92892157 0.93096405 0.92422386 0.9121732  0.9121732  0.90216503\n",
      " 0.91115196 0.85661765 0.84722222 0.79207516 0.78492647 0.75878268\n",
      " 0.81372549 0.81495098 0.80596405 0.83394608 0.82107843 0.80923203\n",
      " 0.79513889 0.76388889 0.74305556 0.75837418 0.74019608 0.77512255\n",
      " 0.78656046 0.79268791 0.79473039 0.79207516 0.79534314 0.78921569\n",
      " 0.76776961 0.78615196 0.76552288 0.79697712 0.8057598  0.80698529\n",
      " 0.81147876 0.78206699 0.73386438 0.73978758 0.74448529 0.72671569\n",
      " 0.72283497 0.74040033 0.74693627 0.72630719 0.80065359 0.79187092\n",
      " 0.77328431 0.78451797 0.78329248 0.80412582 0.79473039 0.7879902\n",
      " 0.7879902  0.79473039 0.81168301 0.81699346 0.82986111 0.83843954\n",
      " 0.83884804 0.82781863 0.82598039 0.85028595 0.85886438 0.86254085\n",
      " 0.88480392 0.86519608 0.84027778 0.84497549 0.87111928 0.85273693\n",
      " 0.86213235 0.83455882 0.84375    0.71466503 0.66053922 0.65420752\n",
      " 0.68035131 0.6689134  0.66421569 0.67892157 0.69138072 0.70894608\n",
      " 0.72263072 0.73406863 0.72120098 0.74979575 0.7689951  0.74468954\n",
      " 0.7120098  0.74673203 0.75490196 0.76041667 0.75980392 0.74652778\n",
      " 0.76245915 0.77062908 0.80412582 0.78104575 0.79411765 0.76021242\n",
      " 0.73488562 0.72406046 0.73999183 0.74979575 0.76143791 0.75428922\n",
      " 0.74754902 0.76960784 0.7495915  0.81719771 0.80208333 0.77736928\n",
      " 0.75714869 0.79370915 0.79166667 0.77144608 0.75265523 0.72691993\n",
      " 0.6629902  0.68198529 0.64419935 0.62152778 0.6439951  0.66319444\n",
      " 0.67544935 0.63705065 0.64603758 0.65890523 0.65870098 0.67790033\n",
      " 0.63194444 0.63112745 0.62785948 0.64767157 0.63991013 0.63480392\n",
      " 0.63868464 0.62336601 0.62745098 0.63970588 0.64705882 0.66196895\n",
      " 0.67075163 0.65196078 0.63112745 0.61294935 0.6376634  0.62254902\n",
      " 0.62745098 0.63337418 0.62642974 0.63623366 0.58312908 0.57781863\n",
      " 0.57230392 0.58006536 0.57618464 0.55167484 0.57883987 0.625\n",
      " 0.63582516 0.62949346 0.62888072 0.62765523 0.62234477 0.63378268\n",
      " 0.62622549 0.62214052 0.62418301 0.20568144 0.20549963 0.20459767\n",
      " 0.20283619 0.20020334 0.19677752 0.19269347 0.1881137  0.18320698\n",
      " 0.178133   0.17303291 0.16802403 0.16319828 0.15862314 0.15434386\n",
      " 0.15038669 0.14676233 0.14346947 0.14049776 0.13783063 0.13544768\n",
      " 0.13332619 0.1314428  0.12977436 0.12829855 0.12699454]\n",
      "26 day output [[0.1258431]]\n",
      "27 day input [0.30085784 0.3002451  0.29370915 0.27185458 0.28002451 0.27308007\n",
      " 0.26062092 0.24816176 0.25367647 0.26940359 0.26327614 0.26388889\n",
      " 0.27961601 0.29187092 0.30187908 0.30228758 0.2943219  0.30473856\n",
      " 0.30085784 0.30004085 0.29064542 0.30841503 0.31658497 0.3192402\n",
      " 0.31556373 0.30821078 0.31004902 0.30984477 0.30147059 0.28676471\n",
      " 0.27124183 0.27859477 0.27593954 0.28472222 0.28860294 0.28227124\n",
      " 0.30718954 0.29575163 0.31372549 0.3496732  0.36172386 0.37908497\n",
      " 0.38582516 0.3809232  0.39236111 0.37908497 0.38480392 0.3690768\n",
      " 0.37275327 0.36376634 0.36846405 0.37275327 0.35723039 0.36029412\n",
      " 0.3619281  0.35355392 0.34375    0.3500817  0.34926471 0.36560458\n",
      " 0.34742647 0.3314951  0.3065768  0.34007353 0.3995098  0.46119281\n",
      " 0.44791667 0.46343954 0.47058824 0.44485294 0.47222222 0.4628268\n",
      " 0.45894608 0.44689542 0.47426471 0.47814542 0.47651144 0.45894608\n",
      " 0.47283497 0.51062092 0.50980392 0.51450163 0.52410131 0.53553922\n",
      " 0.51613562 0.53553922 0.52941176 0.54064542 0.55249183 0.54227941\n",
      " 0.53615196 0.49101307 0.47263072 0.50531046 0.48059641 0.49918301\n",
      " 0.51000817 0.5126634  0.50653595 0.5249183  0.52553105 0.52022059\n",
      " 0.52083333 0.52471405 0.53533497 0.52818627 0.52553105 0.52839052\n",
      " 0.51409314 0.50510621 0.49897876 0.52573529 0.50796569 0.52634804\n",
      " 0.57005719 0.59579248 0.59640523 0.59987745 0.59395425 0.58966503\n",
      " 0.62806373 0.58843954 0.58639706 0.65155229 0.63398693 0.62683824\n",
      " 0.67708333 0.6942402  0.69852941 0.7310049  0.79227941 0.78513072\n",
      " 0.78880719 0.79187092 0.80780229 0.80269608 0.84477124 0.81392974\n",
      " 0.84211601 0.82761438 0.80923203 0.8129085  0.79248366 0.82945261\n",
      " 0.84763072 0.8880719  0.84497549 0.83129085 0.8306781  0.84109477\n",
      " 0.85743464 0.89746732 0.89828431 0.89542484 0.90604575 0.91911765\n",
      " 0.91748366 0.92177288 0.96180556 0.94750817 0.94035948 0.94056373\n",
      " 0.94485294 0.94771242 0.96670752 0.95731209 0.95241013 0.94914216\n",
      " 1.         0.98876634 0.96180556 0.9501634  0.91707516 0.92892157\n",
      " 0.93096405 0.92422386 0.9121732  0.9121732  0.90216503 0.91115196\n",
      " 0.85661765 0.84722222 0.79207516 0.78492647 0.75878268 0.81372549\n",
      " 0.81495098 0.80596405 0.83394608 0.82107843 0.80923203 0.79513889\n",
      " 0.76388889 0.74305556 0.75837418 0.74019608 0.77512255 0.78656046\n",
      " 0.79268791 0.79473039 0.79207516 0.79534314 0.78921569 0.76776961\n",
      " 0.78615196 0.76552288 0.79697712 0.8057598  0.80698529 0.81147876\n",
      " 0.78206699 0.73386438 0.73978758 0.74448529 0.72671569 0.72283497\n",
      " 0.74040033 0.74693627 0.72630719 0.80065359 0.79187092 0.77328431\n",
      " 0.78451797 0.78329248 0.80412582 0.79473039 0.7879902  0.7879902\n",
      " 0.79473039 0.81168301 0.81699346 0.82986111 0.83843954 0.83884804\n",
      " 0.82781863 0.82598039 0.85028595 0.85886438 0.86254085 0.88480392\n",
      " 0.86519608 0.84027778 0.84497549 0.87111928 0.85273693 0.86213235\n",
      " 0.83455882 0.84375    0.71466503 0.66053922 0.65420752 0.68035131\n",
      " 0.6689134  0.66421569 0.67892157 0.69138072 0.70894608 0.72263072\n",
      " 0.73406863 0.72120098 0.74979575 0.7689951  0.74468954 0.7120098\n",
      " 0.74673203 0.75490196 0.76041667 0.75980392 0.74652778 0.76245915\n",
      " 0.77062908 0.80412582 0.78104575 0.79411765 0.76021242 0.73488562\n",
      " 0.72406046 0.73999183 0.74979575 0.76143791 0.75428922 0.74754902\n",
      " 0.76960784 0.7495915  0.81719771 0.80208333 0.77736928 0.75714869\n",
      " 0.79370915 0.79166667 0.77144608 0.75265523 0.72691993 0.6629902\n",
      " 0.68198529 0.64419935 0.62152778 0.6439951  0.66319444 0.67544935\n",
      " 0.63705065 0.64603758 0.65890523 0.65870098 0.67790033 0.63194444\n",
      " 0.63112745 0.62785948 0.64767157 0.63991013 0.63480392 0.63868464\n",
      " 0.62336601 0.62745098 0.63970588 0.64705882 0.66196895 0.67075163\n",
      " 0.65196078 0.63112745 0.61294935 0.6376634  0.62254902 0.62745098\n",
      " 0.63337418 0.62642974 0.63623366 0.58312908 0.57781863 0.57230392\n",
      " 0.58006536 0.57618464 0.55167484 0.57883987 0.625      0.63582516\n",
      " 0.62949346 0.62888072 0.62765523 0.62234477 0.63378268 0.62622549\n",
      " 0.62214052 0.62418301 0.20568144 0.20549963 0.20459767 0.20283619\n",
      " 0.20020334 0.19677752 0.19269347 0.1881137  0.18320698 0.178133\n",
      " 0.17303291 0.16802403 0.16319828 0.15862314 0.15434386 0.15038669\n",
      " 0.14676233 0.14346947 0.14049776 0.13783063 0.13544768 0.13332619\n",
      " 0.1314428  0.12977436 0.12829855 0.12699454 0.12584309]\n",
      "27 day output [[0.1248266]]\n",
      "28 day input [0.3002451  0.29370915 0.27185458 0.28002451 0.27308007 0.26062092\n",
      " 0.24816176 0.25367647 0.26940359 0.26327614 0.26388889 0.27961601\n",
      " 0.29187092 0.30187908 0.30228758 0.2943219  0.30473856 0.30085784\n",
      " 0.30004085 0.29064542 0.30841503 0.31658497 0.3192402  0.31556373\n",
      " 0.30821078 0.31004902 0.30984477 0.30147059 0.28676471 0.27124183\n",
      " 0.27859477 0.27593954 0.28472222 0.28860294 0.28227124 0.30718954\n",
      " 0.29575163 0.31372549 0.3496732  0.36172386 0.37908497 0.38582516\n",
      " 0.3809232  0.39236111 0.37908497 0.38480392 0.3690768  0.37275327\n",
      " 0.36376634 0.36846405 0.37275327 0.35723039 0.36029412 0.3619281\n",
      " 0.35355392 0.34375    0.3500817  0.34926471 0.36560458 0.34742647\n",
      " 0.3314951  0.3065768  0.34007353 0.3995098  0.46119281 0.44791667\n",
      " 0.46343954 0.47058824 0.44485294 0.47222222 0.4628268  0.45894608\n",
      " 0.44689542 0.47426471 0.47814542 0.47651144 0.45894608 0.47283497\n",
      " 0.51062092 0.50980392 0.51450163 0.52410131 0.53553922 0.51613562\n",
      " 0.53553922 0.52941176 0.54064542 0.55249183 0.54227941 0.53615196\n",
      " 0.49101307 0.47263072 0.50531046 0.48059641 0.49918301 0.51000817\n",
      " 0.5126634  0.50653595 0.5249183  0.52553105 0.52022059 0.52083333\n",
      " 0.52471405 0.53533497 0.52818627 0.52553105 0.52839052 0.51409314\n",
      " 0.50510621 0.49897876 0.52573529 0.50796569 0.52634804 0.57005719\n",
      " 0.59579248 0.59640523 0.59987745 0.59395425 0.58966503 0.62806373\n",
      " 0.58843954 0.58639706 0.65155229 0.63398693 0.62683824 0.67708333\n",
      " 0.6942402  0.69852941 0.7310049  0.79227941 0.78513072 0.78880719\n",
      " 0.79187092 0.80780229 0.80269608 0.84477124 0.81392974 0.84211601\n",
      " 0.82761438 0.80923203 0.8129085  0.79248366 0.82945261 0.84763072\n",
      " 0.8880719  0.84497549 0.83129085 0.8306781  0.84109477 0.85743464\n",
      " 0.89746732 0.89828431 0.89542484 0.90604575 0.91911765 0.91748366\n",
      " 0.92177288 0.96180556 0.94750817 0.94035948 0.94056373 0.94485294\n",
      " 0.94771242 0.96670752 0.95731209 0.95241013 0.94914216 1.\n",
      " 0.98876634 0.96180556 0.9501634  0.91707516 0.92892157 0.93096405\n",
      " 0.92422386 0.9121732  0.9121732  0.90216503 0.91115196 0.85661765\n",
      " 0.84722222 0.79207516 0.78492647 0.75878268 0.81372549 0.81495098\n",
      " 0.80596405 0.83394608 0.82107843 0.80923203 0.79513889 0.76388889\n",
      " 0.74305556 0.75837418 0.74019608 0.77512255 0.78656046 0.79268791\n",
      " 0.79473039 0.79207516 0.79534314 0.78921569 0.76776961 0.78615196\n",
      " 0.76552288 0.79697712 0.8057598  0.80698529 0.81147876 0.78206699\n",
      " 0.73386438 0.73978758 0.74448529 0.72671569 0.72283497 0.74040033\n",
      " 0.74693627 0.72630719 0.80065359 0.79187092 0.77328431 0.78451797\n",
      " 0.78329248 0.80412582 0.79473039 0.7879902  0.7879902  0.79473039\n",
      " 0.81168301 0.81699346 0.82986111 0.83843954 0.83884804 0.82781863\n",
      " 0.82598039 0.85028595 0.85886438 0.86254085 0.88480392 0.86519608\n",
      " 0.84027778 0.84497549 0.87111928 0.85273693 0.86213235 0.83455882\n",
      " 0.84375    0.71466503 0.66053922 0.65420752 0.68035131 0.6689134\n",
      " 0.66421569 0.67892157 0.69138072 0.70894608 0.72263072 0.73406863\n",
      " 0.72120098 0.74979575 0.7689951  0.74468954 0.7120098  0.74673203\n",
      " 0.75490196 0.76041667 0.75980392 0.74652778 0.76245915 0.77062908\n",
      " 0.80412582 0.78104575 0.79411765 0.76021242 0.73488562 0.72406046\n",
      " 0.73999183 0.74979575 0.76143791 0.75428922 0.74754902 0.76960784\n",
      " 0.7495915  0.81719771 0.80208333 0.77736928 0.75714869 0.79370915\n",
      " 0.79166667 0.77144608 0.75265523 0.72691993 0.6629902  0.68198529\n",
      " 0.64419935 0.62152778 0.6439951  0.66319444 0.67544935 0.63705065\n",
      " 0.64603758 0.65890523 0.65870098 0.67790033 0.63194444 0.63112745\n",
      " 0.62785948 0.64767157 0.63991013 0.63480392 0.63868464 0.62336601\n",
      " 0.62745098 0.63970588 0.64705882 0.66196895 0.67075163 0.65196078\n",
      " 0.63112745 0.61294935 0.6376634  0.62254902 0.62745098 0.63337418\n",
      " 0.62642974 0.63623366 0.58312908 0.57781863 0.57230392 0.58006536\n",
      " 0.57618464 0.55167484 0.57883987 0.625      0.63582516 0.62949346\n",
      " 0.62888072 0.62765523 0.62234477 0.63378268 0.62622549 0.62214052\n",
      " 0.62418301 0.20568144 0.20549963 0.20459767 0.20283619 0.20020334\n",
      " 0.19677752 0.19269347 0.1881137  0.18320698 0.178133   0.17303291\n",
      " 0.16802403 0.16319828 0.15862314 0.15434386 0.15038669 0.14676233\n",
      " 0.14346947 0.14049776 0.13783063 0.13544768 0.13332619 0.1314428\n",
      " 0.12977436 0.12829855 0.12699454 0.12584309 0.1248266 ]\n",
      "28 day output [[0.12392938]]\n",
      "29 day input [0.29370915 0.27185458 0.28002451 0.27308007 0.26062092 0.24816176\n",
      " 0.25367647 0.26940359 0.26327614 0.26388889 0.27961601 0.29187092\n",
      " 0.30187908 0.30228758 0.2943219  0.30473856 0.30085784 0.30004085\n",
      " 0.29064542 0.30841503 0.31658497 0.3192402  0.31556373 0.30821078\n",
      " 0.31004902 0.30984477 0.30147059 0.28676471 0.27124183 0.27859477\n",
      " 0.27593954 0.28472222 0.28860294 0.28227124 0.30718954 0.29575163\n",
      " 0.31372549 0.3496732  0.36172386 0.37908497 0.38582516 0.3809232\n",
      " 0.39236111 0.37908497 0.38480392 0.3690768  0.37275327 0.36376634\n",
      " 0.36846405 0.37275327 0.35723039 0.36029412 0.3619281  0.35355392\n",
      " 0.34375    0.3500817  0.34926471 0.36560458 0.34742647 0.3314951\n",
      " 0.3065768  0.34007353 0.3995098  0.46119281 0.44791667 0.46343954\n",
      " 0.47058824 0.44485294 0.47222222 0.4628268  0.45894608 0.44689542\n",
      " 0.47426471 0.47814542 0.47651144 0.45894608 0.47283497 0.51062092\n",
      " 0.50980392 0.51450163 0.52410131 0.53553922 0.51613562 0.53553922\n",
      " 0.52941176 0.54064542 0.55249183 0.54227941 0.53615196 0.49101307\n",
      " 0.47263072 0.50531046 0.48059641 0.49918301 0.51000817 0.5126634\n",
      " 0.50653595 0.5249183  0.52553105 0.52022059 0.52083333 0.52471405\n",
      " 0.53533497 0.52818627 0.52553105 0.52839052 0.51409314 0.50510621\n",
      " 0.49897876 0.52573529 0.50796569 0.52634804 0.57005719 0.59579248\n",
      " 0.59640523 0.59987745 0.59395425 0.58966503 0.62806373 0.58843954\n",
      " 0.58639706 0.65155229 0.63398693 0.62683824 0.67708333 0.6942402\n",
      " 0.69852941 0.7310049  0.79227941 0.78513072 0.78880719 0.79187092\n",
      " 0.80780229 0.80269608 0.84477124 0.81392974 0.84211601 0.82761438\n",
      " 0.80923203 0.8129085  0.79248366 0.82945261 0.84763072 0.8880719\n",
      " 0.84497549 0.83129085 0.8306781  0.84109477 0.85743464 0.89746732\n",
      " 0.89828431 0.89542484 0.90604575 0.91911765 0.91748366 0.92177288\n",
      " 0.96180556 0.94750817 0.94035948 0.94056373 0.94485294 0.94771242\n",
      " 0.96670752 0.95731209 0.95241013 0.94914216 1.         0.98876634\n",
      " 0.96180556 0.9501634  0.91707516 0.92892157 0.93096405 0.92422386\n",
      " 0.9121732  0.9121732  0.90216503 0.91115196 0.85661765 0.84722222\n",
      " 0.79207516 0.78492647 0.75878268 0.81372549 0.81495098 0.80596405\n",
      " 0.83394608 0.82107843 0.80923203 0.79513889 0.76388889 0.74305556\n",
      " 0.75837418 0.74019608 0.77512255 0.78656046 0.79268791 0.79473039\n",
      " 0.79207516 0.79534314 0.78921569 0.76776961 0.78615196 0.76552288\n",
      " 0.79697712 0.8057598  0.80698529 0.81147876 0.78206699 0.73386438\n",
      " 0.73978758 0.74448529 0.72671569 0.72283497 0.74040033 0.74693627\n",
      " 0.72630719 0.80065359 0.79187092 0.77328431 0.78451797 0.78329248\n",
      " 0.80412582 0.79473039 0.7879902  0.7879902  0.79473039 0.81168301\n",
      " 0.81699346 0.82986111 0.83843954 0.83884804 0.82781863 0.82598039\n",
      " 0.85028595 0.85886438 0.86254085 0.88480392 0.86519608 0.84027778\n",
      " 0.84497549 0.87111928 0.85273693 0.86213235 0.83455882 0.84375\n",
      " 0.71466503 0.66053922 0.65420752 0.68035131 0.6689134  0.66421569\n",
      " 0.67892157 0.69138072 0.70894608 0.72263072 0.73406863 0.72120098\n",
      " 0.74979575 0.7689951  0.74468954 0.7120098  0.74673203 0.75490196\n",
      " 0.76041667 0.75980392 0.74652778 0.76245915 0.77062908 0.80412582\n",
      " 0.78104575 0.79411765 0.76021242 0.73488562 0.72406046 0.73999183\n",
      " 0.74979575 0.76143791 0.75428922 0.74754902 0.76960784 0.7495915\n",
      " 0.81719771 0.80208333 0.77736928 0.75714869 0.79370915 0.79166667\n",
      " 0.77144608 0.75265523 0.72691993 0.6629902  0.68198529 0.64419935\n",
      " 0.62152778 0.6439951  0.66319444 0.67544935 0.63705065 0.64603758\n",
      " 0.65890523 0.65870098 0.67790033 0.63194444 0.63112745 0.62785948\n",
      " 0.64767157 0.63991013 0.63480392 0.63868464 0.62336601 0.62745098\n",
      " 0.63970588 0.64705882 0.66196895 0.67075163 0.65196078 0.63112745\n",
      " 0.61294935 0.6376634  0.62254902 0.62745098 0.63337418 0.62642974\n",
      " 0.63623366 0.58312908 0.57781863 0.57230392 0.58006536 0.57618464\n",
      " 0.55167484 0.57883987 0.625      0.63582516 0.62949346 0.62888072\n",
      " 0.62765523 0.62234477 0.63378268 0.62622549 0.62214052 0.62418301\n",
      " 0.20568144 0.20549963 0.20459767 0.20283619 0.20020334 0.19677752\n",
      " 0.19269347 0.1881137  0.18320698 0.178133   0.17303291 0.16802403\n",
      " 0.16319828 0.15862314 0.15434386 0.15038669 0.14676233 0.14346947\n",
      " 0.14049776 0.13783063 0.13544768 0.13332619 0.1314428  0.12977436\n",
      " 0.12829855 0.12699454 0.12584309 0.1248266  0.12392938]\n",
      "29 day output [[0.1231373]]\n",
      "[[0.2056814432144165], [0.20549963414669037], [0.20459766685962677], [0.20283618569374084], [0.20020334422588348], [0.19677752256393433], [0.19269347190856934], [0.18811370432376862], [0.1832069754600525], [0.17813299596309662], [0.17303290963172913], [0.16802403330802917], [0.16319827735424042], [0.15862314403057098], [0.1543438583612442], [0.15038669109344482], [0.14676232635974884], [0.14346946775913239], [0.14049775898456573], [0.13783062994480133], [0.1354476809501648], [0.1333261877298355], [0.13144280016422272], [0.12977436184883118], [0.1282985508441925], [0.1269945353269577], [0.1258430927991867], [0.1248265951871872], [0.12392938137054443], [0.12313729524612427]]\n"
     ]
    }
   ],
   "source": [
    "# demonstrate prediction for next 10 days\n",
    "from numpy import array\n",
    "\n",
    "lst_output=[]\n",
    "n_steps=100\n",
    "i=0\n",
    "while(i<30):\n",
    "    \n",
    "    if(len(temp_input)>100):\n",
    "        #print(temp_input)\n",
    "        x_input=np.array(temp_input[1:])\n",
    "        print(\"{} day input {}\".format(i,x_input))\n",
    "        x_input=x_input.reshape(1,-1)\n",
    "        x_input = x_input.reshape((1,371,1))\n",
    "        #print(x_input)\n",
    "        yhat = model.predict(x_input, verbose=0)\n",
    "        print(\"{} day output {}\".format(i,yhat))\n",
    "        temp_input.extend(yhat[0].tolist())\n",
    "        temp_input=temp_input[1:]\n",
    "        #print(temp_input)\n",
    "        lst_output.extend(yhat.tolist())\n",
    "        i=i+1\n",
    "    else:\n",
    "        x_input = x_input.reshape((1, n_steps,1))\n",
    "        yhat = model.predict(x_input, verbose=0)\n",
    "        print(yhat[0])\n",
    "        temp_input.extend(yhat[0].tolist())\n",
    "        print(len(temp_input))\n",
    "        lst_output.extend(yhat.tolist())\n",
    "        i=i+1\n",
    "    \n",
    "\n",
    "print(lst_output)"
   ]
  }
 ],
 "metadata": {
  "kernelspec": {
   "display_name": "Python 3",
   "language": "python",
   "name": "python3"
  },
  "language_info": {
   "codemirror_mode": {
    "name": "ipython",
    "version": 3
   },
   "file_extension": ".py",
   "mimetype": "text/x-python",
   "name": "python",
   "nbconvert_exporter": "python",
   "pygments_lexer": "ipython3",
   "version": "3.7.10"
  },
  "papermill": {
   "default_parameters": {},
   "duration": 236.163247,
   "end_time": "2021-09-24T19:14:38.944075",
   "environment_variables": {},
   "exception": null,
   "input_path": "__notebook__.ipynb",
   "output_path": "__notebook__.ipynb",
   "parameters": {},
   "start_time": "2021-09-24T19:10:42.780828",
   "version": "2.3.3"
  }
 },
 "nbformat": 4,
 "nbformat_minor": 5
}
